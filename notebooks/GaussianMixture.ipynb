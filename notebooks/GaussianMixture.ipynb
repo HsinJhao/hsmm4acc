{
 "cells": [
  {
   "cell_type": "code",
   "execution_count": 38,
   "metadata": {
    "collapsed": true
   },
   "outputs": [],
   "source": [
    "%gui wx"
   ]
  },
  {
   "cell_type": "code",
   "execution_count": 39,
   "metadata": {
    "collapsed": true
   },
   "outputs": [],
   "source": [
    "from mayavi import mlab\n",
    "import pandas as pd\n",
    "import numpy as np\n",
    "import matplotlib.pyplot as plt\n",
    "import os\n",
    "import sys"
   ]
  },
  {
   "cell_type": "code",
   "execution_count": 40,
   "metadata": {
    "collapsed": true
   },
   "outputs": [],
   "source": [
    "datadir = \"/media/sf_VBox_Shared/London/raw/first5/\"\n",
    "filesdir = os.path.join(datadir, 'datawithstates/model_4states.pkl')"
   ]
  },
  {
   "cell_type": "code",
   "execution_count": 71,
   "metadata": {
    "collapsed": false
   },
   "outputs": [
    {
     "name": "stdout",
     "output_type": "stream",
     "text": [
      "11\n"
     ]
    }
   ],
   "source": [
    "filenames = os.listdir(filesdir)\n",
    "filenames = [fn for fn in filenames if os.path.isfile(os.path.join(filesdir,fn))]\n",
    "datasets = [pd.read_csv(os.path.join(filesdir,fn)) for fn in filenames]\n",
    "print(len(datasets))"
   ]
  },
  {
   "cell_type": "code",
   "execution_count": 99,
   "metadata": {
    "collapsed": true
   },
   "outputs": [],
   "source": [
    "all_data = pd.concat(datasets)\n",
    "#exampledata = all_data\n",
    "exampledata = datasets[2]"
   ]
  },
  {
   "cell_type": "code",
   "execution_count": 73,
   "metadata": {
    "collapsed": false
   },
   "outputs": [
    {
     "name": "stdout",
     "output_type": "stream",
     "text": [
      "Index([u'timestamp', u'acceleration', u'EN', u'anglex', u'angley', u'anglez',\n",
      "       u'roll_med_acc_x', u'roll_med_acc_y', u'roll_med_acc_z',\n",
      "       u'dev_roll_med_acc_x', u'dev_roll_med_acc_y', u'dev_roll_med_acc_z',\n",
      "       u'invalid', u'filename', u'Slot', u'act', u'act_label', u'start_time',\n",
      "       u'subset', u'switched_pos', u'state'],\n",
      "      dtype='object')\n"
     ]
    }
   ],
   "source": [
    "print(exampledata.columns)"
   ]
  },
  {
   "cell_type": "code",
   "execution_count": 74,
   "metadata": {
    "collapsed": true
   },
   "outputs": [],
   "source": [
    "anglex = np.array(exampledata['anglex'])\n",
    "angley = np.array(exampledata['angley'])\n",
    "anglez = np.array(exampledata['anglez'])\n",
    "acc = np.array(exampledata['acceleration']) + 1"
   ]
  },
  {
   "cell_type": "code",
   "execution_count": 75,
   "metadata": {
    "collapsed": true
   },
   "outputs": [],
   "source": [
    "radtodegree = 180/np.pi\n",
    "theta = anglex/radtodegree\n",
    "psi = angley/radtodegree\n",
    "phi = anglez/radtodegree"
   ]
  },
  {
   "cell_type": "code",
   "execution_count": 76,
   "metadata": {
    "collapsed": true
   },
   "outputs": [],
   "source": [
    "x = np.sin(theta)\n",
    "y = np.sin(psi)\n",
    "z = np.tan(phi)*np.sqrt(x**2 + y**2)"
   ]
  },
  {
   "cell_type": "code",
   "execution_count": 77,
   "metadata": {
    "collapsed": true
   },
   "outputs": [],
   "source": [
    "a_x = x*acc\n",
    "a_y = y*acc\n",
    "a_z = z*acc"
   ]
  },
  {
   "cell_type": "code",
   "execution_count": 78,
   "metadata": {
    "collapsed": true
   },
   "outputs": [],
   "source": [
    "#spherical coordinates\n",
    "# They don work! because there is a discontinuity in phi_s\n",
    "theta_s = np.arccos(a_z/acc)\n",
    "phi_s = np.arctan(a_y/a_z)"
   ]
  },
  {
   "cell_type": "code",
   "execution_count": 79,
   "metadata": {
    "collapsed": false
   },
   "outputs": [
    {
     "data": {
      "text/plain": [
       "<mayavi.modules.glyph.Glyph at 0x7f2c1f505e90>"
      ]
     },
     "execution_count": 79,
     "metadata": {},
     "output_type": "execute_result"
    }
   ],
   "source": [
    "nmax = 10000\n",
    "mlab.points3d(a_x[:nmax], a_y[:nmax], a_z[:nmax], mode='point')"
   ]
  },
  {
   "cell_type": "markdown",
   "metadata": {},
   "source": [
    "## Clustering"
   ]
  },
  {
   "cell_type": "code",
   "execution_count": 100,
   "metadata": {
    "collapsed": false
   },
   "outputs": [],
   "source": [
    "nclusters = 4\n",
    "X_cart = np.array((a_x, a_y, a_z)).transpose()\n",
    "X_sphere = np.array((anglex, angley, anglez, acc)).transpose()\n",
    "X_sphere2 = np.array((theta_s, phi_s, acc)).transpose()"
   ]
  },
  {
   "cell_type": "code",
   "execution_count": 117,
   "metadata": {
    "collapsed": true
   },
   "outputs": [],
   "source": [
    "def predict_bayesian_gmm(X, nmodels):\n",
    "    n_obs = X.shape[1]\n",
    "    alpha_0 = 5.0\n",
    "    obs_hypparams = dict(mu_0=np.zeros(n_obs),sigma_0=np.eye(n_obs),kappa_0=0.05,nu_0=5)\n",
    "    model = models.Mixture(alpha_0=alpha_0,\n",
    "            components=[distributions.Gaussian(**obs_hypparams) for itr in range(nmodels)])\n",
    "    model.add_data(X)\n",
    "    for itr in range(100):\n",
    "        model.resample_model()\n",
    "    return [l.z for l in model.labels_list][0]"
   ]
  },
  {
   "cell_type": "markdown",
   "metadata": {},
   "source": [
    "Cluster on cartesian coordinates"
   ]
  },
  {
   "cell_type": "code",
   "execution_count": 91,
   "metadata": {
    "collapsed": false
   },
   "outputs": [],
   "source": [
    "from sklearn.mixture import GMM\n",
    "from pybasicbayes import models, distributions"
   ]
  },
  {
   "cell_type": "code",
   "execution_count": 82,
   "metadata": {
    "collapsed": true
   },
   "outputs": [],
   "source": [
    "gmm = GMM(nclusters, covariance_type='full')\n",
    "prediction = gmm.fit_predict(X_cart)"
   ]
  },
  {
   "cell_type": "code",
   "execution_count": 118,
   "metadata": {
    "collapsed": false
   },
   "outputs": [],
   "source": [
    "prediction = predict_bayesian_gmm(X_cart, nclusters)"
   ]
  },
  {
   "cell_type": "code",
   "execution_count": 121,
   "metadata": {
    "collapsed": false
   },
   "outputs": [
    {
     "data": {
      "text/plain": [
       "<mayavi.modules.glyph.Glyph at 0x7f2c21731a70>"
      ]
     },
     "execution_count": 121,
     "metadata": {},
     "output_type": "execute_result"
    }
   ],
   "source": [
    "sphere = mlab.points3d(0, 0, 0, scale_mode='none',\n",
    "                                scale_factor=2,\n",
    "                                color=(0.67, 0.77, 0.93),\n",
    "                                resolution=50,\n",
    "                                opacity=0.2)\n",
    "mlab.points3d(a_x[:nmax], a_y[:nmax], a_z[:nmax], prediction[:nmax], vmax=nclusters, mode='point')"
   ]
  },
  {
   "cell_type": "markdown",
   "metadata": {},
   "source": [
    "cluster on angles + acceleration"
   ]
  },
  {
   "cell_type": "code",
   "execution_count": 84,
   "metadata": {
    "collapsed": true
   },
   "outputs": [],
   "source": [
    "gmm = GMM(nclusters, covariance_type='full')\n",
    "prediction_sphere = gmm.fit_predict(X_sphere)"
   ]
  },
  {
   "cell_type": "code",
   "execution_count": 123,
   "metadata": {
    "collapsed": true
   },
   "outputs": [],
   "source": [
    "prediction_sphere = predict_bayesian_gmm(X_sphere, nclusters)"
   ]
  },
  {
   "cell_type": "code",
   "execution_count": 124,
   "metadata": {
    "collapsed": false
   },
   "outputs": [
    {
     "data": {
      "text/plain": [
       "<mayavi.modules.glyph.Glyph at 0x7f2c35fc1470>"
      ]
     },
     "execution_count": 124,
     "metadata": {},
     "output_type": "execute_result"
    }
   ],
   "source": [
    "sphere = mlab.points3d(0, 0, 0, scale_mode='none',\n",
    "                                scale_factor=2,\n",
    "                                color=(0.67, 0.77, 0.93),\n",
    "                                resolution=50,\n",
    "                                opacity=0.2)\n",
    "mlab.points3d(a_x[:nmax], a_y[:nmax], a_z[:nmax], prediction_sphere[:nmax], vmax=nclusters, mode='point')"
   ]
  },
  {
   "cell_type": "code",
   "execution_count": 86,
   "metadata": {
    "collapsed": true
   },
   "outputs": [],
   "source": [
    "gmm = GMM(nclusters, covariance_type='full')\n",
    "prediction_sphere2 = gmm.fit_predict(X_sphere2)"
   ]
  },
  {
   "cell_type": "code",
   "execution_count": 125,
   "metadata": {
    "collapsed": true
   },
   "outputs": [],
   "source": [
    "prediction_sphere2 = predict_bayesian_gmm(X_sphere2, nclusters)"
   ]
  },
  {
   "cell_type": "code",
   "execution_count": 126,
   "metadata": {
    "collapsed": false
   },
   "outputs": [
    {
     "data": {
      "text/plain": [
       "<mayavi.modules.glyph.Glyph at 0x7f2c213a4470>"
      ]
     },
     "execution_count": 126,
     "metadata": {},
     "output_type": "execute_result"
    }
   ],
   "source": [
    "sphere = mlab.points3d(0, 0, 0, scale_mode='none',\n",
    "                                scale_factor=2,\n",
    "                                color=(0.67, 0.77, 0.93),\n",
    "                                resolution=50,\n",
    "                                opacity=0.2)\n",
    "mlab.points3d(a_x[:nmax], a_y[:nmax], a_z[:nmax], prediction_sphere2[:nmax], vmax=nclusters, mode='point')"
   ]
  },
  {
   "cell_type": "code",
   "execution_count": null,
   "metadata": {
    "collapsed": true
   },
   "outputs": [],
   "source": []
  }
 ],
 "metadata": {
  "kernelspec": {
   "display_name": "Python 2",
   "language": "python",
   "name": "python2"
  },
  "language_info": {
   "codemirror_mode": {
    "name": "ipython",
    "version": 2
   },
   "file_extension": ".py",
   "mimetype": "text/x-python",
   "name": "python",
   "nbconvert_exporter": "python",
   "pygments_lexer": "ipython2",
   "version": "2.7.12"
  }
 },
 "nbformat": 4,
 "nbformat_minor": 0
}
