{
 "cells": [
  {
   "cell_type": "code",
   "execution_count": 1,
   "metadata": {
    "collapsed": true
   },
   "outputs": [],
   "source": [
    "%gui wx\n",
    "#%matplotlib inline"
   ]
  },
  {
   "cell_type": "code",
   "execution_count": 2,
   "metadata": {
    "collapsed": false
   },
   "outputs": [],
   "source": [
    "from mayavi import mlab\n",
    "import pandas as pd\n",
    "import numpy as np\n",
    "import matplotlib.pyplot as plt"
   ]
  },
  {
   "cell_type": "code",
   "execution_count": 3,
   "metadata": {
    "collapsed": false
   },
   "outputs": [
    {
     "name": "stdout",
     "output_type": "stream",
     "text": [
      "(3456000, 3)\n"
     ]
    }
   ],
   "source": [
    "path_to_file40Hz = \"/media/sf_VBox_Shared/London/accelerometer_40Hz/__016563_2014-08-08 12-02-19.bin_day1.RData.csv\"\n",
    "day1_40Hz = pd.read_csv(path_to_file40Hz)\n",
    "#path_to_file5sec = \"/media/sf_VBox_Shared/London/accelerometer_5second/__016563_2014-08-08 12-02-19.bin_day1.csv\"\n",
    "#day1_5sec = pd.read_csv(path_to_file5sec)\n",
    "print(day1_40Hz.shape)"
   ]
  },
  {
   "cell_type": "code",
   "execution_count": 4,
   "metadata": {
    "collapsed": false
   },
   "outputs": [],
   "source": [
    "a_x = day1_40Hz['Gx']\n",
    "a_y = day1_40Hz['Gy']\n",
    "a_z = day1_40Hz['Gz']\n",
    "size = np.sqrt(a_x**2 + a_y**2 + a_z**2)\n",
    "pos_x = a_x/size\n",
    "pos_y = a_y/size\n",
    "pos_z = a_z/size"
   ]
  },
  {
   "cell_type": "code",
   "execution_count": 6,
   "metadata": {
    "collapsed": false
   },
   "outputs": [
    {
     "data": {
      "text/plain": [
       "<mayavi.modules.glyph.Glyph at 0x7f85e1fe3770>"
      ]
     },
     "execution_count": 6,
     "metadata": {},
     "output_type": "execute_result"
    }
   ],
   "source": [
    "nmax = 1000000\n",
    "mlab.points3d(pos_x[:nmax], pos_y[:nmax], pos_z[:nmax], size[:nmax], vmin=1, vmax=1.3, mode='point')"
   ]
  },
  {
   "cell_type": "code",
   "execution_count": 23,
   "metadata": {
    "collapsed": false
   },
   "outputs": [
    {
     "data": {
      "text/plain": [
       "<mayavi.modules.glyph.Glyph at 0x7f909a712470>"
      ]
     },
     "execution_count": 23,
     "metadata": {},
     "output_type": "execute_result"
    }
   ],
   "source": [
    "nmax = 500000\n",
    "sphere = mlab.points3d(0, 0, 0, scale_mode='none',\n",
    "                                scale_factor=2,\n",
    "                                color=(0.67, 0.77, 0.93),\n",
    "                                resolution=50,\n",
    "                                opacity=0.2)\n",
    "mlab.points3d(a_x[:nmax], a_y[:nmax], a_z[:nmax], mode='point')"
   ]
  },
  {
   "cell_type": "code",
   "execution_count": 16,
   "metadata": {
    "collapsed": false
   },
   "outputs": [
    {
     "data": {
      "text/html": [
       "<div>\n",
       "<table border=\"1\" class=\"dataframe\">\n",
       "  <thead>\n",
       "    <tr style=\"text-align: right;\">\n",
       "      <th></th>\n",
       "      <th>x</th>\n",
       "      <th>y</th>\n",
       "      <th>z</th>\n",
       "    </tr>\n",
       "  </thead>\n",
       "  <tbody>\n",
       "    <tr>\n",
       "      <th>0</th>\n",
       "      <td>0.457125</td>\n",
       "      <td>0.648646</td>\n",
       "      <td>-0.608519</td>\n",
       "    </tr>\n",
       "    <tr>\n",
       "      <th>1</th>\n",
       "      <td>0.465392</td>\n",
       "      <td>0.624250</td>\n",
       "      <td>-0.627473</td>\n",
       "    </tr>\n",
       "    <tr>\n",
       "      <th>2</th>\n",
       "      <td>0.456708</td>\n",
       "      <td>0.629365</td>\n",
       "      <td>-0.628743</td>\n",
       "    </tr>\n",
       "    <tr>\n",
       "      <th>3</th>\n",
       "      <td>0.456873</td>\n",
       "      <td>0.646649</td>\n",
       "      <td>-0.610829</td>\n",
       "    </tr>\n",
       "    <tr>\n",
       "      <th>4</th>\n",
       "      <td>0.450719</td>\n",
       "      <td>0.645109</td>\n",
       "      <td>-0.616998</td>\n",
       "    </tr>\n",
       "  </tbody>\n",
       "</table>\n",
       "</div>"
      ],
      "text/plain": [
       "          x         y         z\n",
       "0  0.457125  0.648646 -0.608519\n",
       "1  0.465392  0.624250 -0.627473\n",
       "2  0.456708  0.629365 -0.628743\n",
       "3  0.456873  0.646649 -0.610829\n",
       "4  0.450719  0.645109 -0.616998"
      ]
     },
     "execution_count": 16,
     "metadata": {},
     "output_type": "execute_result"
    }
   ],
   "source": [
    "positions = pd.DataFrame({'x':pos_x, 'y':pos_y, 'z':pos_z})\n",
    "positions.head()"
   ]
  },
  {
   "cell_type": "code",
   "execution_count": null,
   "metadata": {
    "collapsed": true
   },
   "outputs": [],
   "source": []
  }
 ],
 "metadata": {
  "kernelspec": {
   "display_name": "Python 2",
   "language": "python",
   "name": "python2"
  },
  "language_info": {
   "codemirror_mode": {
    "name": "ipython",
    "version": 2
   },
   "file_extension": ".py",
   "mimetype": "text/x-python",
   "name": "python",
   "nbconvert_exporter": "python",
   "pygments_lexer": "ipython2",
   "version": "2.7.12"
  }
 },
 "nbformat": 4,
 "nbformat_minor": 0
}
