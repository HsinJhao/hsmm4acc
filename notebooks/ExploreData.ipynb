{
 "cells": [
  {
   "cell_type": "code",
   "execution_count": 29,
   "metadata": {
    "collapsed": false
   },
   "outputs": [
    {
     "name": "stdout",
     "output_type": "stream",
     "text": [
      "Populating the interactive namespace from numpy and matplotlib\n"
     ]
    }
   ],
   "source": [
    "import pandas as pd\n",
    "%pylab inline\n",
    "import datetime"
   ]
  },
  {
   "cell_type": "code",
   "execution_count": 34,
   "metadata": {
    "collapsed": true
   },
   "outputs": [],
   "source": [
    "path_to_file40Hz = \"/media/sf_VBox_Shared/London/accelerometer_40Hz/__016563_2014-08-08 12-02-19.bin_day1.RData.csv\"\n",
    "day1_40Hz = pd.read_csv(path_to_file40Hz)\n",
    "path_to_file5sec = \"/media/sf_VBox_Shared/London/accelerometer_5second/__016563_2014-08-08 12-02-19.bin_day1.csv\"\n",
    "day1_5sec = pd.read_csv(path_to_file5sec)"
   ]
  },
  {
   "cell_type": "code",
   "execution_count": 4,
   "metadata": {
    "collapsed": false
   },
   "outputs": [
    {
     "data": {
      "text/html": [
       "<div>\n",
       "<table border=\"1\" class=\"dataframe\">\n",
       "  <thead>\n",
       "    <tr style=\"text-align: right;\">\n",
       "      <th></th>\n",
       "      <th>Gx</th>\n",
       "      <th>Gy</th>\n",
       "      <th>Gz</th>\n",
       "    </tr>\n",
       "  </thead>\n",
       "  <tbody>\n",
       "    <tr>\n",
       "      <th>0</th>\n",
       "      <td>0.459432</td>\n",
       "      <td>0.651919</td>\n",
       "      <td>-0.611590</td>\n",
       "    </tr>\n",
       "    <tr>\n",
       "      <th>1</th>\n",
       "      <td>0.471297</td>\n",
       "      <td>0.632170</td>\n",
       "      <td>-0.635435</td>\n",
       "    </tr>\n",
       "    <tr>\n",
       "      <th>2</th>\n",
       "      <td>0.467342</td>\n",
       "      <td>0.644020</td>\n",
       "      <td>-0.643383</td>\n",
       "    </tr>\n",
       "    <tr>\n",
       "      <th>3</th>\n",
       "      <td>0.463387</td>\n",
       "      <td>0.655869</td>\n",
       "      <td>-0.619538</td>\n",
       "    </tr>\n",
       "    <tr>\n",
       "      <th>4</th>\n",
       "      <td>0.455478</td>\n",
       "      <td>0.651919</td>\n",
       "      <td>-0.623512</td>\n",
       "    </tr>\n",
       "  </tbody>\n",
       "</table>\n",
       "</div>"
      ],
      "text/plain": [
       "         Gx        Gy        Gz\n",
       "0  0.459432  0.651919 -0.611590\n",
       "1  0.471297  0.632170 -0.635435\n",
       "2  0.467342  0.644020 -0.643383\n",
       "3  0.463387  0.655869 -0.619538\n",
       "4  0.455478  0.651919 -0.623512"
      ]
     },
     "execution_count": 4,
     "metadata": {},
     "output_type": "execute_result"
    }
   ],
   "source": [
    "day1_40Hz.head()"
   ]
  },
  {
   "cell_type": "code",
   "execution_count": 16,
   "metadata": {
    "collapsed": false
   },
   "outputs": [
    {
     "data": {
      "text/html": [
       "<div>\n",
       "<table border=\"1\" class=\"dataframe\">\n",
       "  <thead>\n",
       "    <tr style=\"text-align: right;\">\n",
       "      <th></th>\n",
       "      <th>Gx</th>\n",
       "      <th>Gy</th>\n",
       "      <th>Gz</th>\n",
       "    </tr>\n",
       "  </thead>\n",
       "  <tbody>\n",
       "    <tr>\n",
       "      <th>count</th>\n",
       "      <td>3.456000e+06</td>\n",
       "      <td>3.456000e+06</td>\n",
       "      <td>3.456000e+06</td>\n",
       "    </tr>\n",
       "    <tr>\n",
       "      <th>mean</th>\n",
       "      <td>-2.787586e-01</td>\n",
       "      <td>8.501921e-02</td>\n",
       "      <td>-1.914466e-01</td>\n",
       "    </tr>\n",
       "    <tr>\n",
       "      <th>std</th>\n",
       "      <td>5.353071e-01</td>\n",
       "      <td>4.880666e-01</td>\n",
       "      <td>6.429143e-01</td>\n",
       "    </tr>\n",
       "    <tr>\n",
       "      <th>min</th>\n",
       "      <td>-8.076708e+00</td>\n",
       "      <td>-8.084580e+00</td>\n",
       "      <td>-8.094005e+00</td>\n",
       "    </tr>\n",
       "    <tr>\n",
       "      <th>25%</th>\n",
       "      <td>-6.745605e-01</td>\n",
       "      <td>-1.917690e-01</td>\n",
       "      <td>-7.720124e-01</td>\n",
       "    </tr>\n",
       "    <tr>\n",
       "      <th>50%</th>\n",
       "      <td>-3.905720e-01</td>\n",
       "      <td>7.734796e-02</td>\n",
       "      <td>-3.128317e-01</td>\n",
       "    </tr>\n",
       "    <tr>\n",
       "      <th>75%</th>\n",
       "      <td>1.015340e-01</td>\n",
       "      <td>4.445791e-01</td>\n",
       "      <td>3.608886e-01</td>\n",
       "    </tr>\n",
       "    <tr>\n",
       "      <th>max</th>\n",
       "      <td>8.119701e+00</td>\n",
       "      <td>8.090655e+00</td>\n",
       "      <td>8.184759e+00</td>\n",
       "    </tr>\n",
       "  </tbody>\n",
       "</table>\n",
       "</div>"
      ],
      "text/plain": [
       "                 Gx            Gy            Gz\n",
       "count  3.456000e+06  3.456000e+06  3.456000e+06\n",
       "mean  -2.787586e-01  8.501921e-02 -1.914466e-01\n",
       "std    5.353071e-01  4.880666e-01  6.429143e-01\n",
       "min   -8.076708e+00 -8.084580e+00 -8.094005e+00\n",
       "25%   -6.745605e-01 -1.917690e-01 -7.720124e-01\n",
       "50%   -3.905720e-01  7.734796e-02 -3.128317e-01\n",
       "75%    1.015340e-01  4.445791e-01  3.608886e-01\n",
       "max    8.119701e+00  8.090655e+00  8.184759e+00"
      ]
     },
     "execution_count": 16,
     "metadata": {},
     "output_type": "execute_result"
    }
   ],
   "source": [
    "day1_40Hz.describe()"
   ]
  },
  {
   "cell_type": "code",
   "execution_count": 35,
   "metadata": {
    "collapsed": false
   },
   "outputs": [
    {
     "data": {
      "text/html": [
       "<div>\n",
       "<table border=\"1\" class=\"dataframe\">\n",
       "  <thead>\n",
       "    <tr style=\"text-align: right;\">\n",
       "      <th></th>\n",
       "      <th>acceleration</th>\n",
       "      <th>anglex</th>\n",
       "      <th>angley</th>\n",
       "      <th>anglez</th>\n",
       "      <th>invalid</th>\n",
       "    </tr>\n",
       "    <tr>\n",
       "      <th>timestamp</th>\n",
       "      <th></th>\n",
       "      <th></th>\n",
       "      <th></th>\n",
       "      <th></th>\n",
       "      <th></th>\n",
       "    </tr>\n",
       "  </thead>\n",
       "  <tbody>\n",
       "    <tr>\n",
       "      <th>2014-08-01 04:00:00</th>\n",
       "      <td>0.014778</td>\n",
       "      <td>27.403869</td>\n",
       "      <td>39.648207</td>\n",
       "      <td>-38.117174</td>\n",
       "      <td>0</td>\n",
       "    </tr>\n",
       "    <tr>\n",
       "      <th>2014-08-01 04:00:05</th>\n",
       "      <td>0.014978</td>\n",
       "      <td>27.407743</td>\n",
       "      <td>39.603882</td>\n",
       "      <td>-38.158723</td>\n",
       "      <td>0</td>\n",
       "    </tr>\n",
       "    <tr>\n",
       "      <th>2014-08-01 04:00:10</th>\n",
       "      <td>0.013872</td>\n",
       "      <td>27.428900</td>\n",
       "      <td>39.538962</td>\n",
       "      <td>-38.206537</td>\n",
       "      <td>0</td>\n",
       "    </tr>\n",
       "    <tr>\n",
       "      <th>2014-08-01 04:00:15</th>\n",
       "      <td>0.015469</td>\n",
       "      <td>27.417167</td>\n",
       "      <td>39.553611</td>\n",
       "      <td>-38.201570</td>\n",
       "      <td>0</td>\n",
       "    </tr>\n",
       "    <tr>\n",
       "      <th>2014-08-01 04:00:20</th>\n",
       "      <td>0.014622</td>\n",
       "      <td>27.420342</td>\n",
       "      <td>39.680349</td>\n",
       "      <td>-38.070763</td>\n",
       "      <td>0</td>\n",
       "    </tr>\n",
       "  </tbody>\n",
       "</table>\n",
       "</div>"
      ],
      "text/plain": [
       "                     acceleration     anglex     angley     anglez  invalid\n",
       "timestamp                                                                  \n",
       "2014-08-01 04:00:00      0.014778  27.403869  39.648207 -38.117174        0\n",
       "2014-08-01 04:00:05      0.014978  27.407743  39.603882 -38.158723        0\n",
       "2014-08-01 04:00:10      0.013872  27.428900  39.538962 -38.206537        0\n",
       "2014-08-01 04:00:15      0.015469  27.417167  39.553611 -38.201570        0\n",
       "2014-08-01 04:00:20      0.014622  27.420342  39.680349 -38.070763        0"
      ]
     },
     "execution_count": 35,
     "metadata": {},
     "output_type": "execute_result"
    }
   ],
   "source": [
    "day1_5sec = day1_5sec.set_index('timestamp')\n",
    "day1_5sec.index = pd.to_datetime(day1_5sec.index)\n",
    "day1_5sec.head()"
   ]
  },
  {
   "cell_type": "code",
   "execution_count": 36,
   "metadata": {
    "collapsed": false
   },
   "outputs": [
    {
     "data": {
      "text/html": [
       "<div>\n",
       "<table border=\"1\" class=\"dataframe\">\n",
       "  <thead>\n",
       "    <tr style=\"text-align: right;\">\n",
       "      <th></th>\n",
       "      <th>acceleration</th>\n",
       "      <th>anglex</th>\n",
       "      <th>angley</th>\n",
       "      <th>anglez</th>\n",
       "      <th>invalid</th>\n",
       "    </tr>\n",
       "  </thead>\n",
       "  <tbody>\n",
       "    <tr>\n",
       "      <th>count</th>\n",
       "      <td>17280.000000</td>\n",
       "      <td>17280.000000</td>\n",
       "      <td>17280.000000</td>\n",
       "      <td>17280.000000</td>\n",
       "      <td>17280.0</td>\n",
       "    </tr>\n",
       "    <tr>\n",
       "      <th>mean</th>\n",
       "      <td>0.033875</td>\n",
       "      <td>-19.450089</td>\n",
       "      <td>5.040339</td>\n",
       "      <td>-12.831376</td>\n",
       "      <td>0.0</td>\n",
       "    </tr>\n",
       "    <tr>\n",
       "      <th>std</th>\n",
       "      <td>0.068281</td>\n",
       "      <td>35.027338</td>\n",
       "      <td>30.652264</td>\n",
       "      <td>42.817120</td>\n",
       "      <td>0.0</td>\n",
       "    </tr>\n",
       "    <tr>\n",
       "      <th>min</th>\n",
       "      <td>0.000000</td>\n",
       "      <td>-89.471802</td>\n",
       "      <td>-88.310252</td>\n",
       "      <td>-89.357972</td>\n",
       "      <td>0.0</td>\n",
       "    </tr>\n",
       "    <tr>\n",
       "      <th>25%</th>\n",
       "      <td>0.006206</td>\n",
       "      <td>-43.321844</td>\n",
       "      <td>-11.520680</td>\n",
       "      <td>-49.264784</td>\n",
       "      <td>0.0</td>\n",
       "    </tr>\n",
       "    <tr>\n",
       "      <th>50%</th>\n",
       "      <td>0.013831</td>\n",
       "      <td>-24.961949</td>\n",
       "      <td>3.639430</td>\n",
       "      <td>-16.713578</td>\n",
       "      <td>0.0</td>\n",
       "    </tr>\n",
       "    <tr>\n",
       "      <th>75%</th>\n",
       "      <td>0.028480</td>\n",
       "      <td>4.502756</td>\n",
       "      <td>25.199664</td>\n",
       "      <td>18.026841</td>\n",
       "      <td>0.0</td>\n",
       "    </tr>\n",
       "    <tr>\n",
       "      <th>max</th>\n",
       "      <td>2.030572</td>\n",
       "      <td>85.110331</td>\n",
       "      <td>87.392260</td>\n",
       "      <td>86.305427</td>\n",
       "      <td>0.0</td>\n",
       "    </tr>\n",
       "  </tbody>\n",
       "</table>\n",
       "</div>"
      ],
      "text/plain": [
       "       acceleration        anglex        angley        anglez  invalid\n",
       "count  17280.000000  17280.000000  17280.000000  17280.000000  17280.0\n",
       "mean       0.033875    -19.450089      5.040339    -12.831376      0.0\n",
       "std        0.068281     35.027338     30.652264     42.817120      0.0\n",
       "min        0.000000    -89.471802    -88.310252    -89.357972      0.0\n",
       "25%        0.006206    -43.321844    -11.520680    -49.264784      0.0\n",
       "50%        0.013831    -24.961949      3.639430    -16.713578      0.0\n",
       "75%        0.028480      4.502756     25.199664     18.026841      0.0\n",
       "max        2.030572     85.110331     87.392260     86.305427      0.0"
      ]
     },
     "execution_count": 36,
     "metadata": {},
     "output_type": "execute_result"
    }
   ],
   "source": [
    "day1_5sec.describe()"
   ]
  },
  {
   "cell_type": "code",
   "execution_count": 20,
   "metadata": {
    "collapsed": false
   },
   "outputs": [
    {
     "data": {
      "text/plain": [
       "array([[<matplotlib.axes._subplots.AxesSubplot object at 0x7f9e2d44c4a8>]], dtype=object)"
      ]
     },
     "execution_count": 20,
     "metadata": {},
     "output_type": "execute_result"
    },
    {
     "data": {
      "image/png": "[encoded data removed]",
      "text/plain": [
       "<matplotlib.figure.Figure at 0x7f9e286abd68>"
      ]
     },
     "metadata": {},
     "output_type": "display_data"
    }
   ],
   "source": [
    "day1_40Hz.hist('Gx', bins=100)"
   ]
  },
  {
   "cell_type": "code",
   "execution_count": 21,
   "metadata": {
    "collapsed": false
   },
   "outputs": [
    {
     "data": {
      "image/png": "[encoded data removed]",
      "text/plain": [
       "<matplotlib.figure.Figure at 0x7f9e1816f400>"
      ]
     },
     "metadata": {},
     "output_type": "display_data"
    }
   ],
   "source": [
    "plt.plot(day1_40Hz[1:400])\n",
    "plt.show()"
   ]
  },
  {
   "cell_type": "code",
   "execution_count": 41,
   "metadata": {
    "collapsed": false
   },
   "outputs": [
    {
     "data": {
      "image/png": "[encoded data removed]",
      "text/plain": [
       "<matplotlib.figure.Figure at 0x7f9e12d441d0>"
      ]
     },
     "metadata": {},
     "output_type": "display_data"
    }
   ],
   "source": [
    "plt.plot(day1_5sec.acceleration)\n",
    "plt.show()"
   ]
  },
  {
   "cell_type": "code",
   "execution_count": 40,
   "metadata": {
    "collapsed": false
   },
   "outputs": [
    {
     "data": {
      "text/plain": [
       "DatetimeIndex(['2014-08-01 04:00:00', '2014-08-01 04:00:05',\n",
       "               '2014-08-01 04:00:10', '2014-08-01 04:00:15',\n",
       "               '2014-08-01 04:00:20', '2014-08-01 04:00:25',\n",
       "               '2014-08-01 04:00:30', '2014-08-01 04:00:35',\n",
       "               '2014-08-01 04:00:40', '2014-08-01 04:00:45',\n",
       "               ...\n",
       "               '2014-08-02 03:59:10', '2014-08-02 03:59:15',\n",
       "               '2014-08-02 03:59:20', '2014-08-02 03:59:25',\n",
       "               '2014-08-02 03:59:30', '2014-08-02 03:59:35',\n",
       "               '2014-08-02 03:59:40', '2014-08-02 03:59:45',\n",
       "               '2014-08-02 03:59:50', '2014-08-02 03:59:55'],\n",
       "              dtype='datetime64[ns]', name='timestamp', length=17280, freq=None)"
      ]
     },
     "execution_count": 40,
     "metadata": {},
     "output_type": "execute_result"
    }
   ],
   "source": [
    "day1_5sec.index"
   ]
  },
  {
   "cell_type": "code",
   "execution_count": 45,
   "metadata": {
    "collapsed": true
   },
   "outputs": [],
   "source": [
    "?hmm.GMMHMM"
   ]
  },
  {
   "cell_type": "code",
   "execution_count": null,
   "metadata": {
    "collapsed": true
   },
   "outputs": [],
   "source": []
  }
 ],
 "metadata": {
  "kernelspec": {
   "display_name": "Python 2",
   "language": "python",
   "name": "python2"
  },
  "language_info": {
   "codemirror_mode": {
    "name": "ipython",
    "version": 2
   },
   "file_extension": ".py",
   "mimetype": "text/x-python",
   "name": "python",
   "nbconvert_exporter": "python",
   "pygments_lexer": "ipython2",
   "version": "2.7.12"
  }
 },
 "nbformat": 4,
 "nbformat_minor": 0
}
