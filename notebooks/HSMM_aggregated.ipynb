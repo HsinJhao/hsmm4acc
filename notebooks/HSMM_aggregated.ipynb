{
 "cells": [
  {
   "cell_type": "code",
   "execution_count": 86,
   "metadata": {
    "collapsed": false
   },
   "outputs": [
    {
     "name": "stdout",
     "output_type": "stream",
     "text": [
      "Populating the interactive namespace from numpy and matplotlib\n",
      "The autoreload extension is already loaded. To reload it, use:\n",
      "  %reload_ext autoreload\n"
     ]
    },
    {
     "name": "stderr",
     "output_type": "stream",
     "text": [
      "WARNING: pylab import has clobbered these variables: ['copy', 'mod']\n",
      "`%matplotlib` prevents importing * from pylab and numpy\n"
     ]
    }
   ],
   "source": [
    "%pylab inline\n",
    "%load_ext autoreload\n",
    "%autoreload 2"
   ]
  },
  {
   "cell_type": "code",
   "execution_count": 87,
   "metadata": {
    "collapsed": false
   },
   "outputs": [],
   "source": [
    "import pyhsmm\n",
    "import pyhsmm.basic.distributions as distributions\n",
    "import pandas as pd"
   ]
  },
  {
   "cell_type": "code",
   "execution_count": 88,
   "metadata": {
    "collapsed": false
   },
   "outputs": [
    {
     "data": {
      "text/html": [
       "<div>\n",
       "<table border=\"1\" class=\"dataframe\">\n",
       "  <thead>\n",
       "    <tr style=\"text-align: right;\">\n",
       "      <th></th>\n",
       "      <th>time</th>\n",
       "      <th>id</th>\n",
       "      <th>serial number</th>\n",
       "      <th>filename</th>\n",
       "      <th>Nhoursvalid</th>\n",
       "      <th>mean metric ENMO</th>\n",
       "      <th>sd metric ENMO</th>\n",
       "      <th>p5 metric ENMO</th>\n",
       "      <th>p25 metric ENMO</th>\n",
       "      <th>p50 metric ENMO</th>\n",
       "      <th>p75 metric ENMO</th>\n",
       "      <th>p95 metric ENMO</th>\n",
       "      <th>mean metric anglez</th>\n",
       "      <th>sd metric anglez</th>\n",
       "      <th>p5 metric anglez</th>\n",
       "      <th>p25 metric anglez</th>\n",
       "      <th>p50 metric anglez</th>\n",
       "      <th>p75 metric anglez</th>\n",
       "      <th>p95 metric anglez</th>\n",
       "      <th>day</th>\n",
       "    </tr>\n",
       "  </thead>\n",
       "  <tbody>\n",
       "    <tr>\n",
       "      <th>0</th>\n",
       "      <td>2014-08-01 04:00:00</td>\n",
       "      <td>not stored in header</td>\n",
       "      <td>16563</td>\n",
       "      <td>__016563_2014-08-08 12-02-19.bin</td>\n",
       "      <td>0.166667</td>\n",
       "      <td>0.015216</td>\n",
       "      <td>0.000530</td>\n",
       "      <td>0.014479</td>\n",
       "      <td>0.014857</td>\n",
       "      <td>0.015209</td>\n",
       "      <td>0.015546</td>\n",
       "      <td>0.016095</td>\n",
       "      <td>-39.317284</td>\n",
       "      <td>0.048373</td>\n",
       "      <td>-39.378809</td>\n",
       "      <td>-39.352864</td>\n",
       "      <td>-39.316961</td>\n",
       "      <td>-39.281406</td>\n",
       "      <td>-39.240260</td>\n",
       "      <td>2014-08-01</td>\n",
       "    </tr>\n",
       "    <tr>\n",
       "      <th>1</th>\n",
       "      <td>2014-08-01 04:10:00</td>\n",
       "      <td>not stored in header</td>\n",
       "      <td>16563</td>\n",
       "      <td>__016563_2014-08-08 12-02-19.bin</td>\n",
       "      <td>0.166667</td>\n",
       "      <td>0.015160</td>\n",
       "      <td>0.000522</td>\n",
       "      <td>0.014232</td>\n",
       "      <td>0.014874</td>\n",
       "      <td>0.015133</td>\n",
       "      <td>0.015534</td>\n",
       "      <td>0.015891</td>\n",
       "      <td>-39.349687</td>\n",
       "      <td>0.065171</td>\n",
       "      <td>-39.452094</td>\n",
       "      <td>-39.391423</td>\n",
       "      <td>-39.336663</td>\n",
       "      <td>-39.307390</td>\n",
       "      <td>-39.264456</td>\n",
       "      <td>2014-08-01</td>\n",
       "    </tr>\n",
       "    <tr>\n",
       "      <th>2</th>\n",
       "      <td>2014-08-01 04:20:00</td>\n",
       "      <td>not stored in header</td>\n",
       "      <td>16563</td>\n",
       "      <td>__016563_2014-08-08 12-02-19.bin</td>\n",
       "      <td>0.166667</td>\n",
       "      <td>0.015181</td>\n",
       "      <td>0.004180</td>\n",
       "      <td>0.010862</td>\n",
       "      <td>0.014729</td>\n",
       "      <td>0.015099</td>\n",
       "      <td>0.015506</td>\n",
       "      <td>0.016189</td>\n",
       "      <td>-37.359455</td>\n",
       "      <td>7.890470</td>\n",
       "      <td>-39.431267</td>\n",
       "      <td>-39.364191</td>\n",
       "      <td>-39.337401</td>\n",
       "      <td>-39.299842</td>\n",
       "      <td>-26.144194</td>\n",
       "      <td>2014-08-01</td>\n",
       "    </tr>\n",
       "    <tr>\n",
       "      <th>3</th>\n",
       "      <td>2014-08-01 04:30:00</td>\n",
       "      <td>not stored in header</td>\n",
       "      <td>16563</td>\n",
       "      <td>__016563_2014-08-08 12-02-19.bin</td>\n",
       "      <td>0.166667</td>\n",
       "      <td>0.015197</td>\n",
       "      <td>0.008969</td>\n",
       "      <td>0.011073</td>\n",
       "      <td>0.011628</td>\n",
       "      <td>0.012248</td>\n",
       "      <td>0.012886</td>\n",
       "      <td>0.025105</td>\n",
       "      <td>-36.171533</td>\n",
       "      <td>5.857137</td>\n",
       "      <td>-48.853285</td>\n",
       "      <td>-34.069524</td>\n",
       "      <td>-33.879162</td>\n",
       "      <td>-32.846824</td>\n",
       "      <td>-32.753698</td>\n",
       "      <td>2014-08-01</td>\n",
       "    </tr>\n",
       "    <tr>\n",
       "      <th>4</th>\n",
       "      <td>2014-08-01 04:40:00</td>\n",
       "      <td>not stored in header</td>\n",
       "      <td>16563</td>\n",
       "      <td>__016563_2014-08-08 12-02-19.bin</td>\n",
       "      <td>0.166667</td>\n",
       "      <td>0.015590</td>\n",
       "      <td>0.020108</td>\n",
       "      <td>0.000000</td>\n",
       "      <td>0.000000</td>\n",
       "      <td>0.000000</td>\n",
       "      <td>0.025809</td>\n",
       "      <td>0.040461</td>\n",
       "      <td>5.806129</td>\n",
       "      <td>54.439121</td>\n",
       "      <td>-59.597338</td>\n",
       "      <td>-46.786000</td>\n",
       "      <td>55.306174</td>\n",
       "      <td>55.474992</td>\n",
       "      <td>60.089516</td>\n",
       "      <td>2014-08-01</td>\n",
       "    </tr>\n",
       "  </tbody>\n",
       "</table>\n",
       "</div>"
      ],
      "text/plain": [
       "                  time                    id  serial number  \\\n",
       "0  2014-08-01 04:00:00  not stored in header          16563   \n",
       "1  2014-08-01 04:10:00  not stored in header          16563   \n",
       "2  2014-08-01 04:20:00  not stored in header          16563   \n",
       "3  2014-08-01 04:30:00  not stored in header          16563   \n",
       "4  2014-08-01 04:40:00  not stored in header          16563   \n",
       "\n",
       "                           filename  Nhoursvalid  mean metric ENMO  \\\n",
       "0  __016563_2014-08-08 12-02-19.bin     0.166667          0.015216   \n",
       "1  __016563_2014-08-08 12-02-19.bin     0.166667          0.015160   \n",
       "2  __016563_2014-08-08 12-02-19.bin     0.166667          0.015181   \n",
       "3  __016563_2014-08-08 12-02-19.bin     0.166667          0.015197   \n",
       "4  __016563_2014-08-08 12-02-19.bin     0.166667          0.015590   \n",
       "\n",
       "   sd metric ENMO  p5 metric ENMO  p25 metric ENMO  p50 metric ENMO  \\\n",
       "0        0.000530        0.014479         0.014857         0.015209   \n",
       "1        0.000522        0.014232         0.014874         0.015133   \n",
       "2        0.004180        0.010862         0.014729         0.015099   \n",
       "3        0.008969        0.011073         0.011628         0.012248   \n",
       "4        0.020108        0.000000         0.000000         0.000000   \n",
       "\n",
       "   p75 metric ENMO  p95 metric ENMO  mean metric anglez  sd metric anglez  \\\n",
       "0         0.015546         0.016095          -39.317284          0.048373   \n",
       "1         0.015534         0.015891          -39.349687          0.065171   \n",
       "2         0.015506         0.016189          -37.359455          7.890470   \n",
       "3         0.012886         0.025105          -36.171533          5.857137   \n",
       "4         0.025809         0.040461            5.806129         54.439121   \n",
       "\n",
       "   p5 metric anglez  p25 metric anglez  p50 metric anglez  p75 metric anglez  \\\n",
       "0        -39.378809         -39.352864         -39.316961         -39.281406   \n",
       "1        -39.452094         -39.391423         -39.336663         -39.307390   \n",
       "2        -39.431267         -39.364191         -39.337401         -39.299842   \n",
       "3        -48.853285         -34.069524         -33.879162         -32.846824   \n",
       "4        -59.597338         -46.786000          55.306174          55.474992   \n",
       "\n",
       "   p95 metric anglez         day  \n",
       "0         -39.240260  2014-08-01  \n",
       "1         -39.264456  2014-08-01  \n",
       "2         -26.144194  2014-08-01  \n",
       "3         -32.753698  2014-08-01  \n",
       "4          60.089516  2014-08-01  "
      ]
     },
     "execution_count": 88,
     "metadata": {},
     "output_type": "execute_result"
    }
   ],
   "source": [
    "filepath = \"/media/sf_VBox_Shared/London/example_data\"\n",
    "filename = filepath + '/example_bobby_feature5min.csv'\n",
    "data_10min = pd.read_csv(filename)\n",
    "data_10min.head()"
   ]
  },
  {
   "cell_type": "code",
   "execution_count": 89,
   "metadata": {
    "collapsed": false
   },
   "outputs": [
    {
     "name": "stdout",
     "output_type": "stream",
     "text": [
      "2014-08-01 04:00:00\n",
      "2014-08-01 23:50:00\n"
     ]
    }
   ],
   "source": [
    "data_10min = data_10min.set_index('time')\n",
    "data_10min.index = pd.to_datetime(data_10min.index)\n",
    "print(min(data_10min.index))\n",
    "print(max(data_10min.index))"
   ]
  },
  {
   "cell_type": "code",
   "execution_count": 90,
   "metadata": {
    "collapsed": false
   },
   "outputs": [
    {
     "data": {
      "image/png": "[encoded data removed]",
      "text/plain": [
       "<matplotlib.figure.Figure at 0x7f56d2ee0fd0>"
      ]
     },
     "metadata": {},
     "output_type": "display_data"
    }
   ],
   "source": [
    "plt.subplots(figsize=(15,5))\n",
    "data_10min[\"mean metric ENMO\"].plot()\n",
    "data_10min[\"sd metric ENMO\"].plot();"
   ]
  },
  {
   "cell_type": "code",
   "execution_count": 91,
   "metadata": {
    "collapsed": false
   },
   "outputs": [
    {
     "name": "stdout",
     "output_type": "stream",
     "text": [
      "(120, 2)\n"
     ]
    }
   ],
   "source": [
    "X = np.column_stack([data_10min[\"mean metric ENMO\"], data_10min[\"sd metric ENMO\"]])\n",
    "column_names = [\"mean metric ENMO\",\"sd metric ENMO\"]\n",
    "data = data_10min[column_names]\n",
    "#column_names = day1_5sec.columns[0:4]\n",
    "#print(column_names)\n",
    "#X = np.array(data_10min[\"mean metric ENMO\"])[:, np.newaxis]\n",
    "print(X.shape)"
   ]
  },
  {
   "cell_type": "code",
   "execution_count": 92,
   "metadata": {
    "collapsed": false
   },
   "outputs": [],
   "source": [
    "#Parameters for HSMM\n",
    "Nmax = 2\n",
    "affine = True\n",
    "dim = X.shape[1]"
   ]
  },
  {
   "cell_type": "code",
   "execution_count": 93,
   "metadata": {
    "collapsed": false
   },
   "outputs": [],
   "source": [
    "#mu_0 = np.zeros(dim)\n",
    "mu_0 = np.array([0, 0.1])\n",
    "sigma_0 = np.eye(dim)\n",
    "\n",
    "#Observations are gaussians\n",
    "obs_hypparams = {'mu_0': mu_0, #prior mean of gaussians\n",
    "                'sigma_0': sigma_0, #prior cov matrix of gaussians\n",
    "                 'kappa_0': 0.3, #mean was estimated from kappa_0 observation\n",
    "                 'nu_0': dim + 1 #covariance was estimated from nu_0 observation\n",
    "                }\n",
    "\n",
    "#duration is going to be poisson, so prior is a gamma distribution (params alpha betta)\n",
    "# alpha occurences in beta intervals\n",
    "expected_duration = 2 * 6 # one hour\n",
    "dur_hypparams = {'alpha_0': 10*expected_duration,\n",
    "                'beta_0': 10}"
   ]
  },
  {
   "cell_type": "code",
   "execution_count": 94,
   "metadata": {
    "collapsed": false
   },
   "outputs": [],
   "source": [
    "obs_distns = [distributions.Gaussian(**obs_hypparams) for state in range(Nmax)]\n",
    "dur_distns = [distributions.PoissonDuration(**dur_hypparams) for state in range(Nmax)]\n"
   ]
  },
  {
   "cell_type": "code",
   "execution_count": 95,
   "metadata": {
    "collapsed": false
   },
   "outputs": [],
   "source": [
    "model = pyhsmm.models.WeakLimitHDPHMM(\n",
    "        alpha_a_0=1.,alpha_b_0=1./4,\n",
    "        gamma_a_0=1.,gamma_b_0=1./4,\n",
    "        #alpha=6.,gamma=6.,\n",
    "        #kappa=0.,\n",
    "        init_state_concentration=1., \n",
    "        obs_distns=obs_distns,\n",
    "        #dur_distns=dur_distns\n",
    "        )"
   ]
  },
  {
   "cell_type": "code",
   "execution_count": 96,
   "metadata": {
    "collapsed": false
   },
   "outputs": [
    {
     "data": {
      "text/plain": [
       "<pyhsmm.internals.hmm_states.HMMStatesEigen at 0x7f56d2e6ae50>"
      ]
     },
     "execution_count": 96,
     "metadata": {},
     "output_type": "execute_result"
    }
   ],
   "source": [
    "model.add_data(X)#, trunc=6 * 10)"
   ]
  },
  {
   "cell_type": "code",
   "execution_count": 97,
   "metadata": {
    "collapsed": false
   },
   "outputs": [],
   "source": [
    "model.resample_model()"
   ]
  },
  {
   "cell_type": "code",
   "execution_count": 98,
   "metadata": {
    "collapsed": false
   },
   "outputs": [
    {
     "name": "stdout",
     "output_type": "stream",
     "text": [
      "9\n",
      "19\n",
      "29\n",
      "39\n",
      "49\n",
      "59\n",
      "69\n",
      "79\n",
      "89\n",
      "99\n"
     ]
    }
   ],
   "source": [
    "#resample\n",
    "import copy\n",
    "models = []\n",
    "for idx in xrange(100):\n",
    "    model.resample_model()\n",
    "    if (idx+1) % 10 == 0:\n",
    "        print(idx)\n",
    "        models.append(copy.deepcopy(model))"
   ]
  },
  {
   "cell_type": "code",
   "execution_count": 99,
   "metadata": {
    "collapsed": false
   },
   "outputs": [
    {
     "data": {
      "image/png": "[encoded data removed]",
      "text/plain": [
       "<matplotlib.figure.Figure at 0x7f56d2e73a10>"
      ]
     },
     "metadata": {},
     "output_type": "display_data"
    }
   ],
   "source": [
    "#model.stateseqs\n",
    "plots = model.plot(draw=False)\n",
    "#plt.savefig('model')\n",
    "#plots"
   ]
  },
  {
   "cell_type": "code",
   "execution_count": 100,
   "metadata": {
    "collapsed": false
   },
   "outputs": [
    {
     "name": "stdout",
     "output_type": "stream",
     "text": [
      "[ 3.06790464 -1.24095377]\n",
      "[ 0.03916152  0.05924486]\n",
      "\n",
      "[[ 0.56718106 -0.32183733]\n",
      " [-0.32183733  0.41565938]]\n",
      "[[ 0.01117323  0.0006427 ]\n",
      " [ 0.0006427   0.00845615]]\n",
      "\n"
     ]
    },
    {
     "ename": "AttributeError",
     "evalue": "'WeakLimitHDPHMM' object has no attribute 'dur_distns'",
     "output_type": "error",
     "traceback": [
      "\u001b[1;31m---------------------------------------------------------------------------\u001b[0m",
      "\u001b[1;31mAttributeError\u001b[0m                            Traceback (most recent call last)",
      "\u001b[1;32m<ipython-input-100-4dbd9894f593>\u001b[0m in \u001b[0;36m<module>\u001b[1;34m()\u001b[0m\n\u001b[0;32m      6\u001b[0m     \u001b[1;32mprint\u001b[0m\u001b[1;33m(\u001b[0m\u001b[0md\u001b[0m\u001b[1;33m.\u001b[0m\u001b[0msigma\u001b[0m\u001b[1;33m)\u001b[0m\u001b[1;33m\u001b[0m\u001b[0m\n\u001b[0;32m      7\u001b[0m \u001b[1;32mprint\u001b[0m\u001b[1;33m(\u001b[0m\u001b[1;34m''\u001b[0m\u001b[1;33m)\u001b[0m\u001b[1;33m\u001b[0m\u001b[0m\n\u001b[1;32m----> 8\u001b[1;33m \u001b[1;32mfor\u001b[0m \u001b[0md\u001b[0m \u001b[1;32min\u001b[0m \u001b[0mmodel\u001b[0m\u001b[1;33m.\u001b[0m\u001b[0mdur_distns\u001b[0m\u001b[1;33m:\u001b[0m\u001b[1;33m\u001b[0m\u001b[0m\n\u001b[0m\u001b[0;32m      9\u001b[0m     \u001b[1;32mprint\u001b[0m \u001b[0md\u001b[0m\u001b[1;33m.\u001b[0m\u001b[0mlmbda\u001b[0m\u001b[1;33m\u001b[0m\u001b[0m\n\u001b[0;32m     10\u001b[0m \u001b[1;33m\u001b[0m\u001b[0m\n",
      "\u001b[1;31mAttributeError\u001b[0m: 'WeakLimitHDPHMM' object has no attribute 'dur_distns'"
     ]
    }
   ],
   "source": [
    "for d in model.obs_distns:\n",
    "    print(d.mu)\n",
    "  \n",
    "print('')\n",
    "for d in model.obs_distns:\n",
    "    print(d.sigma)\n",
    "print('')\n",
    "for d in model.dur_distns:\n",
    "    print d.lmbda\n",
    "    \n",
    "    "
   ]
  },
  {
   "cell_type": "code",
   "execution_count": null,
   "metadata": {
    "collapsed": false
   },
   "outputs": [],
   "source": [
    "model.stateseqs[0]"
   ]
  },
  {
   "cell_type": "code",
   "execution_count": null,
   "metadata": {
    "collapsed": false
   },
   "outputs": [],
   "source": [
    "import time\n",
    "fig = plt.figure(figsize = (15, 15))\n",
    "for idx, mod in enumerate(models):\n",
    "    plt.clf()\n",
    "    mod.plot()\n",
    "    plt.gcf().suptitle('HDP-HSMM sampled after %d iterations' % (10*(idx+1)))\n",
    "    plt.show()\n",
    "    #time.sleep(0.5)\n",
    "    #plt.savefig('iter_%.3d.png' % (10*(idx+1)))"
   ]
  },
  {
   "cell_type": "code",
   "execution_count": null,
   "metadata": {
    "collapsed": false
   },
   "outputs": [],
   "source": [
    "#mask = model.stateseqs[0] != i\n",
    "#data_to_plot."
   ]
  },
  {
   "cell_type": "code",
   "execution_count": null,
   "metadata": {
    "collapsed": false
   },
   "outputs": [],
   "source": [
    "fig, axs = plt.subplots(model.num_states, sharex=True, sharey=True, figsize=(15,15))\n",
    "colours = cm.rainbow(np.linspace(0, 1, model.num_states))\n",
    "for i, (ax, colour) in enumerate(zip(axs, colours)):\n",
    "    # Use fancy indexing to plot data in each state.\n",
    "    data_to_plot = data.copy()\n",
    "    data_to_plot[model.stateseqs[0] != i] = 0\n",
    "    data_to_plot.plot(ax=ax)\n",
    "    #ax.plot(plotdata, \".-\")\n",
    "    ax.set_title(\"{0}th hidden state\".format(i))\n",
    "\n",
    "    # Format the ticks.\n",
    "    #ax.xaxis.set_major_locator(YearLocator())\n",
    "    #ax.xaxis.set_minor_locator(MonthLocator())\n",
    "\n",
    "    ax.grid(True)\n",
    "\n",
    "plt.show()"
   ]
  },
  {
   "cell_type": "code",
   "execution_count": null,
   "metadata": {
    "collapsed": false
   },
   "outputs": [],
   "source": [
    "hidden_states = model.stateseqs[0]\n",
    "#fig, ax = plt.subplots(figsize=(15,5))\n",
    "data.plot(figsize=(15,5))\n",
    "legend(bbox_to_anchor=(0., 1.02, 1., .102), loc=3);\n",
    "colormap = {0: (1,1,0), 1: (1,0,0), 2: (0,1,0), 3: (0,0,1), 4:(1,0,1)}\n",
    "cmap = matplotlib.colors.LinearSegmentedColormap.from_list('name', colormap.values(), model.num_states)\n",
    "state_colors = [colormap[i] for i in hidden_states]\n",
    "scale = X.max()\n",
    "sca = plt.scatter(data.index, scale*np.ones_like(hidden_states), c=hidden_states, cmap=cmap,  edgecolors='none')\n",
    "#plt.xlim(min(), max(byAct.index))\n",
    "plt.colorbar(sca, ticks=np.arange(np.min(hidden_states),np.max(hidden_states)+1))"
   ]
  },
  {
   "cell_type": "code",
   "execution_count": null,
   "metadata": {
    "collapsed": false
   },
   "outputs": [],
   "source": [
    "plotdata = np.array([d.lmbda for d in model.dur_distns])[:,np.newaxis]\n",
    "grouplabels = [\"{:.0f} minutes\".format(x*10) for x in plotdata[:,0]]\n",
    "fig, ax = plt.subplots()\n",
    "colorplot = ax.pcolor(plotdata, cmap='coolwarm',)\n",
    "ax.set_xticks(np.arange(plotdata.shape[1])+0.5, minor=False)\n",
    "ax.set_yticks(np.arange(plotdata.shape[0])+0.5, minor=False)\n",
    "#ax.set_xticklabels(column_names, minor=False)\n",
    "ax.set_yticklabels(grouplabels, minor=False)\n",
    "plt.colorbar(colorplot);"
   ]
  },
  {
   "cell_type": "code",
   "execution_count": null,
   "metadata": {
    "collapsed": false
   },
   "outputs": [],
   "source": [
    "plotdata = np.array([d.mu for d in model.obs_distns])\n",
    "\n",
    "fig, ax = plt.subplots()\n",
    "colorplot = ax.pcolor(plotdata, cmap='coolwarm',)\n",
    "ax.set_xticks(np.arange(plotdata.shape[1])+0.5, minor=False)\n",
    "ax.set_yticks(np.arange(plotdata.shape[0])+0.5, minor=False)\n",
    "ax.set_xticklabels(column_names, minor=False)\n",
    "ax.set_yticklabels(range(plotdata.shape[0]), minor=False)\n",
    "plt.colorbar(colorplot)"
   ]
  },
  {
   "cell_type": "code",
   "execution_count": null,
   "metadata": {
    "collapsed": false
   },
   "outputs": [],
   "source": [
    "fig, axs = plt.subplots(nrows=model.num_states, ncols=1,  figsize = (10, 15))\n",
    "for i in range(model.num_states):\n",
    "    im = axs[i].pcolor(model.obs_distns[i].sigma, cmap='coolwarm',)\n",
    "    fig.colorbar(im, ax = axs[i], extend='max')\n",
    "#colorbar()\n",
    "show()"
   ]
  },
  {
   "cell_type": "code",
   "execution_count": null,
   "metadata": {
    "collapsed": false
   },
   "outputs": [],
   "source": [
    "from scipy.stats.kde import gaussian_kde\n",
    "\n",
    "variable = column_names[0]\n",
    "\n",
    "fig, ax = subplots()\n",
    "vals = data[variable]\n",
    "kde = gaussian_kde(vals)\n",
    "d = np.linspace(min(vals), max(vals), 100)\n",
    "p = plot(d, kde(d), label=\"all\")\n",
    "\n",
    "for i in range(model.num_states):\n",
    "    mask = hidden_states == i\n",
    "    kde = gaussian_kde(vals[mask])\n",
    "    plot(d, kde(d), label=str(i))\n",
    "    #p = plt.hist(day1_5sec[mask][variable], bins=100)\n",
    "ax.set_xlim(0,0.1)\n",
    "legend()\n",
    "show()"
   ]
  },
  {
   "cell_type": "code",
   "execution_count": null,
   "metadata": {
    "collapsed": false
   },
   "outputs": [],
   "source": [
    "model.trans_distn.full_trans_matrix"
   ]
  },
  {
   "cell_type": "code",
   "execution_count": null,
   "metadata": {
    "collapsed": false
   },
   "outputs": [],
   "source": [
    "for d in model.dur_distns:\n",
    "    print(d.lmbda)"
   ]
  },
  {
   "cell_type": "code",
   "execution_count": null,
   "metadata": {
    "collapsed": true
   },
   "outputs": [],
   "source": []
  }
 ],
 "metadata": {
  "kernelspec": {
   "display_name": "Python 2",
   "language": "python",
   "name": "python2"
  },
  "language_info": {
   "codemirror_mode": {
    "name": "ipython",
    "version": 2
   },
   "file_extension": ".py",
   "mimetype": "text/x-python",
   "name": "python",
   "nbconvert_exporter": "python",
   "pygments_lexer": "ipython2",
   "version": "2.7.11"
  }
 },
 "nbformat": 4,
 "nbformat_minor": 0
}
