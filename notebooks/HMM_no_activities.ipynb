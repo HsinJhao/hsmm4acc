{
 "cells": [
  {
   "cell_type": "code",
   "execution_count": 2,
   "metadata": {
    "collapsed": true
   },
   "outputs": [],
   "source": [
    "%matplotlib inline\n",
    "%load_ext autoreload\n",
    "%autoreload 2\n",
    "\n",
    "import pandas as pd\n",
    "import numpy as np\n",
    "import matplotlib.pyplot as plt\n",
    "import datetime\n",
    "import os\n",
    "import sys\n",
    "import dateutil.parser\n",
    "\n",
    "from __future__ import print_function"
   ]
  },
  {
   "cell_type": "code",
   "execution_count": 3,
   "metadata": {
    "collapsed": false
   },
   "outputs": [],
   "source": [
    "sys.path.insert(0, os.path.abspath('..'))\n",
    "\n",
    "from UKMovementSensing import dataprep"
   ]
  },
  {
   "cell_type": "code",
   "execution_count": 4,
   "metadata": {
    "collapsed": true
   },
   "outputs": [],
   "source": [
    "data_root_path = \"/media/sf_VBox_Shared/London/UCL_data_Jan2017/\" \n",
    "accelerometer_5sec_path = os.path.join(data_root_path, 'accelerometer_5second/')\n",
    "subsets_path = os.path.join(data_root_path, 'subsets/')"
   ]
  },
  {
   "cell_type": "code",
   "execution_count": 73,
   "metadata": {
    "collapsed": true
   },
   "outputs": [],
   "source": [
    "def process_data(filepath, subsets_path):\n",
    "    \"\"\"\n",
    "    Load all accelerometer data in the specified directory,\n",
    "    and join with annotations.\n",
    "    Parameters\n",
    "    ----------\n",
    "    annotations_codes : Pandas DataFrame\n",
    "        DataFrame with annotations and wearcodes (result from join_wearcodes)\n",
    "    filepath : str\n",
    "        Directory of the accelerometer data files\n",
    "    Returns\n",
    "    -------\n",
    "    dict holding all the merged dataframe\n",
    "    \"\"\"\n",
    "    for fn in os.listdir(filepath):\n",
    "        dfs = {}\n",
    "        # Load data\n",
    "        data = pd.read_csv(os.path.join(filepath, fn),\n",
    "                           index_col='timestamp', parse_dates=[0],\n",
    "                           infer_datetime_format=True)\n",
    "        data.index = data.index.tz_localize('Europe/London')\n",
    "        data = data.dropna()\n",
    "        data['filename'] = fn\n",
    "        # Keep all data frames\n",
    "        dfs[(fn, 1)] = data\n",
    "\n",
    "        # Take subsequences\n",
    "        subsets = dataprep.take_subsequences(dfs)\n",
    "\n",
    "        # Switch positions\n",
    "        subsets_switched = dataprep.switch_positions(subsets)\n",
    "\n",
    "        # Save file\n",
    "        dataprep.save_subsequences(subsets, subsets_path)\n",
    "    return dfs"
   ]
  },
  {
   "cell_type": "code",
   "execution_count": 74,
   "metadata": {
    "collapsed": false
   },
   "outputs": [
    {
     "name": "stdout",
     "output_type": "stream",
     "text": [
      "Automatic pdb calling has been turned ON\n",
      "switched dataset with median 6.721257\n",
      "switched dataset with median 3.868726\n",
      "switched dataset with median 25.470679\n",
      "switched dataset with median 34.190342\n",
      "switched dataset with median 19.850993\n",
      "switched dataset with median 24.903292\n",
      "switched dataset with median 10.000154\n",
      "switched dataset with median 38.213411\n",
      "switched dataset with median 36.847239\n",
      "switched dataset with median 33.555606\n",
      "switched dataset with median 14.732124\n",
      "switched dataset with median 29.725724\n",
      "switched dataset with median 8.816002\n",
      "switched dataset with median 22.524306\n",
      "switched dataset with median 27.502124\n",
      "switched dataset with median 26.822321\n",
      "switched dataset with median 16.291079\n",
      "switched dataset with median 18.934421\n",
      "switched dataset with median 28.640689\n",
      "switched dataset with median 37.213232\n",
      "switched dataset with median 14.682658\n",
      "switched dataset with median 16.398199\n",
      "switched dataset with median 21.263895\n",
      "switched dataset with median 1.199933\n",
      "switched dataset with median 22.258722\n",
      "switched dataset with median 18.367892\n",
      "switched dataset with median 10.226739\n",
      "switched dataset with median 5.785479\n",
      "switched dataset with median 17.728210\n",
      "switched dataset with median 38.377096\n",
      "switched dataset with median 25.999030\n",
      "switched dataset with median 25.799491\n",
      "switched dataset with median 17.687907\n",
      "switched dataset with median 64.474651\n",
      "switched dataset with median 22.005447\n",
      "switched dataset with median 19.108573\n",
      "switched dataset with median 35.384084\n",
      "switched dataset with median 25.268103\n",
      "switched dataset with median 12.099616\n"
     ]
    },
    {
     "ename": "KeyboardInterrupt",
     "evalue": "",
     "output_type": "error",
     "traceback": [
      "\u001b[1;31m---------------------------------------------------------------------------\u001b[0m",
      "\u001b[1;31mKeyboardInterrupt\u001b[0m                         Traceback (most recent call last)",
      "\u001b[1;32m<ipython-input-74-ac17b61183a3>\u001b[0m in \u001b[0;36m<module>\u001b[1;34m()\u001b[0m\n\u001b[0;32m      1\u001b[0m \u001b[0mget_ipython\u001b[0m\u001b[1;33m(\u001b[0m\u001b[1;33m)\u001b[0m\u001b[1;33m.\u001b[0m\u001b[0mmagic\u001b[0m\u001b[1;33m(\u001b[0m\u001b[1;34mu'pdb on'\u001b[0m\u001b[1;33m)\u001b[0m\u001b[1;33m\u001b[0m\u001b[0m\n\u001b[1;32m----> 2\u001b[1;33m \u001b[0mprocess_data\u001b[0m\u001b[1;33m(\u001b[0m\u001b[0maccelerometer_5sec_path\u001b[0m\u001b[1;33m,\u001b[0m \u001b[0msubsets_path\u001b[0m\u001b[1;33m)\u001b[0m\u001b[1;33m\u001b[0m\u001b[0m\n\u001b[0m",
      "\u001b[1;32m<ipython-input-73-4fb6ca8f638f>\u001b[0m in \u001b[0;36mprocess_data\u001b[1;34m(filepath, subsets_path)\u001b[0m\n\u001b[0;32m     18\u001b[0m         data = pd.read_csv(os.path.join(filepath, fn),\n\u001b[0;32m     19\u001b[0m                            \u001b[0mindex_col\u001b[0m\u001b[1;33m=\u001b[0m\u001b[1;34m'timestamp'\u001b[0m\u001b[1;33m,\u001b[0m \u001b[0mparse_dates\u001b[0m\u001b[1;33m=\u001b[0m\u001b[1;33m[\u001b[0m\u001b[1;36m0\u001b[0m\u001b[1;33m]\u001b[0m\u001b[1;33m,\u001b[0m\u001b[1;33m\u001b[0m\u001b[0m\n\u001b[1;32m---> 20\u001b[1;33m                            infer_datetime_format=True)\n\u001b[0m\u001b[0;32m     21\u001b[0m         \u001b[0mdata\u001b[0m\u001b[1;33m.\u001b[0m\u001b[0mindex\u001b[0m \u001b[1;33m=\u001b[0m \u001b[0mdata\u001b[0m\u001b[1;33m.\u001b[0m\u001b[0mindex\u001b[0m\u001b[1;33m.\u001b[0m\u001b[0mtz_localize\u001b[0m\u001b[1;33m(\u001b[0m\u001b[1;34m'Europe/London'\u001b[0m\u001b[1;33m)\u001b[0m\u001b[1;33m\u001b[0m\u001b[0m\n\u001b[0;32m     22\u001b[0m         \u001b[0mdata\u001b[0m \u001b[1;33m=\u001b[0m \u001b[0mdata\u001b[0m\u001b[1;33m.\u001b[0m\u001b[0mdropna\u001b[0m\u001b[1;33m(\u001b[0m\u001b[1;33m)\u001b[0m\u001b[1;33m\u001b[0m\u001b[0m\n",
      "\u001b[1;32m/home/dafne/anaconda2/envs/ucl2/lib/python2.7/site-packages/pandas/io/parsers.pyc\u001b[0m in \u001b[0;36mparser_f\u001b[1;34m(filepath_or_buffer, sep, delimiter, header, names, index_col, usecols, squeeze, prefix, mangle_dupe_cols, dtype, engine, converters, true_values, false_values, skipinitialspace, skiprows, skipfooter, nrows, na_values, keep_default_na, na_filter, verbose, skip_blank_lines, parse_dates, infer_datetime_format, keep_date_col, date_parser, dayfirst, iterator, chunksize, compression, thousands, decimal, lineterminator, quotechar, quoting, escapechar, comment, encoding, dialect, tupleize_cols, error_bad_lines, warn_bad_lines, skip_footer, doublequote, delim_whitespace, as_recarray, compact_ints, use_unsigned, low_memory, buffer_lines, memory_map, float_precision)\u001b[0m\n\u001b[0;32m    560\u001b[0m                     skip_blank_lines=skip_blank_lines)\n\u001b[0;32m    561\u001b[0m \u001b[1;33m\u001b[0m\u001b[0m\n\u001b[1;32m--> 562\u001b[1;33m         \u001b[1;32mreturn\u001b[0m \u001b[0m_read\u001b[0m\u001b[1;33m(\u001b[0m\u001b[0mfilepath_or_buffer\u001b[0m\u001b[1;33m,\u001b[0m \u001b[0mkwds\u001b[0m\u001b[1;33m)\u001b[0m\u001b[1;33m\u001b[0m\u001b[0m\n\u001b[0m\u001b[0;32m    563\u001b[0m \u001b[1;33m\u001b[0m\u001b[0m\n\u001b[0;32m    564\u001b[0m     \u001b[0mparser_f\u001b[0m\u001b[1;33m.\u001b[0m\u001b[0m__name__\u001b[0m \u001b[1;33m=\u001b[0m \u001b[0mname\u001b[0m\u001b[1;33m\u001b[0m\u001b[0m\n",
      "\u001b[1;32m/home/dafne/anaconda2/envs/ucl2/lib/python2.7/site-packages/pandas/io/parsers.pyc\u001b[0m in \u001b[0;36m_read\u001b[1;34m(filepath_or_buffer, kwds)\u001b[0m\n\u001b[0;32m    323\u001b[0m         \u001b[1;32mreturn\u001b[0m \u001b[0mparser\u001b[0m\u001b[1;33m\u001b[0m\u001b[0m\n\u001b[0;32m    324\u001b[0m \u001b[1;33m\u001b[0m\u001b[0m\n\u001b[1;32m--> 325\u001b[1;33m     \u001b[1;32mreturn\u001b[0m \u001b[0mparser\u001b[0m\u001b[1;33m.\u001b[0m\u001b[0mread\u001b[0m\u001b[1;33m(\u001b[0m\u001b[1;33m)\u001b[0m\u001b[1;33m\u001b[0m\u001b[0m\n\u001b[0m\u001b[0;32m    326\u001b[0m \u001b[1;33m\u001b[0m\u001b[0m\n\u001b[0;32m    327\u001b[0m _parser_defaults = {\n",
      "\u001b[1;32m/home/dafne/anaconda2/envs/ucl2/lib/python2.7/site-packages/pandas/io/parsers.pyc\u001b[0m in \u001b[0;36mread\u001b[1;34m(self, nrows)\u001b[0m\n\u001b[0;32m    813\u001b[0m                 \u001b[1;32mraise\u001b[0m \u001b[0mValueError\u001b[0m\u001b[1;33m(\u001b[0m\u001b[1;34m'skip_footer not supported for iteration'\u001b[0m\u001b[1;33m)\u001b[0m\u001b[1;33m\u001b[0m\u001b[0m\n\u001b[0;32m    814\u001b[0m \u001b[1;33m\u001b[0m\u001b[0m\n\u001b[1;32m--> 815\u001b[1;33m         \u001b[0mret\u001b[0m \u001b[1;33m=\u001b[0m \u001b[0mself\u001b[0m\u001b[1;33m.\u001b[0m\u001b[0m_engine\u001b[0m\u001b[1;33m.\u001b[0m\u001b[0mread\u001b[0m\u001b[1;33m(\u001b[0m\u001b[0mnrows\u001b[0m\u001b[1;33m)\u001b[0m\u001b[1;33m\u001b[0m\u001b[0m\n\u001b[0m\u001b[0;32m    816\u001b[0m \u001b[1;33m\u001b[0m\u001b[0m\n\u001b[0;32m    817\u001b[0m         \u001b[1;32mif\u001b[0m \u001b[0mself\u001b[0m\u001b[1;33m.\u001b[0m\u001b[0moptions\u001b[0m\u001b[1;33m.\u001b[0m\u001b[0mget\u001b[0m\u001b[1;33m(\u001b[0m\u001b[1;34m'as_recarray'\u001b[0m\u001b[1;33m)\u001b[0m\u001b[1;33m:\u001b[0m\u001b[1;33m\u001b[0m\u001b[0m\n",
      "\u001b[1;32m/home/dafne/anaconda2/envs/ucl2/lib/python2.7/site-packages/pandas/io/parsers.pyc\u001b[0m in \u001b[0;36mread\u001b[1;34m(self, nrows)\u001b[0m\n\u001b[0;32m   1312\u001b[0m     \u001b[1;32mdef\u001b[0m \u001b[0mread\u001b[0m\u001b[1;33m(\u001b[0m\u001b[0mself\u001b[0m\u001b[1;33m,\u001b[0m \u001b[0mnrows\u001b[0m\u001b[1;33m=\u001b[0m\u001b[0mNone\u001b[0m\u001b[1;33m)\u001b[0m\u001b[1;33m:\u001b[0m\u001b[1;33m\u001b[0m\u001b[0m\n\u001b[0;32m   1313\u001b[0m         \u001b[1;32mtry\u001b[0m\u001b[1;33m:\u001b[0m\u001b[1;33m\u001b[0m\u001b[0m\n\u001b[1;32m-> 1314\u001b[1;33m             \u001b[0mdata\u001b[0m \u001b[1;33m=\u001b[0m \u001b[0mself\u001b[0m\u001b[1;33m.\u001b[0m\u001b[0m_reader\u001b[0m\u001b[1;33m.\u001b[0m\u001b[0mread\u001b[0m\u001b[1;33m(\u001b[0m\u001b[0mnrows\u001b[0m\u001b[1;33m)\u001b[0m\u001b[1;33m\u001b[0m\u001b[0m\n\u001b[0m\u001b[0;32m   1315\u001b[0m         \u001b[1;32mexcept\u001b[0m \u001b[0mStopIteration\u001b[0m\u001b[1;33m:\u001b[0m\u001b[1;33m\u001b[0m\u001b[0m\n\u001b[0;32m   1316\u001b[0m             \u001b[1;32mif\u001b[0m \u001b[0mself\u001b[0m\u001b[1;33m.\u001b[0m\u001b[0m_first_chunk\u001b[0m\u001b[1;33m:\u001b[0m\u001b[1;33m\u001b[0m\u001b[0m\n",
      "\u001b[1;31mKeyboardInterrupt\u001b[0m: "
     ]
    },
    {
     "name": "stdout",
     "output_type": "stream",
     "text": [
      "> \u001b[1;32m/home/dafne/anaconda2/envs/ucl2/lib/python2.7/site-packages/pandas/io/parsers.py\u001b[0m(1332)\u001b[0;36mread\u001b[1;34m()\u001b[0m\n",
      "\u001b[1;32m   1330 \u001b[1;33m\u001b[1;33m\u001b[0m\u001b[0m\n",
      "\u001b[0m\u001b[1;32m   1331 \u001b[1;33m            \u001b[1;32melse\u001b[0m\u001b[1;33m:\u001b[0m\u001b[1;33m\u001b[0m\u001b[0m\n",
      "\u001b[0m\u001b[1;32m-> 1332 \u001b[1;33m                \u001b[1;32mraise\u001b[0m\u001b[1;33m\u001b[0m\u001b[0m\n",
      "\u001b[0m\u001b[1;32m   1333 \u001b[1;33m\u001b[1;33m\u001b[0m\u001b[0m\n",
      "\u001b[0m\u001b[1;32m   1334 \u001b[1;33m        \u001b[1;31m# Done with first read, next time raise StopIteration\u001b[0m\u001b[1;33m\u001b[0m\u001b[1;33m\u001b[0m\u001b[0m\n",
      "\u001b[0m\n",
      "\u0001\u0002ipdb> \u0001\u0002exit()\n"
     ]
    }
   ],
   "source": [
    "%pdb on\n",
    "process_data(accelerometer_5sec_path, subsets_path)"
   ]
  },
  {
   "cell_type": "code",
   "execution_count": 85,
   "metadata": {
    "collapsed": false
   },
   "outputs": [
    {
     "name": "stdout",
     "output_type": "stream",
     "text": [
      "Automatic pdb calling has been turned OFF\n"
     ]
    }
   ],
   "source": [
    "%pdb off"
   ]
  },
  {
   "cell_type": "code",
   "execution_count": 6,
   "metadata": {
    "collapsed": false
   },
   "outputs": [],
   "source": [
    "annotations = pd.read_csv('/media/sf_VBox_Shared/London/UCL_data_Jan2017/test_tud.csv')"
   ]
  },
  {
   "cell_type": "code",
   "execution_count": 7,
   "metadata": {
    "collapsed": false
   },
   "outputs": [
    {
     "name": "stdout",
     "output_type": "stream",
     "text": [
      "Number of missing start and end times: 0 0\n"
     ]
    }
   ],
   "source": [
    "annotations = dataprep.remove_invalid_annotations(annotations)\n",
    "\n",
    "# Convert timestamps to datetime\n",
    "annotations['start_time'] = [dataprep.parse_time(s) for s in annotations['start_time']]\n",
    "annotations['end_time'] = [dataprep.parse_time(s) for s in annotations['end_time']]"
   ]
  },
  {
   "cell_type": "code",
   "execution_count": 8,
   "metadata": {
    "collapsed": false
   },
   "outputs": [],
   "source": [
    "annotations = annotations.sort_values(['accSmallID', 'day', 'slot'])\n",
    "annotations.index = list(range(annotations.shape[0]))"
   ]
  },
  {
   "cell_type": "code",
   "execution_count": 12,
   "metadata": {
    "collapsed": true
   },
   "outputs": [],
   "source": [
    "differences = [x-y for x,y in zip(annotations['end_time'], annotations['start_time'])]\n",
    "diff_indices = [x != pd.Timedelta(10, unit='m') for x in differences]"
   ]
  },
  {
   "cell_type": "code",
   "execution_count": 13,
   "metadata": {
    "collapsed": false
   },
   "outputs": [
    {
     "data": {
      "text/plain": [
       "[Timedelta('0 days 00:10:00'),\n",
       " Timedelta('0 days 00:10:00'),\n",
       " Timedelta('0 days 00:10:00'),\n",
       " Timedelta('0 days 00:10:00')]"
      ]
     },
     "execution_count": 13,
     "metadata": {},
     "output_type": "execute_result"
    }
   ],
   "source": [
    "differences"
   ]
  },
  {
   "cell_type": "code",
   "execution_count": 123,
   "metadata": {
    "collapsed": false
   },
   "outputs": [],
   "source": [
    "time_a = dataprep.parse_time(\"2015-03-29T00:50:00+0000\")\n",
    "time_b = dataprep.parse_time(\"2015-03-29T02:00:00+0100\")"
   ]
  },
  {
   "cell_type": "code",
   "execution_count": 16,
   "metadata": {
    "collapsed": false
   },
   "outputs": [
    {
     "name": "stdout",
     "output_type": "stream",
     "text": [
      "Automatic pdb calling has been turned ON\n",
      "Number of missing start and end times: 0 0\n",
      "Multiple end times per slot. first 10:\n",
      "slot\n",
      "1                        [04:10:00, 10:10:00, 08:10:00]\n",
      "2              [04:20:00, 10:20:00, 08:30:00, 04:10:00]\n",
      "3     [04:30:00, 10:30:00, 09:00:00, 04:40:00, 04:20...\n",
      "4     [04:40:00, 10:40:00, 09:10:00, 04:50:00, 04:30...\n",
      "5     [04:50:00, 10:50:00, 09:20:00, 05:00:00, 04:40...\n",
      "6     [05:00:00, 05:10:00, 11:00:00, 10:00:00, 04:50...\n",
      "7     [05:10:00, 05:20:00, 11:10:00, 12:40:00, 05:00...\n",
      "8     [05:20:00, 05:30:00, 11:20:00, 12:50:00, 05:10...\n",
      "9     [05:30:00, 05:40:00, 11:30:00, 13:00:00, 05:20...\n",
      "10    [05:40:00, 05:50:00, 11:40:00, 13:10:00, 05:30...\n",
      "Name: end_time_time, dtype: object\n",
      "Not all days have 144 slots! first 5:\n",
      "accSmallID  day\n",
      "7a1fd48f    1      137\n",
      "7a2bbb74    1      118\n",
      "            2       90\n",
      "7a2e1cd4    1      138\n",
      "7a44256e    2       72\n",
      "Name: slot, dtype: int64\n"
     ]
    }
   ],
   "source": [
    "%pdb on\n",
    "annotations = dataprep.process_annotations(\"/media/sf_VBox_Shared/London/UCL_data_Jan2017/tud.csv\")"
   ]
  },
  {
   "cell_type": "code",
   "execution_count": null,
   "metadata": {
    "collapsed": true
   },
   "outputs": [],
   "source": []
  }
 ],
 "metadata": {
  "anaconda-cloud": {},
  "kernelspec": {
   "display_name": "Python [conda env:ucl2]",
   "language": "python",
   "name": "conda-env-ucl2-py"
  },
  "language_info": {
   "codemirror_mode": {
    "name": "ipython",
    "version": 2
   },
   "file_extension": ".py",
   "mimetype": "text/x-python",
   "name": "python",
   "nbconvert_exporter": "python",
   "pygments_lexer": "ipython2",
   "version": "2.7.12"
  }
 },
 "nbformat": 4,
 "nbformat_minor": 0
}
