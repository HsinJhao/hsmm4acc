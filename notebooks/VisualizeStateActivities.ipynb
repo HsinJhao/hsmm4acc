{
 "cells": [
  {
   "cell_type": "code",
   "execution_count": 84,
   "metadata": {
    "collapsed": false
   },
   "outputs": [
    {
     "name": "stdout",
     "output_type": "stream",
     "text": [
      "The autoreload extension is already loaded. To reload it, use:\n",
      "  %reload_ext autoreload\n"
     ]
    }
   ],
   "source": [
    "import pandas as pd\n",
    "from __future__ import print_function\n",
    "%matplotlib inline\n",
    "%load_ext autoreload\n",
    "%autoreload 2\n",
    "import numpy as np\n",
    "import matplotlib.pyplot as plt"
   ]
  },
  {
   "cell_type": "code",
   "execution_count": 85,
   "metadata": {
    "collapsed": false
   },
   "outputs": [],
   "source": [
    "import sys\n",
    "import os\n",
    "sys.path.insert(0, os.path.abspath('..'))\n",
    "from UKMovementSensing import hsmm"
   ]
  },
  {
   "cell_type": "code",
   "execution_count": 86,
   "metadata": {
    "collapsed": true
   },
   "outputs": [],
   "source": [
    "states_path_model = '/media/sf_VBox_Shared/London/raw/first5/datawithstates/model_rolacc_4states.pkl/'"
   ]
  },
  {
   "cell_type": "code",
   "execution_count": 87,
   "metadata": {
    "collapsed": false
   },
   "outputs": [
    {
     "name": "stdout",
     "output_type": "stream",
     "text": [
      "11\n"
     ]
    }
   ],
   "source": [
    "# Import data with states\n",
    "filenames = os.listdir(states_path_model)\n",
    "filenames = [fn for fn in filenames if os.path.isfile(os.path.join(states_path_model,fn))]\n",
    "datasets = [pd.read_csv(os.path.join(states_path_model,fn), encoding='utf-8') for fn in filenames]\n",
    "print(len(datasets))"
   ]
  },
  {
   "cell_type": "code",
   "execution_count": 88,
   "metadata": {
    "collapsed": true
   },
   "outputs": [],
   "source": [
    "example_index = 0\n",
    "data = datasets[example_index]\n",
    "hidden_states = data['state']"
   ]
  },
  {
   "cell_type": "code",
   "execution_count": 89,
   "metadata": {
    "collapsed": false
   },
   "outputs": [
    {
     "data": {
      "text/plain": [
       "Index([u'timestamp', u'acceleration', u'EN', u'anglex', u'angley', u'anglez',\n",
       "       u'roll_med_acc_x', u'roll_med_acc_y', u'roll_med_acc_z',\n",
       "       u'dev_roll_med_acc_x', u'dev_roll_med_acc_y', u'dev_roll_med_acc_z',\n",
       "       u'invalid', u'filename', u'Slot', u'act', u'act_label', u'start_time',\n",
       "       u'subset', u'switched_pos', u'state'],\n",
       "      dtype='object')"
      ]
     },
     "execution_count": 89,
     "metadata": {},
     "output_type": "execute_result"
    }
   ],
   "source": [
    "data.columns"
   ]
  },
  {
   "cell_type": "code",
   "execution_count": 90,
   "metadata": {
    "collapsed": true
   },
   "outputs": [],
   "source": [
    "colormap, cmap = hsmm.get_color_map(data.state.nunique()+1)"
   ]
  },
  {
   "cell_type": "code",
   "execution_count": 91,
   "metadata": {
    "collapsed": true
   },
   "outputs": [],
   "source": [
    "def plot_states_and_var(data, hidden_states, cmap=None, columns=None, by='Activity'):\n",
    "    \"\"\"\n",
    "    Make  a plot of the data and the states\n",
    "\n",
    "    Parameters\n",
    "    ----------\n",
    "    data : pandas DataFrame\n",
    "        Data to plot\n",
    "    hidden_states: iteretable\n",
    "        the hidden states corresponding to the timesteps\n",
    "    columns : list, optional\n",
    "        Which columns to plot\n",
    "    by : str\n",
    "        The column to group on\n",
    "    \"\"\"\n",
    "    fig, ax = plt.subplots(figsize=(15, 5))\n",
    "    if columns is None:\n",
    "        columns = data.columns\n",
    "    for act in set(data[by]):\n",
    "        for col in columns:\n",
    "            dfa = data[col].copy()\n",
    "            dfa[data[by] != act] = 0\n",
    "            dfa.plot(label=str(col) + ' - ' + str(act), ax=ax)\n",
    "    plt.legend(bbox_to_anchor=(0., 1.02, 1., .102), loc=3)\n",
    "    if cmap is None:\n",
    "        num_states = max(hidden_states) + 1\n",
    "        colormap, cmap = get_color_map(num_states)\n",
    "    scale = np.array(data[columns]).max()\n",
    "    sca = plt.scatter(\n",
    "        data.index,\n",
    "        np.ones_like(hidden_states) * scale,\n",
    "        c=hidden_states,\n",
    "        cmap=cmap,\n",
    "        edgecolors='none')\n",
    "    plt.colorbar(\n",
    "        sca,\n",
    "        ticks=np.arange(np.min(hidden_states),\n",
    "                        np.max(hidden_states) + 1))\n"
   ]
  },
  {
   "cell_type": "code",
   "execution_count": 92,
   "metadata": {
    "collapsed": false
   },
   "outputs": [],
   "source": [
    "columns=['acceleration']\n",
    "by='act'\n",
    "df = data[columns]\n",
    "stateseq = np.array(hidden_states)\n",
    "actseq = np.array(data[by])"
   ]
  },
  {
   "cell_type": "code",
   "execution_count": 104,
   "metadata": {
    "collapsed": false
   },
   "outputs": [],
   "source": [
    "from pyhsmm.util.general import rle\n",
    "stateseq_norep, durations = rle(stateseq)\n",
    "datamin, datamax = np.array(df).min(), np.array(df).max()\n",
    "x, y = np.hstack((0,durations.cumsum())), np.array([datamin,datamax])\n",
    "C = np.atleast_2d([colormap[state] for state in stateseq_norep])"
   ]
  },
  {
   "cell_type": "code",
   "execution_count": 105,
   "metadata": {
    "collapsed": false
   },
   "outputs": [
    {
     "data": {
      "text/plain": [
       "(1, 132)"
      ]
     },
     "execution_count": 105,
     "metadata": {},
     "output_type": "execute_result"
    }
   ],
   "source": [
    "maxstate = data.state.nunique()+1\n",
    "C = np.array([[float(state)/maxstate] for state in stateseq_norep]).transpose()\n",
    "C.shape"
   ]
  },
  {
   "cell_type": "code",
   "execution_count": 109,
   "metadata": {
    "collapsed": false
   },
   "outputs": [
    {
     "data": {
      "image/png": "[encoded data removed]",
      "text/plain": [
       "<matplotlib.figure.Figure at 0x7fda0f6661d0>"
      ]
     },
     "metadata": {},
     "output_type": "display_data"
    }
   ],
   "source": [
    "fig, ax = plt.subplots(figsize=(15, 5))\n",
    "#ax.set_ylim((datamin,datamax))\n",
    "ax.pcolorfast(x,y,C,vmin=0,vmax=1,alpha=0.3, cmap=cmap)\n",
    "data[columns].plot(ax=ax)\n",
    "ax.set_xlim((0,len(hidden_states)))\n",
    "sca = ax.scatter(\n",
    "        data.index,\n",
    "        np.ones_like(hidden_states) * datamax,\n",
    "        c=actseq,\n",
    "        #cmap=cmap,\n",
    "        edgecolors='none'\n",
    "        )"
   ]
  },
  {
   "cell_type": "code",
   "execution_count": null,
   "metadata": {
    "collapsed": true
   },
   "outputs": [],
   "source": []
  }
 ],
 "metadata": {
  "kernelspec": {
   "display_name": "Python 2",
   "language": "python",
   "name": "python2"
  },
  "language_info": {
   "codemirror_mode": {
    "name": "ipython",
    "version": 2
   },
   "file_extension": ".py",
   "mimetype": "text/x-python",
   "name": "python",
   "nbconvert_exporter": "python",
   "pygments_lexer": "ipython2",
   "version": "2.7.12"
  }
 },
 "nbformat": 4,
 "nbformat_minor": 0
}
