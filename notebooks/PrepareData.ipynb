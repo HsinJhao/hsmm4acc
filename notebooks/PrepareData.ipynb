{
 "cells": [
  {
   "cell_type": "code",
   "execution_count": 99,
   "metadata": {
    "collapsed": false
   },
   "outputs": [
    {
     "name": "stdout",
     "output_type": "stream",
     "text": [
      "The autoreload extension is already loaded. To reload it, use:\n",
      "  %reload_ext autoreload\n"
     ]
    }
   ],
   "source": [
    "%matplotlib inline\n",
    "%load_ext autoreload\n",
    "%autoreload 2\n",
    "\n",
    "import pandas as pd\n",
    "import numpy as np\n",
    "import matplotlib.pyplot as plt\n",
    "import datetime\n",
    "import os\n",
    "import sys\n",
    "import dateutil.parser\n",
    "\n",
    "from __future__ import print_function"
   ]
  },
  {
   "cell_type": "code",
   "execution_count": 100,
   "metadata": {
    "collapsed": false
   },
   "outputs": [],
   "source": [
    "sys.path.insert(0, os.path.abspath('..'))\n",
    "\n",
    "from UKMovementSensing import dataprep"
   ]
  },
  {
   "cell_type": "markdown",
   "metadata": {},
   "source": [
    "## Filepaths"
   ]
  },
  {
   "cell_type": "code",
   "execution_count": 101,
   "metadata": {
    "collapsed": true
   },
   "outputs": [],
   "source": [
    "rootpath = '/media/sf_VBox_Shared/London/raw/first5/'\n",
    "annotations_path = rootpath + 'tud_first5.csv'\n",
    "wearcodes_path = rootpath + 'wearcodes.csv'"
   ]
  },
  {
   "cell_type": "code",
   "execution_count": 102,
   "metadata": {
    "collapsed": true
   },
   "outputs": [],
   "source": [
    "filepath = rootpath + 'accelerometer_5second/'"
   ]
  },
  {
   "cell_type": "markdown",
   "metadata": {},
   "source": [
    "## Functions"
   ]
  },
  {
   "cell_type": "code",
   "execution_count": null,
   "metadata": {
    "collapsed": false
   },
   "outputs": [],
   "source": [
    "\n",
    "    "
   ]
  },
  {
   "cell_type": "markdown",
   "metadata": {},
   "source": [
    "## Load and preprocess annotations"
   ]
  },
  {
   "cell_type": "code",
   "execution_count": null,
   "metadata": {
    "collapsed": true
   },
   "outputs": [],
   "source": [
    "\n",
    "    "
   ]
  },
  {
   "cell_type": "code",
   "execution_count": 103,
   "metadata": {
    "collapsed": false
   },
   "outputs": [
    {
     "name": "stdout",
     "output_type": "stream",
     "text": [
      "Number of missing start and end times: 0 0\n",
      "Differens between start and end not always 10 minutes! in 10 cases.\n",
      "(1440, 5)\n"
     ]
    },
    {
     "data": {
      "text/html": [
       "<div>\n",
       "<table border=\"1\" class=\"dataframe\">\n",
       "  <thead>\n",
       "    <tr style=\"text-align: right;\">\n",
       "      <th></th>\n",
       "      <th>serflag</th>\n",
       "      <th>start_time</th>\n",
       "      <th>end_time</th>\n",
       "      <th>act</th>\n",
       "      <th>act_label</th>\n",
       "    </tr>\n",
       "  </thead>\n",
       "  <tbody>\n",
       "    <tr>\n",
       "      <th>0</th>\n",
       "      <td>52920071_100</td>\n",
       "      <td>2015-03-01 04:00:00+00:00</td>\n",
       "      <td>2015-03-01 04:10:00+00:00</td>\n",
       "      <td>1.0</td>\n",
       "      <td>Sleeping and resting (including sick in bed)</td>\n",
       "    </tr>\n",
       "    <tr>\n",
       "      <th>1</th>\n",
       "      <td>52920071_100</td>\n",
       "      <td>2015-03-01 04:10:00+00:00</td>\n",
       "      <td>2015-03-01 04:20:00+00:00</td>\n",
       "      <td>1.0</td>\n",
       "      <td>Sleeping and resting (including sick in bed)</td>\n",
       "    </tr>\n",
       "    <tr>\n",
       "      <th>2</th>\n",
       "      <td>52920071_100</td>\n",
       "      <td>2015-03-01 04:20:00+00:00</td>\n",
       "      <td>2015-03-01 04:30:00+00:00</td>\n",
       "      <td>1.0</td>\n",
       "      <td>Sleeping and resting (including sick in bed)</td>\n",
       "    </tr>\n",
       "    <tr>\n",
       "      <th>3</th>\n",
       "      <td>52920071_100</td>\n",
       "      <td>2015-03-01 04:30:00+00:00</td>\n",
       "      <td>2015-03-01 04:40:00+00:00</td>\n",
       "      <td>1.0</td>\n",
       "      <td>Sleeping and resting (including sick in bed)</td>\n",
       "    </tr>\n",
       "    <tr>\n",
       "      <th>4</th>\n",
       "      <td>52920071_100</td>\n",
       "      <td>2015-03-01 04:40:00+00:00</td>\n",
       "      <td>2015-03-01 04:50:00+00:00</td>\n",
       "      <td>1.0</td>\n",
       "      <td>Sleeping and resting (including sick in bed)</td>\n",
       "    </tr>\n",
       "  </tbody>\n",
       "</table>\n",
       "</div>"
      ],
      "text/plain": [
       "        serflag                start_time                  end_time  act  \\\n",
       "0  52920071_100 2015-03-01 04:00:00+00:00 2015-03-01 04:10:00+00:00  1.0   \n",
       "1  52920071_100 2015-03-01 04:10:00+00:00 2015-03-01 04:20:00+00:00  1.0   \n",
       "2  52920071_100 2015-03-01 04:20:00+00:00 2015-03-01 04:30:00+00:00  1.0   \n",
       "3  52920071_100 2015-03-01 04:30:00+00:00 2015-03-01 04:40:00+00:00  1.0   \n",
       "4  52920071_100 2015-03-01 04:40:00+00:00 2015-03-01 04:50:00+00:00  1.0   \n",
       "\n",
       "                                      act_label  \n",
       "0  Sleeping and resting (including sick in bed)  \n",
       "1  Sleeping and resting (including sick in bed)  \n",
       "2  Sleeping and resting (including sick in bed)  \n",
       "3  Sleeping and resting (including sick in bed)  \n",
       "4  Sleeping and resting (including sick in bed)  "
      ]
     },
     "execution_count": 103,
     "metadata": {},
     "output_type": "execute_result"
    }
   ],
   "source": [
    "annotations = dataprep.process_annotations(annotations_path)\n",
    "print(annotations.shape)\n",
    "annotations.head()"
   ]
  },
  {
   "cell_type": "markdown",
   "metadata": {},
   "source": [
    "## Join with wearcodes"
   ]
  },
  {
   "cell_type": "code",
   "execution_count": 104,
   "metadata": {
    "collapsed": false
   },
   "outputs": [
    {
     "name": "stdout",
     "output_type": "stream",
     "text": [
      "(5, 8)\n"
     ]
    },
    {
     "data": {
      "text/html": [
       "<div>\n",
       "<table border=\"1\" class=\"dataframe\">\n",
       "  <thead>\n",
       "    <tr style=\"text-align: right;\">\n",
       "      <th></th>\n",
       "      <th>Monitor</th>\n",
       "      <th>Day1</th>\n",
       "      <th>Day2</th>\n",
       "      <th>binFile</th>\n",
       "      <th>serflag</th>\n",
       "      <th>fileSize</th>\n",
       "      <th>day1Ready</th>\n",
       "      <th>day2Ready</th>\n",
       "    </tr>\n",
       "  </thead>\n",
       "  <tbody>\n",
       "    <tr>\n",
       "      <th>0</th>\n",
       "      <td>16566</td>\n",
       "      <td>2015-03-11</td>\n",
       "      <td>2015-03-15</td>\n",
       "      <td>__016566_2015-03-24 14-52-30.bin</td>\n",
       "      <td>81510041_100</td>\n",
       "      <td>777664025</td>\n",
       "      <td>True</td>\n",
       "      <td>True</td>\n",
       "    </tr>\n",
       "    <tr>\n",
       "      <th>1</th>\n",
       "      <td>16580</td>\n",
       "      <td>2015-03-05</td>\n",
       "      <td>2015-03-08</td>\n",
       "      <td>__016580_2015-03-12 09-09-15.bin</td>\n",
       "      <td>102650051_100</td>\n",
       "      <td>522410444</td>\n",
       "      <td>True</td>\n",
       "      <td>True</td>\n",
       "    </tr>\n",
       "    <tr>\n",
       "      <th>2</th>\n",
       "      <td>18618</td>\n",
       "      <td>2015-03-15</td>\n",
       "      <td>2015-03-16</td>\n",
       "      <td>__018618_2015-03-20 11-15-03.bin</td>\n",
       "      <td>62980071_100</td>\n",
       "      <td>565693441</td>\n",
       "      <td>True</td>\n",
       "      <td>True</td>\n",
       "    </tr>\n",
       "    <tr>\n",
       "      <th>3</th>\n",
       "      <td>18635</td>\n",
       "      <td>2015-03-01</td>\n",
       "      <td>2015-03-03</td>\n",
       "      <td>__018635_2015-03-11 14-06-25.bin</td>\n",
       "      <td>52920071_100</td>\n",
       "      <td>692552249</td>\n",
       "      <td>True</td>\n",
       "      <td>True</td>\n",
       "    </tr>\n",
       "    <tr>\n",
       "      <th>4</th>\n",
       "      <td>18643</td>\n",
       "      <td>2015-03-06</td>\n",
       "      <td>2015-03-07</td>\n",
       "      <td>__018643_2015-03-13 12-19-47.bin</td>\n",
       "      <td>122650071_100</td>\n",
       "      <td>525756098</td>\n",
       "      <td>True</td>\n",
       "      <td>True</td>\n",
       "    </tr>\n",
       "  </tbody>\n",
       "</table>\n",
       "</div>"
      ],
      "text/plain": [
       "   Monitor       Day1       Day2                           binFile  \\\n",
       "0    16566 2015-03-11 2015-03-15  __016566_2015-03-24 14-52-30.bin   \n",
       "1    16580 2015-03-05 2015-03-08  __016580_2015-03-12 09-09-15.bin   \n",
       "2    18618 2015-03-15 2015-03-16  __018618_2015-03-20 11-15-03.bin   \n",
       "3    18635 2015-03-01 2015-03-03  __018635_2015-03-11 14-06-25.bin   \n",
       "4    18643 2015-03-06 2015-03-07  __018643_2015-03-13 12-19-47.bin   \n",
       "\n",
       "         serflag   fileSize day1Ready day2Ready  \n",
       "0   81510041_100  777664025      True      True  \n",
       "1  102650051_100  522410444      True      True  \n",
       "2   62980071_100  565693441      True      True  \n",
       "3   52920071_100  692552249      True      True  \n",
       "4  122650071_100  525756098      True      True  "
      ]
     },
     "execution_count": 104,
     "metadata": {},
     "output_type": "execute_result"
    }
   ],
   "source": [
    "wearcodes = pd.read_csv(wearcodes_path)\n",
    "wearcodes['Day1'] = [datetime.datetime.strptime(s, '%d/%m/%Y') for s in wearcodes['Day1']]\n",
    "wearcodes['Day2'] = [datetime.datetime.strptime(s, '%d/%m/%Y') for s in wearcodes['Day2']]\n",
    "print(wearcodes.shape)\n",
    "wearcodes.head()"
   ]
  },
  {
   "cell_type": "code",
   "execution_count": 105,
   "metadata": {
    "collapsed": false
   },
   "outputs": [
    {
     "name": "stdout",
     "output_type": "stream",
     "text": [
      "(1440, 12)\n"
     ]
    },
    {
     "data": {
      "text/html": [
       "<div>\n",
       "<table border=\"1\" class=\"dataframe\">\n",
       "  <thead>\n",
       "    <tr style=\"text-align: right;\">\n",
       "      <th></th>\n",
       "      <th>serflag</th>\n",
       "      <th>start_time</th>\n",
       "      <th>end_time</th>\n",
       "      <th>act</th>\n",
       "      <th>act_label</th>\n",
       "      <th>Monitor</th>\n",
       "      <th>Day1</th>\n",
       "      <th>Day2</th>\n",
       "      <th>binFile</th>\n",
       "      <th>fileSize</th>\n",
       "      <th>day1Ready</th>\n",
       "      <th>day2Ready</th>\n",
       "    </tr>\n",
       "  </thead>\n",
       "  <tbody>\n",
       "    <tr>\n",
       "      <th>0</th>\n",
       "      <td>52920071_100</td>\n",
       "      <td>2015-03-01 04:00:00+00:00</td>\n",
       "      <td>2015-03-01 04:10:00+00:00</td>\n",
       "      <td>1.0</td>\n",
       "      <td>Sleeping and resting (including sick in bed)</td>\n",
       "      <td>18635</td>\n",
       "      <td>2015-03-01</td>\n",
       "      <td>2015-03-03</td>\n",
       "      <td>__018635_2015-03-11 14-06-25.bin</td>\n",
       "      <td>692552249</td>\n",
       "      <td>True</td>\n",
       "      <td>True</td>\n",
       "    </tr>\n",
       "    <tr>\n",
       "      <th>1</th>\n",
       "      <td>52920071_100</td>\n",
       "      <td>2015-03-01 04:10:00+00:00</td>\n",
       "      <td>2015-03-01 04:20:00+00:00</td>\n",
       "      <td>1.0</td>\n",
       "      <td>Sleeping and resting (including sick in bed)</td>\n",
       "      <td>18635</td>\n",
       "      <td>2015-03-01</td>\n",
       "      <td>2015-03-03</td>\n",
       "      <td>__018635_2015-03-11 14-06-25.bin</td>\n",
       "      <td>692552249</td>\n",
       "      <td>True</td>\n",
       "      <td>True</td>\n",
       "    </tr>\n",
       "    <tr>\n",
       "      <th>2</th>\n",
       "      <td>52920071_100</td>\n",
       "      <td>2015-03-01 04:20:00+00:00</td>\n",
       "      <td>2015-03-01 04:30:00+00:00</td>\n",
       "      <td>1.0</td>\n",
       "      <td>Sleeping and resting (including sick in bed)</td>\n",
       "      <td>18635</td>\n",
       "      <td>2015-03-01</td>\n",
       "      <td>2015-03-03</td>\n",
       "      <td>__018635_2015-03-11 14-06-25.bin</td>\n",
       "      <td>692552249</td>\n",
       "      <td>True</td>\n",
       "      <td>True</td>\n",
       "    </tr>\n",
       "    <tr>\n",
       "      <th>3</th>\n",
       "      <td>52920071_100</td>\n",
       "      <td>2015-03-01 04:30:00+00:00</td>\n",
       "      <td>2015-03-01 04:40:00+00:00</td>\n",
       "      <td>1.0</td>\n",
       "      <td>Sleeping and resting (including sick in bed)</td>\n",
       "      <td>18635</td>\n",
       "      <td>2015-03-01</td>\n",
       "      <td>2015-03-03</td>\n",
       "      <td>__018635_2015-03-11 14-06-25.bin</td>\n",
       "      <td>692552249</td>\n",
       "      <td>True</td>\n",
       "      <td>True</td>\n",
       "    </tr>\n",
       "    <tr>\n",
       "      <th>4</th>\n",
       "      <td>52920071_100</td>\n",
       "      <td>2015-03-01 04:40:00+00:00</td>\n",
       "      <td>2015-03-01 04:50:00+00:00</td>\n",
       "      <td>1.0</td>\n",
       "      <td>Sleeping and resting (including sick in bed)</td>\n",
       "      <td>18635</td>\n",
       "      <td>2015-03-01</td>\n",
       "      <td>2015-03-03</td>\n",
       "      <td>__018635_2015-03-11 14-06-25.bin</td>\n",
       "      <td>692552249</td>\n",
       "      <td>True</td>\n",
       "      <td>True</td>\n",
       "    </tr>\n",
       "  </tbody>\n",
       "</table>\n",
       "</div>"
      ],
      "text/plain": [
       "        serflag                start_time                  end_time  act  \\\n",
       "0  52920071_100 2015-03-01 04:00:00+00:00 2015-03-01 04:10:00+00:00  1.0   \n",
       "1  52920071_100 2015-03-01 04:10:00+00:00 2015-03-01 04:20:00+00:00  1.0   \n",
       "2  52920071_100 2015-03-01 04:20:00+00:00 2015-03-01 04:30:00+00:00  1.0   \n",
       "3  52920071_100 2015-03-01 04:30:00+00:00 2015-03-01 04:40:00+00:00  1.0   \n",
       "4  52920071_100 2015-03-01 04:40:00+00:00 2015-03-01 04:50:00+00:00  1.0   \n",
       "\n",
       "                                      act_label  Monitor       Day1  \\\n",
       "0  Sleeping and resting (including sick in bed)    18635 2015-03-01   \n",
       "1  Sleeping and resting (including sick in bed)    18635 2015-03-01   \n",
       "2  Sleeping and resting (including sick in bed)    18635 2015-03-01   \n",
       "3  Sleeping and resting (including sick in bed)    18635 2015-03-01   \n",
       "4  Sleeping and resting (including sick in bed)    18635 2015-03-01   \n",
       "\n",
       "        Day2                           binFile   fileSize day1Ready day2Ready  \n",
       "0 2015-03-03  __018635_2015-03-11 14-06-25.bin  692552249      True      True  \n",
       "1 2015-03-03  __018635_2015-03-11 14-06-25.bin  692552249      True      True  \n",
       "2 2015-03-03  __018635_2015-03-11 14-06-25.bin  692552249      True      True  \n",
       "3 2015-03-03  __018635_2015-03-11 14-06-25.bin  692552249      True      True  \n",
       "4 2015-03-03  __018635_2015-03-11 14-06-25.bin  692552249      True      True  "
      ]
     },
     "execution_count": 105,
     "metadata": {},
     "output_type": "execute_result"
    }
   ],
   "source": [
    "annotations_codes = pd.merge(annotations, wearcodes, on='serflag', how='left')\n",
    "print(annotations_codes.shape)\n",
    "annotations_codes.head()"
   ]
  },
  {
   "cell_type": "markdown",
   "metadata": {},
   "source": [
    "## Load and preprocess data"
   ]
  },
  {
   "cell_type": "code",
   "execution_count": 106,
   "metadata": {
    "collapsed": false
   },
   "outputs": [],
   "source": [
    "byName = annotations_codes.groupby('binFile')\n",
    "dfs = {}\n",
    "for name, fileAnnotations in byName:\n",
    "    # Load data\n",
    "    df = dataprep.loadData(name, filepath)\n",
    "    \n",
    "    if df is not None:    \n",
    "        # Add annotations\n",
    "        dfs.update(df)"
   ]
  },
  {
   "cell_type": "code",
   "execution_count": 107,
   "metadata": {
    "collapsed": false
   },
   "outputs": [
    {
     "data": {
      "text/html": [
       "<div>\n",
       "<table border=\"1\" class=\"dataframe\">\n",
       "  <thead>\n",
       "    <tr style=\"text-align: right;\">\n",
       "      <th></th>\n",
       "      <th>acceleration</th>\n",
       "      <th>anglex</th>\n",
       "      <th>angley</th>\n",
       "      <th>anglez</th>\n",
       "      <th>invalid</th>\n",
       "      <th>filename</th>\n",
       "    </tr>\n",
       "    <tr>\n",
       "      <th>timestamp</th>\n",
       "      <th></th>\n",
       "      <th></th>\n",
       "      <th></th>\n",
       "      <th></th>\n",
       "      <th></th>\n",
       "      <th></th>\n",
       "    </tr>\n",
       "  </thead>\n",
       "  <tbody>\n",
       "    <tr>\n",
       "      <th>2015-03-15 04:00:00</th>\n",
       "      <td>0.001881</td>\n",
       "      <td>23.5825747869742</td>\n",
       "      <td>-31.9813789387999</td>\n",
       "      <td>48.4125825249496</td>\n",
       "      <td>0</td>\n",
       "      <td>__018618_2015-03-20 11-15-03.bin_day1</td>\n",
       "    </tr>\n",
       "    <tr>\n",
       "      <th>2015-03-15 04:00:05</th>\n",
       "      <td>0.001864</td>\n",
       "      <td>23.6166016121363</td>\n",
       "      <td>-31.8864189902329</td>\n",
       "      <td>48.4733538278626</td>\n",
       "      <td>0</td>\n",
       "      <td>__018618_2015-03-20 11-15-03.bin_day1</td>\n",
       "    </tr>\n",
       "    <tr>\n",
       "      <th>2015-03-15 04:00:10</th>\n",
       "      <td>0.001593</td>\n",
       "      <td>23.6326325559709</td>\n",
       "      <td>-31.8533596832388</td>\n",
       "      <td>48.4913226097319</td>\n",
       "      <td>0</td>\n",
       "      <td>__018618_2015-03-20 11-15-03.bin_day1</td>\n",
       "    </tr>\n",
       "    <tr>\n",
       "      <th>2015-03-15 04:00:15</th>\n",
       "      <td>0.001915</td>\n",
       "      <td>23.5976632507158</td>\n",
       "      <td>-31.8753685358903</td>\n",
       "      <td>48.4973484430271</td>\n",
       "      <td>0</td>\n",
       "      <td>__018618_2015-03-20 11-15-03.bin_day1</td>\n",
       "    </tr>\n",
       "    <tr>\n",
       "      <th>2015-03-15 04:00:20</th>\n",
       "      <td>0.001773</td>\n",
       "      <td>23.7701111010191</td>\n",
       "      <td>-31.9568528087253</td>\n",
       "      <td>48.2958632383147</td>\n",
       "      <td>0</td>\n",
       "      <td>__018618_2015-03-20 11-15-03.bin_day1</td>\n",
       "    </tr>\n",
       "  </tbody>\n",
       "</table>\n",
       "</div>"
      ],
      "text/plain": [
       "                     acceleration            anglex             angley  \\\n",
       "timestamp                                                                \n",
       "2015-03-15 04:00:00      0.001881  23.5825747869742  -31.9813789387999   \n",
       "2015-03-15 04:00:05      0.001864  23.6166016121363  -31.8864189902329   \n",
       "2015-03-15 04:00:10      0.001593  23.6326325559709  -31.8533596832388   \n",
       "2015-03-15 04:00:15      0.001915  23.5976632507158  -31.8753685358903   \n",
       "2015-03-15 04:00:20      0.001773  23.7701111010191  -31.9568528087253   \n",
       "\n",
       "                               anglez  invalid  \\\n",
       "timestamp                                        \n",
       "2015-03-15 04:00:00  48.4125825249496        0   \n",
       "2015-03-15 04:00:05  48.4733538278626        0   \n",
       "2015-03-15 04:00:10  48.4913226097319        0   \n",
       "2015-03-15 04:00:15  48.4973484430271        0   \n",
       "2015-03-15 04:00:20  48.2958632383147        0   \n",
       "\n",
       "                                                  filename  \n",
       "timestamp                                                   \n",
       "2015-03-15 04:00:00  __018618_2015-03-20 11-15-03.bin_day1  \n",
       "2015-03-15 04:00:05  __018618_2015-03-20 11-15-03.bin_day1  \n",
       "2015-03-15 04:00:10  __018618_2015-03-20 11-15-03.bin_day1  \n",
       "2015-03-15 04:00:15  __018618_2015-03-20 11-15-03.bin_day1  \n",
       "2015-03-15 04:00:20  __018618_2015-03-20 11-15-03.bin_day1  "
      ]
     },
     "execution_count": 107,
     "metadata": {},
     "output_type": "execute_result"
    }
   ],
   "source": [
    "test_name = dfs.keys()[0]\n",
    "dfs[test_name].head()"
   ]
  },
  {
   "cell_type": "code",
   "execution_count": 108,
   "metadata": {
    "collapsed": false
   },
   "outputs": [
    {
     "name": "stdout",
     "output_type": "stream",
     "text": [
      "2015-02-22\n"
     ]
    }
   ],
   "source": [
    "print(wearcode.to_dict()['Day1'].values()[0].date())"
   ]
  },
  {
   "cell_type": "code",
   "execution_count": 111,
   "metadata": {
    "collapsed": false
   },
   "outputs": [
    {
     "name": "stdout",
     "output_type": "stream",
     "text": [
      "__018635_2015-03-11 14-06-25.bin_day2\t2015-03-01\t2015-03-03\n",
      "__016566_2015-03-24 14-52-30.bin_day2\t2015-03-11\t2015-03-15\n",
      "__018643_2015-03-13 12-19-47.bin_day2\t2015-03-06\t2015-03-07\n",
      "__018618_2015-03-20 11-15-03.bin_day2\t2015-03-15\t2015-03-16\n",
      "__016580_2015-03-12 09-09-15.bin_day2\t2015-03-05\t2015-03-08\n"
     ]
    }
   ],
   "source": [
    "#wearcodes.groupby('binFile')\n",
    "for binFile, day in dfs.keys():\n",
    "    df = dfs[(binFile, day)]\n",
    "    wearcode = wearcodes[wearcodes['binFile']==binFile]\n",
    "    realday = wearcode.to_dict()['Day'+str(day)].values()[0].date()\n",
    "    file_date = df.index[0].date() \n",
    "    if file_date !=  realday:\n",
    "        print(binFile+'_day'+str(day)+\"\\t\"+str(file_date)+\"\\t\"+str(realday))"
   ]
  },
  {
   "cell_type": "code",
   "execution_count": null,
   "metadata": {
    "collapsed": false
   },
   "outputs": [],
   "source": [
    "for binFile, day in dfs.keys():\n",
    "    df = dfs[(binFile, day)]\n",
    "    annotations_group = byName.get_group(binFile)\n",
    "    #annotations_group_day = annotations_group[annotations_group['Day'+day]]\n",
    "    for idx in annotations_group.index:\n",
    "        rStart = annotations_group.loc[idx, 'start_time']\n",
    "        rEnd = annotations_group.loc[idx, 'end_time']\n",
    "        df.loc[(df.index < rEnd) & (df.index > rStart), 'Activity'] = annotations_group.loc[idx, 'act_label']"
   ]
  },
  {
   "cell_type": "code",
   "execution_count": null,
   "metadata": {
    "collapsed": false
   },
   "outputs": [],
   "source": [
    "df"
   ]
  },
  {
   "cell_type": "code",
   "execution_count": null,
   "metadata": {
    "collapsed": false
   },
   "outputs": [],
   "source": [
    "merged_directory = os.path.join(rootpath, 'merged_5sec')\n",
    "if not os.path.exists(merged_directory):\n",
    "    os.makedirs(merged_directory)"
   ]
  },
  {
   "cell_type": "code",
   "execution_count": null,
   "metadata": {
    "collapsed": false
   },
   "outputs": [],
   "source": [
    "for binfile, day in dfs.keys():\n",
    "    df = dfs[(binFile, day)]\n",
    "    df.to_csv(os.path.join(merged_directory, binfile+'_day'+day+'.csv'))"
   ]
  },
  {
   "cell_type": "code",
   "execution_count": null,
   "metadata": {
    "collapsed": true
   },
   "outputs": [],
   "source": []
  }
 ],
 "metadata": {
  "kernelspec": {
   "display_name": "Python 2",
   "language": "python",
   "name": "python2"
  },
  "language_info": {
   "codemirror_mode": {
    "name": "ipython",
    "version": 2
   },
   "file_extension": ".py",
   "mimetype": "text/x-python",
   "name": "python",
   "nbconvert_exporter": "python",
   "pygments_lexer": "ipython2",
   "version": "2.7.12"
  }
 },
 "nbformat": 4,
 "nbformat_minor": 0
}
