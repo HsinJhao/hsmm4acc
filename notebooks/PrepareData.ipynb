{
 "cells": [
  {
   "cell_type": "code",
   "execution_count": 1,
   "metadata": {
    "collapsed": true
   },
   "outputs": [],
   "source": [
    "%matplotlib inline\n",
    "\n",
    "import pandas as pd\n",
    "import numpy as np\n",
    "import matplotlib.pyplot as plt"
   ]
  },
  {
   "cell_type": "markdown",
   "metadata": {},
   "source": [
    "## Filepaths"
   ]
  },
  {
   "cell_type": "code",
   "execution_count": 13,
   "metadata": {
    "collapsed": true
   },
   "outputs": [],
   "source": [
    "rootpath = '/media/sf_VBox_Shared/London/raw/first5/'\n",
    "annotations_path = rootpath + 'tud_first5.csv'\n",
    "wearcodes_path = rootpath + 'wearcodes.csv'"
   ]
  },
  {
   "cell_type": "code",
   "execution_count": 14,
   "metadata": {
    "collapsed": true
   },
   "outputs": [],
   "source": [
    "filepath = rootpath + 'output_first5/meta/csv/'"
   ]
  },
  {
   "cell_type": "markdown",
   "metadata": {},
   "source": [
    "## Functions"
   ]
  },
  {
   "cell_type": "code",
   "execution_count": 31,
   "metadata": {
    "collapsed": true
   },
   "outputs": [],
   "source": [
    "def loadData(name):\n",
    "    #try:\n",
    "        name = name + '.RData.csv'\n",
    "        filename = filepath + name\n",
    "        data = pd.read_csv(filename, index_col='timestamp', parse_dates=True)\n",
    "        return data\n",
    "    #except:\n",
    "        # print 'Fine not found: ',name\n",
    "    #    return None"
   ]
  },
  {
   "cell_type": "code",
   "execution_count": 7,
   "metadata": {
    "collapsed": true
   },
   "outputs": [],
   "source": [
    "def parseDate(dateStr):\n",
    "    try:\n",
    "        return datetime.datetime.strptime(dateStr, '%d/%m/%Y %H:%M:%S')\n",
    "    except:\n",
    "        # hack -- \n",
    "        dateStr = dateStr.replace('24:','00:')\n",
    "        dateStr = dateStr.replace('25:','01:')\n",
    "        dateStr = dateStr.replace('27:','03:')\n",
    "        return datetime.datetime.strptime(dateStr, '%d/%m/%Y %H:%M:%S')\n",
    "\n",
    "def addAnnotations(data, fileAnnotations):\n",
    "    for row in fileAnnotations[['ddate1', 'stime', 'etime', 'activity', 'filename']].as_matrix():\n",
    "        rStart = parseDate(row[0].strip() + ' ' + row[1].strip())\n",
    "        rEnd   = parseDate(row[0].strip() + ' ' + row[2].strip())\n",
    "        data.loc[(data.index < rEnd) & (data.index > rStart), 'Activity'] = row[3]\n",
    "        \n",
    "    return data"
   ]
  },
  {
   "cell_type": "markdown",
   "metadata": {},
   "source": [
    "## Load and preprocess annotations"
   ]
  },
  {
   "cell_type": "code",
   "execution_count": 15,
   "metadata": {
    "collapsed": false
   },
   "outputs": [
    {
     "name": "stdout",
     "output_type": "stream",
     "text": [
      "(1440, 5)\n"
     ]
    },
    {
     "data": {
      "text/html": [
       "<div>\n",
       "<table border=\"1\" class=\"dataframe\">\n",
       "  <thead>\n",
       "    <tr style=\"text-align: right;\">\n",
       "      <th></th>\n",
       "      <th>serflag</th>\n",
       "      <th>start_time</th>\n",
       "      <th>end_time</th>\n",
       "      <th>act</th>\n",
       "      <th>act_label</th>\n",
       "    </tr>\n",
       "  </thead>\n",
       "  <tbody>\n",
       "    <tr>\n",
       "      <th>0</th>\n",
       "      <td>52920071_100</td>\n",
       "      <td>2015-03-01T04:00:00.000Z</td>\n",
       "      <td>2015-03-01T04:10:00.000Z</td>\n",
       "      <td>1.0</td>\n",
       "      <td>Sleeping and resting (including sick in bed)</td>\n",
       "    </tr>\n",
       "    <tr>\n",
       "      <th>1</th>\n",
       "      <td>52920071_100</td>\n",
       "      <td>2015-03-01T04:10:00.000Z</td>\n",
       "      <td>2015-03-01T04:20:00.000Z</td>\n",
       "      <td>1.0</td>\n",
       "      <td>Sleeping and resting (including sick in bed)</td>\n",
       "    </tr>\n",
       "    <tr>\n",
       "      <th>2</th>\n",
       "      <td>52920071_100</td>\n",
       "      <td>2015-03-01T04:20:00.000Z</td>\n",
       "      <td>2015-03-01T04:30:00.000Z</td>\n",
       "      <td>1.0</td>\n",
       "      <td>Sleeping and resting (including sick in bed)</td>\n",
       "    </tr>\n",
       "    <tr>\n",
       "      <th>3</th>\n",
       "      <td>52920071_100</td>\n",
       "      <td>2015-03-01T04:30:00.000Z</td>\n",
       "      <td>2015-03-01T04:40:00.000Z</td>\n",
       "      <td>1.0</td>\n",
       "      <td>Sleeping and resting (including sick in bed)</td>\n",
       "    </tr>\n",
       "    <tr>\n",
       "      <th>4</th>\n",
       "      <td>52920071_100</td>\n",
       "      <td>2015-03-01T04:40:00.000Z</td>\n",
       "      <td>2015-03-01T04:50:00.000Z</td>\n",
       "      <td>1.0</td>\n",
       "      <td>Sleeping and resting (including sick in bed)</td>\n",
       "    </tr>\n",
       "  </tbody>\n",
       "</table>\n",
       "</div>"
      ],
      "text/plain": [
       "        serflag                start_time                  end_time  act  \\\n",
       "0  52920071_100  2015-03-01T04:00:00.000Z  2015-03-01T04:10:00.000Z  1.0   \n",
       "1  52920071_100  2015-03-01T04:10:00.000Z  2015-03-01T04:20:00.000Z  1.0   \n",
       "2  52920071_100  2015-03-01T04:20:00.000Z  2015-03-01T04:30:00.000Z  1.0   \n",
       "3  52920071_100  2015-03-01T04:30:00.000Z  2015-03-01T04:40:00.000Z  1.0   \n",
       "4  52920071_100  2015-03-01T04:40:00.000Z  2015-03-01T04:50:00.000Z  1.0   \n",
       "\n",
       "                                      act_label  \n",
       "0  Sleeping and resting (including sick in bed)  \n",
       "1  Sleeping and resting (including sick in bed)  \n",
       "2  Sleeping and resting (including sick in bed)  \n",
       "3  Sleeping and resting (including sick in bed)  \n",
       "4  Sleeping and resting (including sick in bed)  "
      ]
     },
     "execution_count": 15,
     "metadata": {},
     "output_type": "execute_result"
    }
   ],
   "source": [
    "annotations = pd.read_csv(annotations_path)\n",
    "print(annotations.shape)\n",
    "annotations.head()"
   ]
  },
  {
   "cell_type": "code",
   "execution_count": 16,
   "metadata": {
    "collapsed": false
   },
   "outputs": [
    {
     "name": "stdout",
     "output_type": "stream",
     "text": [
      "(5, 8)\n"
     ]
    },
    {
     "data": {
      "text/html": [
       "<div>\n",
       "<table border=\"1\" class=\"dataframe\">\n",
       "  <thead>\n",
       "    <tr style=\"text-align: right;\">\n",
       "      <th></th>\n",
       "      <th>Monitor</th>\n",
       "      <th>Day1</th>\n",
       "      <th>Day2</th>\n",
       "      <th>binFile</th>\n",
       "      <th>serflag</th>\n",
       "      <th>fileSize</th>\n",
       "      <th>day1Ready</th>\n",
       "      <th>day2Ready</th>\n",
       "    </tr>\n",
       "  </thead>\n",
       "  <tbody>\n",
       "    <tr>\n",
       "      <th>0</th>\n",
       "      <td>16566</td>\n",
       "      <td>11/03/2015</td>\n",
       "      <td>15/03/2015</td>\n",
       "      <td>__016566_2015-03-24 14-52-30.bin</td>\n",
       "      <td>81510041_100</td>\n",
       "      <td>777664025</td>\n",
       "      <td>True</td>\n",
       "      <td>True</td>\n",
       "    </tr>\n",
       "    <tr>\n",
       "      <th>1</th>\n",
       "      <td>16580</td>\n",
       "      <td>05/03/2015</td>\n",
       "      <td>08/03/2015</td>\n",
       "      <td>__016580_2015-03-12 09-09-15.bin</td>\n",
       "      <td>102650051_100</td>\n",
       "      <td>522410444</td>\n",
       "      <td>True</td>\n",
       "      <td>True</td>\n",
       "    </tr>\n",
       "    <tr>\n",
       "      <th>2</th>\n",
       "      <td>18618</td>\n",
       "      <td>15/03/2015</td>\n",
       "      <td>16/03/2015</td>\n",
       "      <td>__018618_2015-03-20 11-15-03.bin</td>\n",
       "      <td>62980071_100</td>\n",
       "      <td>565693441</td>\n",
       "      <td>True</td>\n",
       "      <td>True</td>\n",
       "    </tr>\n",
       "    <tr>\n",
       "      <th>3</th>\n",
       "      <td>18635</td>\n",
       "      <td>01/03/2015</td>\n",
       "      <td>03/03/2015</td>\n",
       "      <td>__018635_2015-03-11 14-06-25.bin</td>\n",
       "      <td>52920071_100</td>\n",
       "      <td>692552249</td>\n",
       "      <td>True</td>\n",
       "      <td>True</td>\n",
       "    </tr>\n",
       "    <tr>\n",
       "      <th>4</th>\n",
       "      <td>18643</td>\n",
       "      <td>06/03/2015</td>\n",
       "      <td>07/03/2015</td>\n",
       "      <td>__018643_2015-03-13 12-19-47.bin</td>\n",
       "      <td>122650071_100</td>\n",
       "      <td>525756098</td>\n",
       "      <td>True</td>\n",
       "      <td>True</td>\n",
       "    </tr>\n",
       "  </tbody>\n",
       "</table>\n",
       "</div>"
      ],
      "text/plain": [
       "   Monitor        Day1        Day2                           binFile  \\\n",
       "0    16566  11/03/2015  15/03/2015  __016566_2015-03-24 14-52-30.bin   \n",
       "1    16580  05/03/2015  08/03/2015  __016580_2015-03-12 09-09-15.bin   \n",
       "2    18618  15/03/2015  16/03/2015  __018618_2015-03-20 11-15-03.bin   \n",
       "3    18635  01/03/2015  03/03/2015  __018635_2015-03-11 14-06-25.bin   \n",
       "4    18643  06/03/2015  07/03/2015  __018643_2015-03-13 12-19-47.bin   \n",
       "\n",
       "         serflag   fileSize day1Ready day2Ready  \n",
       "0   81510041_100  777664025      True      True  \n",
       "1  102650051_100  522410444      True      True  \n",
       "2   62980071_100  565693441      True      True  \n",
       "3   52920071_100  692552249      True      True  \n",
       "4  122650071_100  525756098      True      True  "
      ]
     },
     "execution_count": 16,
     "metadata": {},
     "output_type": "execute_result"
    }
   ],
   "source": [
    "wearcodes = pd.read_csv(wearcodes_path)\n",
    "print(wearcodes.shape)\n",
    "wearcodes.head()"
   ]
  },
  {
   "cell_type": "code",
   "execution_count": 20,
   "metadata": {
    "collapsed": false
   },
   "outputs": [
    {
     "name": "stdout",
     "output_type": "stream",
     "text": [
      "(1440, 12)\n"
     ]
    },
    {
     "data": {
      "text/html": [
       "<div>\n",
       "<table border=\"1\" class=\"dataframe\">\n",
       "  <thead>\n",
       "    <tr style=\"text-align: right;\">\n",
       "      <th></th>\n",
       "      <th>serflag</th>\n",
       "      <th>start_time</th>\n",
       "      <th>end_time</th>\n",
       "      <th>act</th>\n",
       "      <th>act_label</th>\n",
       "      <th>Monitor</th>\n",
       "      <th>Day1</th>\n",
       "      <th>Day2</th>\n",
       "      <th>binFile</th>\n",
       "      <th>fileSize</th>\n",
       "      <th>day1Ready</th>\n",
       "      <th>day2Ready</th>\n",
       "    </tr>\n",
       "  </thead>\n",
       "  <tbody>\n",
       "    <tr>\n",
       "      <th>0</th>\n",
       "      <td>52920071_100</td>\n",
       "      <td>2015-03-01T04:00:00.000Z</td>\n",
       "      <td>2015-03-01T04:10:00.000Z</td>\n",
       "      <td>1.0</td>\n",
       "      <td>Sleeping and resting (including sick in bed)</td>\n",
       "      <td>18635</td>\n",
       "      <td>01/03/2015</td>\n",
       "      <td>03/03/2015</td>\n",
       "      <td>__018635_2015-03-11 14-06-25.bin</td>\n",
       "      <td>692552249</td>\n",
       "      <td>True</td>\n",
       "      <td>True</td>\n",
       "    </tr>\n",
       "    <tr>\n",
       "      <th>1</th>\n",
       "      <td>52920071_100</td>\n",
       "      <td>2015-03-01T04:10:00.000Z</td>\n",
       "      <td>2015-03-01T04:20:00.000Z</td>\n",
       "      <td>1.0</td>\n",
       "      <td>Sleeping and resting (including sick in bed)</td>\n",
       "      <td>18635</td>\n",
       "      <td>01/03/2015</td>\n",
       "      <td>03/03/2015</td>\n",
       "      <td>__018635_2015-03-11 14-06-25.bin</td>\n",
       "      <td>692552249</td>\n",
       "      <td>True</td>\n",
       "      <td>True</td>\n",
       "    </tr>\n",
       "    <tr>\n",
       "      <th>2</th>\n",
       "      <td>52920071_100</td>\n",
       "      <td>2015-03-01T04:20:00.000Z</td>\n",
       "      <td>2015-03-01T04:30:00.000Z</td>\n",
       "      <td>1.0</td>\n",
       "      <td>Sleeping and resting (including sick in bed)</td>\n",
       "      <td>18635</td>\n",
       "      <td>01/03/2015</td>\n",
       "      <td>03/03/2015</td>\n",
       "      <td>__018635_2015-03-11 14-06-25.bin</td>\n",
       "      <td>692552249</td>\n",
       "      <td>True</td>\n",
       "      <td>True</td>\n",
       "    </tr>\n",
       "    <tr>\n",
       "      <th>3</th>\n",
       "      <td>52920071_100</td>\n",
       "      <td>2015-03-01T04:30:00.000Z</td>\n",
       "      <td>2015-03-01T04:40:00.000Z</td>\n",
       "      <td>1.0</td>\n",
       "      <td>Sleeping and resting (including sick in bed)</td>\n",
       "      <td>18635</td>\n",
       "      <td>01/03/2015</td>\n",
       "      <td>03/03/2015</td>\n",
       "      <td>__018635_2015-03-11 14-06-25.bin</td>\n",
       "      <td>692552249</td>\n",
       "      <td>True</td>\n",
       "      <td>True</td>\n",
       "    </tr>\n",
       "    <tr>\n",
       "      <th>4</th>\n",
       "      <td>52920071_100</td>\n",
       "      <td>2015-03-01T04:40:00.000Z</td>\n",
       "      <td>2015-03-01T04:50:00.000Z</td>\n",
       "      <td>1.0</td>\n",
       "      <td>Sleeping and resting (including sick in bed)</td>\n",
       "      <td>18635</td>\n",
       "      <td>01/03/2015</td>\n",
       "      <td>03/03/2015</td>\n",
       "      <td>__018635_2015-03-11 14-06-25.bin</td>\n",
       "      <td>692552249</td>\n",
       "      <td>True</td>\n",
       "      <td>True</td>\n",
       "    </tr>\n",
       "  </tbody>\n",
       "</table>\n",
       "</div>"
      ],
      "text/plain": [
       "        serflag                start_time                  end_time  act  \\\n",
       "0  52920071_100  2015-03-01T04:00:00.000Z  2015-03-01T04:10:00.000Z  1.0   \n",
       "1  52920071_100  2015-03-01T04:10:00.000Z  2015-03-01T04:20:00.000Z  1.0   \n",
       "2  52920071_100  2015-03-01T04:20:00.000Z  2015-03-01T04:30:00.000Z  1.0   \n",
       "3  52920071_100  2015-03-01T04:30:00.000Z  2015-03-01T04:40:00.000Z  1.0   \n",
       "4  52920071_100  2015-03-01T04:40:00.000Z  2015-03-01T04:50:00.000Z  1.0   \n",
       "\n",
       "                                      act_label  Monitor        Day1  \\\n",
       "0  Sleeping and resting (including sick in bed)    18635  01/03/2015   \n",
       "1  Sleeping and resting (including sick in bed)    18635  01/03/2015   \n",
       "2  Sleeping and resting (including sick in bed)    18635  01/03/2015   \n",
       "3  Sleeping and resting (including sick in bed)    18635  01/03/2015   \n",
       "4  Sleeping and resting (including sick in bed)    18635  01/03/2015   \n",
       "\n",
       "         Day2                           binFile   fileSize day1Ready day2Ready  \n",
       "0  03/03/2015  __018635_2015-03-11 14-06-25.bin  692552249      True      True  \n",
       "1  03/03/2015  __018635_2015-03-11 14-06-25.bin  692552249      True      True  \n",
       "2  03/03/2015  __018635_2015-03-11 14-06-25.bin  692552249      True      True  \n",
       "3  03/03/2015  __018635_2015-03-11 14-06-25.bin  692552249      True      True  \n",
       "4  03/03/2015  __018635_2015-03-11 14-06-25.bin  692552249      True      True  "
      ]
     },
     "execution_count": 20,
     "metadata": {},
     "output_type": "execute_result"
    }
   ],
   "source": [
    "annotations_codes = pd.merge(annotations, wearcodes, on='serflag', how='left')\n",
    "print(annotations_codes.shape)\n",
    "annotations_codes.head()"
   ]
  },
  {
   "cell_type": "markdown",
   "metadata": {},
   "source": [
    "## Load and preprocess data"
   ]
  },
  {
   "cell_type": "code",
   "execution_count": 33,
   "metadata": {
    "collapsed": false
   },
   "outputs": [],
   "source": [
    "byName = annotations_codes.groupby('binFile')\n",
    "dfs = {}\n",
    "for name, fileAnnotations in byName:\n",
    "    # Load data\n",
    "    df = loadData(name)\n",
    "    \n",
    "    if df is not None:    \n",
    "        # Add annotations\n",
    "        #df = addAnnotations(df, fileAnnotations)\n",
    "        dfs[name] = df"
   ]
  },
  {
   "cell_type": "code",
   "execution_count": null,
   "metadata": {
    "collapsed": true
   },
   "outputs": [],
   "source": []
  }
 ],
 "metadata": {
  "kernelspec": {
   "display_name": "Python 2",
   "language": "python",
   "name": "python2"
  },
  "language_info": {
   "codemirror_mode": {
    "name": "ipython",
    "version": 2
   },
   "file_extension": ".py",
   "mimetype": "text/x-python",
   "name": "python",
   "nbconvert_exporter": "python",
   "pygments_lexer": "ipython2",
   "version": "2.7.12"
  }
 },
 "nbformat": 4,
 "nbformat_minor": 0
}
