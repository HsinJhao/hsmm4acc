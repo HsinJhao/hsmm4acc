{
 "cells": [
  {
   "cell_type": "code",
   "execution_count": 1,
   "metadata": {
    "collapsed": true
   },
   "outputs": [],
   "source": [
    "%gui wx\n",
    "#%matplotlib inline"
   ]
  },
  {
   "cell_type": "code",
   "execution_count": 2,
   "metadata": {
    "collapsed": true
   },
   "outputs": [],
   "source": [
    "from mayavi import mlab\n",
    "import pandas as pd\n",
    "import numpy as np\n",
    "import matplotlib.pyplot as plt\n",
    "import os\n",
    "import sys"
   ]
  },
  {
   "cell_type": "code",
   "execution_count": 3,
   "metadata": {
    "collapsed": true
   },
   "outputs": [],
   "source": [
    "datadir = \"/media/sf_VBox_Shared/London/accelerometer_5second/merged/\"\n",
    "filesdir = os.path.join(datadir, 'datawithstates/')"
   ]
  },
  {
   "cell_type": "code",
   "execution_count": 4,
   "metadata": {
    "collapsed": false
   },
   "outputs": [
    {
     "name": "stdout",
     "output_type": "stream",
     "text": [
      "23\n"
     ]
    }
   ],
   "source": [
    "# Import data with states\n",
    "filenames = os.listdir(filesdir)\n",
    "filenames = [fn for fn in filenames if os.path.isfile(os.path.join(filesdir,fn))]\n",
    "datasets = [pd.read_csv(os.path.join(filesdir,fn)) for fn in filenames]\n",
    "print(len(datasets))"
   ]
  },
  {
   "cell_type": "code",
   "execution_count": 66,
   "metadata": {
    "collapsed": true
   },
   "outputs": [],
   "source": [
    "all_data = pd.concat(datasets)"
   ]
  },
  {
   "cell_type": "markdown",
   "metadata": {},
   "source": [
    "## Investigate distribution of angles"
   ]
  },
  {
   "cell_type": "code",
   "execution_count": null,
   "metadata": {
    "collapsed": true
   },
   "outputs": [],
   "source": [
    "plt.boxplot()"
   ]
  },
  {
   "cell_type": "markdown",
   "metadata": {},
   "source": [
    "## Visualize states"
   ]
  },
  {
   "cell_type": "code",
   "execution_count": 32,
   "metadata": {
    "collapsed": false
   },
   "outputs": [
    {
     "data": {
      "text/plain": [
       "(322900, 10)"
      ]
     },
     "execution_count": 32,
     "metadata": {},
     "output_type": "execute_result"
    }
   ],
   "source": [
    "#exampledata = datasets[3]\n",
    "exampledata = all_data \n",
    "exampledata.shape"
   ]
  },
  {
   "cell_type": "code",
   "execution_count": 43,
   "metadata": {
    "collapsed": false
   },
   "outputs": [],
   "source": [
    "anglex = np.array(exampledata['anglex'])\n",
    "angley = np.array(exampledata['angley'])\n",
    "anglez = np.array(exampledata['anglez'])\n",
    "acc = np.array(exampledata['acceleration']) + 1\n",
    "state = np.array(exampledata['state'])"
   ]
  },
  {
   "cell_type": "code",
   "execution_count": 51,
   "metadata": {
    "collapsed": true
   },
   "outputs": [],
   "source": [
    "nr_states = state.max()+1"
   ]
  },
  {
   "cell_type": "code",
   "execution_count": 44,
   "metadata": {
    "collapsed": true
   },
   "outputs": [],
   "source": [
    "radtodegree = 180/np.pi\n",
    "theta = anglex/radtodegree\n",
    "psi = angley/radtodegree\n",
    "phi = anglez/radtodegree"
   ]
  },
  {
   "cell_type": "code",
   "execution_count": 45,
   "metadata": {
    "collapsed": true
   },
   "outputs": [],
   "source": [
    "x = np.sin(theta)\n",
    "y = np.sin(psi)\n",
    "z = np.tan(phi)*np.sqrt(x**2 + y**2)"
   ]
  },
  {
   "cell_type": "code",
   "execution_count": 46,
   "metadata": {
    "collapsed": false
   },
   "outputs": [
    {
     "data": {
      "text/plain": [
       "<mayavi.modules.glyph.Glyph at 0x7f0245fd5410>"
      ]
     },
     "execution_count": 46,
     "metadata": {},
     "output_type": "execute_result"
    }
   ],
   "source": [
    "nmax = 1000000\n",
    "mlab.points3d(x[:nmax], y[:nmax], z[:nmax], mode='point')"
   ]
  },
  {
   "cell_type": "code",
   "execution_count": 38,
   "metadata": {
    "collapsed": false
   },
   "outputs": [
    {
     "data": {
      "text/plain": [
       "<mayavi.modules.glyph.Glyph at 0x7f0249577e30>"
      ]
     },
     "execution_count": 38,
     "metadata": {},
     "output_type": "execute_result"
    }
   ],
   "source": [
    "mlab.points3d(x[:nmax], y[:nmax], z[:nmax], state[:nmax], mode='point')"
   ]
  },
  {
   "cell_type": "code",
   "execution_count": 47,
   "metadata": {
    "collapsed": true
   },
   "outputs": [],
   "source": [
    "a_x = x*acc\n",
    "a_y = y*acc\n",
    "a_z = z*acc"
   ]
  },
  {
   "cell_type": "code",
   "execution_count": 65,
   "metadata": {
    "collapsed": false
   },
   "outputs": [],
   "source": [
    "sphere = mlab.points3d(0, 0, 0, scale_mode='none',\n",
    "                                scale_factor=2,\n",
    "                                color=(0.67, 0.77, 0.93),\n",
    "                                resolution=50,\n",
    "                                opacity=0.2)\n",
    "mlab.points3d(a_x[:nmax], a_y[:nmax], a_z[:nmax], state[:nmax], vmax=nr_states, mode='point')\n",
    "cb = mlab.colorbar(nb_labels = nr_states, nb_colors=nr_states, label_fmt='%.0f') #"
   ]
  },
  {
   "cell_type": "code",
   "execution_count": null,
   "metadata": {
    "collapsed": true
   },
   "outputs": [],
   "source": []
  }
 ],
 "metadata": {
  "kernelspec": {
   "display_name": "Python 2",
   "language": "python",
   "name": "python2"
  },
  "language_info": {
   "codemirror_mode": {
    "name": "ipython",
    "version": 2
   },
   "file_extension": ".py",
   "mimetype": "text/x-python",
   "name": "python",
   "nbconvert_exporter": "python",
   "pygments_lexer": "ipython2",
   "version": "2.7.12"
  }
 },
 "nbformat": 4,
 "nbformat_minor": 0
}
