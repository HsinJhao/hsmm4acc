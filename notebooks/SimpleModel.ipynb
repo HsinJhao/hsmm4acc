{
 "cells": [
  {
   "cell_type": "markdown",
   "metadata": {},
   "source": [
    "# Train a simple linear model on features"
   ]
  },
  {
   "cell_type": "code",
   "execution_count": 39,
   "metadata": {
    "collapsed": false
   },
   "outputs": [
    {
     "name": "stdout",
     "output_type": "stream",
     "text": [
      "Populating the interactive namespace from numpy and matplotlib\n",
      "The autoreload extension is already loaded. To reload it, use:\n",
      "  %reload_ext autoreload\n"
     ]
    },
    {
     "name": "stderr",
     "output_type": "stream",
     "text": [
      "WARNING: pylab import has clobbered these variables: ['mod', 'histogram']\n",
      "`%matplotlib` prevents importing * from pylab and numpy\n"
     ]
    }
   ],
   "source": [
    "%pylab inline\n",
    "%load_ext autoreload\n",
    "%autoreload 2"
   ]
  },
  {
   "cell_type": "code",
   "execution_count": 40,
   "metadata": {
    "collapsed": false
   },
   "outputs": [],
   "source": [
    "import pandas as pd\n",
    "import datetime as dt\n",
    "import re\n",
    "from sklearn.linear_model import LogisticRegression\n",
    "from sklearn import metrics"
   ]
  },
  {
   "cell_type": "code",
   "execution_count": 41,
   "metadata": {
    "collapsed": false
   },
   "outputs": [
    {
     "name": "stdout",
     "output_type": "stream",
     "text": [
      "(1079, 15)\n"
     ]
    },
    {
     "data": {
      "text/html": [
       "<div>\n",
       "<table border=\"1\" class=\"dataframe\">\n",
       "  <thead>\n",
       "    <tr style=\"text-align: right;\">\n",
       "      <th></th>\n",
       "      <th>class</th>\n",
       "      <th>mean metric ENMO</th>\n",
       "      <th>sd metric ENMO</th>\n",
       "      <th>p5 metric ENMO</th>\n",
       "      <th>p25 metric ENMO</th>\n",
       "      <th>p50 metric ENMO</th>\n",
       "      <th>p75 metric ENMO</th>\n",
       "      <th>p95 metric ENMO</th>\n",
       "      <th>mean metric anglez</th>\n",
       "      <th>sd metric anglez</th>\n",
       "      <th>p5 metric anglez</th>\n",
       "      <th>p25 metric anglez</th>\n",
       "      <th>p50 metric anglez</th>\n",
       "      <th>p75 metric anglez</th>\n",
       "      <th>p95 metric anglez</th>\n",
       "    </tr>\n",
       "  </thead>\n",
       "  <tbody>\n",
       "    <tr>\n",
       "      <th>0</th>\n",
       "      <td>0.0</td>\n",
       "      <td>0.015160</td>\n",
       "      <td>0.000522</td>\n",
       "      <td>0.014232</td>\n",
       "      <td>0.014874</td>\n",
       "      <td>0.015133</td>\n",
       "      <td>0.015534</td>\n",
       "      <td>0.015891</td>\n",
       "      <td>-39.349687</td>\n",
       "      <td>0.065171</td>\n",
       "      <td>-39.452094</td>\n",
       "      <td>-39.391423</td>\n",
       "      <td>-39.336663</td>\n",
       "      <td>-39.307390</td>\n",
       "      <td>-39.264456</td>\n",
       "    </tr>\n",
       "    <tr>\n",
       "      <th>1</th>\n",
       "      <td>0.0</td>\n",
       "      <td>0.015181</td>\n",
       "      <td>0.004180</td>\n",
       "      <td>0.010862</td>\n",
       "      <td>0.014729</td>\n",
       "      <td>0.015099</td>\n",
       "      <td>0.015506</td>\n",
       "      <td>0.016189</td>\n",
       "      <td>-37.359455</td>\n",
       "      <td>7.890470</td>\n",
       "      <td>-39.431267</td>\n",
       "      <td>-39.364191</td>\n",
       "      <td>-39.337401</td>\n",
       "      <td>-39.299842</td>\n",
       "      <td>-26.144194</td>\n",
       "    </tr>\n",
       "    <tr>\n",
       "      <th>2</th>\n",
       "      <td>0.0</td>\n",
       "      <td>0.015197</td>\n",
       "      <td>0.008969</td>\n",
       "      <td>0.011073</td>\n",
       "      <td>0.011628</td>\n",
       "      <td>0.012248</td>\n",
       "      <td>0.012886</td>\n",
       "      <td>0.025105</td>\n",
       "      <td>-36.171533</td>\n",
       "      <td>5.857137</td>\n",
       "      <td>-48.853285</td>\n",
       "      <td>-34.069524</td>\n",
       "      <td>-33.879162</td>\n",
       "      <td>-32.846824</td>\n",
       "      <td>-32.753698</td>\n",
       "    </tr>\n",
       "    <tr>\n",
       "      <th>3</th>\n",
       "      <td>0.0</td>\n",
       "      <td>0.015590</td>\n",
       "      <td>0.020108</td>\n",
       "      <td>0.000000</td>\n",
       "      <td>0.000000</td>\n",
       "      <td>0.000000</td>\n",
       "      <td>0.025809</td>\n",
       "      <td>0.040461</td>\n",
       "      <td>5.806129</td>\n",
       "      <td>54.439121</td>\n",
       "      <td>-59.597338</td>\n",
       "      <td>-46.786000</td>\n",
       "      <td>55.306174</td>\n",
       "      <td>55.474992</td>\n",
       "      <td>60.089516</td>\n",
       "    </tr>\n",
       "    <tr>\n",
       "      <th>4</th>\n",
       "      <td>0.0</td>\n",
       "      <td>0.015701</td>\n",
       "      <td>0.048134</td>\n",
       "      <td>0.000000</td>\n",
       "      <td>0.000000</td>\n",
       "      <td>0.000000</td>\n",
       "      <td>0.002085</td>\n",
       "      <td>0.126108</td>\n",
       "      <td>40.566915</td>\n",
       "      <td>41.533981</td>\n",
       "      <td>-48.059292</td>\n",
       "      <td>0.209581</td>\n",
       "      <td>63.169964</td>\n",
       "      <td>72.172328</td>\n",
       "      <td>72.429488</td>\n",
       "    </tr>\n",
       "  </tbody>\n",
       "</table>\n",
       "</div>"
      ],
      "text/plain": [
       "   class  mean metric ENMO  sd metric ENMO  p5 metric ENMO  p25 metric ENMO  \\\n",
       "0    0.0          0.015160        0.000522        0.014232         0.014874   \n",
       "1    0.0          0.015181        0.004180        0.010862         0.014729   \n",
       "2    0.0          0.015197        0.008969        0.011073         0.011628   \n",
       "3    0.0          0.015590        0.020108        0.000000         0.000000   \n",
       "4    0.0          0.015701        0.048134        0.000000         0.000000   \n",
       "\n",
       "   p50 metric ENMO  p75 metric ENMO  p95 metric ENMO  mean metric anglez  \\\n",
       "0         0.015133         0.015534         0.015891          -39.349687   \n",
       "1         0.015099         0.015506         0.016189          -37.359455   \n",
       "2         0.012248         0.012886         0.025105          -36.171533   \n",
       "3         0.000000         0.025809         0.040461            5.806129   \n",
       "4         0.000000         0.002085         0.126108           40.566915   \n",
       "\n",
       "   sd metric anglez  p5 metric anglez  p25 metric anglez  p50 metric anglez  \\\n",
       "0          0.065171        -39.452094         -39.391423         -39.336663   \n",
       "1          7.890470        -39.431267         -39.364191         -39.337401   \n",
       "2          5.857137        -48.853285         -34.069524         -33.879162   \n",
       "3         54.439121        -59.597338         -46.786000          55.306174   \n",
       "4         41.533981        -48.059292           0.209581          63.169964   \n",
       "\n",
       "   p75 metric anglez  p95 metric anglez  \n",
       "0         -39.307390         -39.264456  \n",
       "1         -39.299842         -26.144194  \n",
       "2         -32.846824         -32.753698  \n",
       "3          55.474992          60.089516  \n",
       "4          72.172328          72.429488  "
      ]
     },
     "execution_count": 41,
     "metadata": {},
     "output_type": "execute_result"
    }
   ],
   "source": [
    "filepath = '/media/sf_VBox_Shared/London/example_data'\n",
    "toyset_train = pd.read_csv(filepath+'toydata_train.csv')\n",
    "toyset_val = pd.read_csv(filepath+'toydata_val.csv')\n",
    "toyset_test = pd.read_csv(filepath+'toydata_test.csv')\n",
    "print(toyset_train.shape)\n",
    "toyset_train.head()"
   ]
  },
  {
   "cell_type": "code",
   "execution_count": 42,
   "metadata": {
    "collapsed": false
   },
   "outputs": [],
   "source": [
    "X_train = np.array(toyset_train)[:,1:]\n",
    "y_train = np.array(toyset_train.loc[:,'class'], dtype='int')\n",
    "X_val = np.array(toyset_val)[:,1:]\n",
    "y_val = np.array(toyset_val.loc[:,'class'], dtype='int')\n",
    "X_test = np.array(toyset_test)[:,1:]\n",
    "y_test = np.array(toyset_test.loc[:,'class'], dtype='int')"
   ]
  },
  {
   "cell_type": "code",
   "execution_count": 55,
   "metadata": {
    "collapsed": true
   },
   "outputs": [],
   "source": [
    "mu = X_train.mean(axis=0)\n",
    "sig = X_train.std(axis=0)\n",
    "X_train_normalized = (X_train - mu ) / sig\n",
    "X_val_normalized = (X_val - mu ) / sig\n",
    "X_test_normalized = (X_test - mu ) / sig"
   ]
  },
  {
   "cell_type": "code",
   "execution_count": 56,
   "metadata": {
    "collapsed": false
   },
   "outputs": [],
   "source": [
    "mod = LogisticRegression()"
   ]
  },
  {
   "cell_type": "code",
   "execution_count": 57,
   "metadata": {
    "collapsed": false
   },
   "outputs": [],
   "source": [
    "fitted = mod.fit(X_train_normalized, y_train)"
   ]
  },
  {
   "cell_type": "code",
   "execution_count": 58,
   "metadata": {
    "collapsed": false
   },
   "outputs": [
    {
     "data": {
      "text/plain": [
       "0.85074626865671643"
      ]
     },
     "execution_count": 58,
     "metadata": {},
     "output_type": "execute_result"
    }
   ],
   "source": [
    "fitted.score(X_val_normalized, y_val)"
   ]
  },
  {
   "cell_type": "code",
   "execution_count": 59,
   "metadata": {
    "collapsed": false
   },
   "outputs": [
    {
     "data": {
      "text/plain": [
       "array([[31,  1],\n",
       "       [19, 83]])"
      ]
     },
     "execution_count": 59,
     "metadata": {},
     "output_type": "execute_result"
    }
   ],
   "source": [
    "y_val_pred = fitted.predict(X_val_normalized)\n",
    "metrics.confusion_matrix(y_val, y_val_pred)"
   ]
  },
  {
   "cell_type": "code",
   "execution_count": 60,
   "metadata": {
    "collapsed": false
   },
   "outputs": [
    {
     "data": {
      "text/plain": [
       "0.74264705882352944"
      ]
     },
     "execution_count": 60,
     "metadata": {},
     "output_type": "execute_result"
    }
   ],
   "source": [
    "fitted.score(X_test_normalized, y_test)"
   ]
  },
  {
   "cell_type": "markdown",
   "metadata": {},
   "source": [
    "## Analyses"
   ]
  },
  {
   "cell_type": "markdown",
   "metadata": {},
   "source": [
    "Let's analyse what the model does"
   ]
  },
  {
   "cell_type": "code",
   "execution_count": 61,
   "metadata": {
    "collapsed": false
   },
   "outputs": [
    {
     "name": "stdout",
     "output_type": "stream",
     "text": [
      "mean metric ENMO: \t 0.365\n",
      "sd metric ENMO: \t -0.368\n",
      "p5 metric ENMO: \t 0.121\n",
      "p25 metric ENMO: \t -0.227\n",
      "p50 metric ENMO: \t -0.354\n",
      "p75 metric ENMO: \t 0.415\n",
      "p95 metric ENMO: \t 1.19\n",
      "mean metric anglez: \t 0.316\n",
      "sd metric anglez: \t -2.02\n",
      "p5 metric anglez: \t -1.58\n",
      "p25 metric anglez: \t -0.427\n",
      "p50 metric anglez: \t -0.298\n",
      "p75 metric anglez: \t 0.299\n",
      "p95 metric anglez: \t 2.05\n"
     ]
    }
   ],
   "source": [
    "featurenames = toyset_train.columns[1:]\n",
    "for i in range(len(featurenames)):\n",
    "    print('{}: \\t {:.3}'.format(featurenames[i], fitted.coef_[0, i]))"
   ]
  },
  {
   "cell_type": "code",
   "execution_count": 49,
   "metadata": {
    "collapsed": false
   },
   "outputs": [
    {
     "data": {
      "text/html": [
       "<div>\n",
       "<table border=\"1\" class=\"dataframe\">\n",
       "  <thead>\n",
       "    <tr style=\"text-align: right;\">\n",
       "      <th></th>\n",
       "      <th></th>\n",
       "      <th>mean metric ENMO</th>\n",
       "      <th>mean metric anglez</th>\n",
       "      <th>p25 metric ENMO</th>\n",
       "      <th>p25 metric anglez</th>\n",
       "      <th>p5 metric ENMO</th>\n",
       "      <th>p5 metric anglez</th>\n",
       "      <th>p50 metric ENMO</th>\n",
       "      <th>p50 metric anglez</th>\n",
       "      <th>p75 metric ENMO</th>\n",
       "      <th>p75 metric anglez</th>\n",
       "      <th>p95 metric ENMO</th>\n",
       "      <th>p95 metric anglez</th>\n",
       "      <th>sd metric ENMO</th>\n",
       "      <th>sd metric anglez</th>\n",
       "    </tr>\n",
       "    <tr>\n",
       "      <th>class</th>\n",
       "      <th></th>\n",
       "      <th></th>\n",
       "      <th></th>\n",
       "      <th></th>\n",
       "      <th></th>\n",
       "      <th></th>\n",
       "      <th></th>\n",
       "      <th></th>\n",
       "      <th></th>\n",
       "      <th></th>\n",
       "      <th></th>\n",
       "      <th></th>\n",
       "      <th></th>\n",
       "      <th></th>\n",
       "      <th></th>\n",
       "    </tr>\n",
       "  </thead>\n",
       "  <tbody>\n",
       "    <tr>\n",
       "      <th rowspan=\"8\" valign=\"top\">0.0</th>\n",
       "      <th>count</th>\n",
       "      <td>650.000000</td>\n",
       "      <td>650.000000</td>\n",
       "      <td>650.000000</td>\n",
       "      <td>650.000000</td>\n",
       "      <td>650.000000</td>\n",
       "      <td>650.000000</td>\n",
       "      <td>650.000000</td>\n",
       "      <td>650.000000</td>\n",
       "      <td>650.000000</td>\n",
       "      <td>650.000000</td>\n",
       "      <td>650.000000</td>\n",
       "      <td>650.000000</td>\n",
       "      <td>650.000000</td>\n",
       "      <td>650.000000</td>\n",
       "    </tr>\n",
       "    <tr>\n",
       "      <th>mean</th>\n",
       "      <td>0.013136</td>\n",
       "      <td>-13.239248</td>\n",
       "      <td>0.007623</td>\n",
       "      <td>-22.724471</td>\n",
       "      <td>0.005326</td>\n",
       "      <td>-31.722698</td>\n",
       "      <td>0.010417</td>\n",
       "      <td>-13.266917</td>\n",
       "      <td>0.014777</td>\n",
       "      <td>-4.099095</td>\n",
       "      <td>0.027685</td>\n",
       "      <td>5.954629</td>\n",
       "      <td>0.011484</td>\n",
       "      <td>14.669134</td>\n",
       "    </tr>\n",
       "    <tr>\n",
       "      <th>std</th>\n",
       "      <td>0.016401</td>\n",
       "      <td>36.450058</td>\n",
       "      <td>0.010945</td>\n",
       "      <td>39.405917</td>\n",
       "      <td>0.009059</td>\n",
       "      <td>37.303160</td>\n",
       "      <td>0.014209</td>\n",
       "      <td>40.554843</td>\n",
       "      <td>0.020259</td>\n",
       "      <td>42.233971</td>\n",
       "      <td>0.045286</td>\n",
       "      <td>43.864747</td>\n",
       "      <td>0.019392</td>\n",
       "      <td>16.402060</td>\n",
       "    </tr>\n",
       "    <tr>\n",
       "      <th>min</th>\n",
       "      <td>0.000000</td>\n",
       "      <td>-86.314260</td>\n",
       "      <td>0.000000</td>\n",
       "      <td>-87.080591</td>\n",
       "      <td>0.000000</td>\n",
       "      <td>-87.358414</td>\n",
       "      <td>0.000000</td>\n",
       "      <td>-86.545109</td>\n",
       "      <td>0.000000</td>\n",
       "      <td>-86.174134</td>\n",
       "      <td>0.000000</td>\n",
       "      <td>-86.117013</td>\n",
       "      <td>0.000000</td>\n",
       "      <td>0.000000</td>\n",
       "    </tr>\n",
       "    <tr>\n",
       "      <th>25%</th>\n",
       "      <td>0.001347</td>\n",
       "      <td>-40.980107</td>\n",
       "      <td>0.000000</td>\n",
       "      <td>-54.448971</td>\n",
       "      <td>0.000000</td>\n",
       "      <td>-60.102291</td>\n",
       "      <td>0.000033</td>\n",
       "      <td>-44.739263</td>\n",
       "      <td>0.000220</td>\n",
       "      <td>-38.729283</td>\n",
       "      <td>0.002056</td>\n",
       "      <td>-31.537768</td>\n",
       "      <td>0.000547</td>\n",
       "      <td>0.256441</td>\n",
       "    </tr>\n",
       "    <tr>\n",
       "      <th>50%</th>\n",
       "      <td>0.008138</td>\n",
       "      <td>-12.409748</td>\n",
       "      <td>0.002189</td>\n",
       "      <td>-31.036297</td>\n",
       "      <td>0.000277</td>\n",
       "      <td>-41.604560</td>\n",
       "      <td>0.004313</td>\n",
       "      <td>-13.076092</td>\n",
       "      <td>0.008966</td>\n",
       "      <td>0.000000</td>\n",
       "      <td>0.015917</td>\n",
       "      <td>1.893081</td>\n",
       "      <td>0.006012</td>\n",
       "      <td>9.139118</td>\n",
       "    </tr>\n",
       "    <tr>\n",
       "      <th>75%</th>\n",
       "      <td>0.018937</td>\n",
       "      <td>6.927268</td>\n",
       "      <td>0.011852</td>\n",
       "      <td>0.000000</td>\n",
       "      <td>0.007651</td>\n",
       "      <td>0.000000</td>\n",
       "      <td>0.016938</td>\n",
       "      <td>9.816969</td>\n",
       "      <td>0.024017</td>\n",
       "      <td>27.155996</td>\n",
       "      <td>0.031912</td>\n",
       "      <td>40.244685</td>\n",
       "      <td>0.013994</td>\n",
       "      <td>24.951873</td>\n",
       "    </tr>\n",
       "    <tr>\n",
       "      <th>max</th>\n",
       "      <td>0.126575</td>\n",
       "      <td>85.079759</td>\n",
       "      <td>0.067838</td>\n",
       "      <td>85.037110</td>\n",
       "      <td>0.043929</td>\n",
       "      <td>85.018345</td>\n",
       "      <td>0.112893</td>\n",
       "      <td>85.093709</td>\n",
       "      <td>0.170453</td>\n",
       "      <td>85.106006</td>\n",
       "      <td>0.394625</td>\n",
       "      <td>87.570954</td>\n",
       "      <td>0.165096</td>\n",
       "      <td>69.687820</td>\n",
       "    </tr>\n",
       "    <tr>\n",
       "      <th rowspan=\"8\" valign=\"top\">1.0</th>\n",
       "      <th>count</th>\n",
       "      <td>429.000000</td>\n",
       "      <td>429.000000</td>\n",
       "      <td>429.000000</td>\n",
       "      <td>429.000000</td>\n",
       "      <td>429.000000</td>\n",
       "      <td>429.000000</td>\n",
       "      <td>429.000000</td>\n",
       "      <td>429.000000</td>\n",
       "      <td>429.000000</td>\n",
       "      <td>429.000000</td>\n",
       "      <td>429.000000</td>\n",
       "      <td>429.000000</td>\n",
       "      <td>429.000000</td>\n",
       "      <td>429.000000</td>\n",
       "    </tr>\n",
       "    <tr>\n",
       "      <th>mean</th>\n",
       "      <td>0.034546</td>\n",
       "      <td>-12.324983</td>\n",
       "      <td>0.014457</td>\n",
       "      <td>-26.618613</td>\n",
       "      <td>0.006789</td>\n",
       "      <td>-42.702173</td>\n",
       "      <td>0.024621</td>\n",
       "      <td>-13.076683</td>\n",
       "      <td>0.041983</td>\n",
       "      <td>0.781504</td>\n",
       "      <td>0.093851</td>\n",
       "      <td>21.618932</td>\n",
       "      <td>0.035388</td>\n",
       "      <td>20.993614</td>\n",
       "    </tr>\n",
       "    <tr>\n",
       "      <th>std</th>\n",
       "      <td>0.030380</td>\n",
       "      <td>24.947601</td>\n",
       "      <td>0.019492</td>\n",
       "      <td>26.686453</td>\n",
       "      <td>0.012580</td>\n",
       "      <td>25.629493</td>\n",
       "      <td>0.027044</td>\n",
       "      <td>28.148290</td>\n",
       "      <td>0.038645</td>\n",
       "      <td>28.625064</td>\n",
       "      <td>0.088465</td>\n",
       "      <td>29.784073</td>\n",
       "      <td>0.034052</td>\n",
       "      <td>10.162654</td>\n",
       "    </tr>\n",
       "    <tr>\n",
       "      <th>min</th>\n",
       "      <td>0.000000</td>\n",
       "      <td>-74.966348</td>\n",
       "      <td>0.000000</td>\n",
       "      <td>-86.864686</td>\n",
       "      <td>0.000000</td>\n",
       "      <td>-88.037057</td>\n",
       "      <td>0.000000</td>\n",
       "      <td>-85.961988</td>\n",
       "      <td>0.000000</td>\n",
       "      <td>-78.019693</td>\n",
       "      <td>0.000000</td>\n",
       "      <td>-74.948372</td>\n",
       "      <td>0.000000</td>\n",
       "      <td>0.000000</td>\n",
       "    </tr>\n",
       "    <tr>\n",
       "      <th>25%</th>\n",
       "      <td>0.014999</td>\n",
       "      <td>-28.284529</td>\n",
       "      <td>0.003530</td>\n",
       "      <td>-46.066430</td>\n",
       "      <td>0.000488</td>\n",
       "      <td>-62.292375</td>\n",
       "      <td>0.007469</td>\n",
       "      <td>-28.987821</td>\n",
       "      <td>0.016882</td>\n",
       "      <td>-16.841188</td>\n",
       "      <td>0.037893</td>\n",
       "      <td>2.195578</td>\n",
       "      <td>0.012463</td>\n",
       "      <td>14.823377</td>\n",
       "    </tr>\n",
       "    <tr>\n",
       "      <th>50%</th>\n",
       "      <td>0.025661</td>\n",
       "      <td>-11.737098</td>\n",
       "      <td>0.009677</td>\n",
       "      <td>-28.024208</td>\n",
       "      <td>0.002862</td>\n",
       "      <td>-45.803570</td>\n",
       "      <td>0.017868</td>\n",
       "      <td>-12.698694</td>\n",
       "      <td>0.030315</td>\n",
       "      <td>1.300024</td>\n",
       "      <td>0.068628</td>\n",
       "      <td>24.340004</td>\n",
       "      <td>0.024257</td>\n",
       "      <td>20.752468</td>\n",
       "    </tr>\n",
       "    <tr>\n",
       "      <th>75%</th>\n",
       "      <td>0.041257</td>\n",
       "      <td>4.025633</td>\n",
       "      <td>0.018748</td>\n",
       "      <td>-8.629752</td>\n",
       "      <td>0.007844</td>\n",
       "      <td>-27.083869</td>\n",
       "      <td>0.031263</td>\n",
       "      <td>4.141770</td>\n",
       "      <td>0.051569</td>\n",
       "      <td>20.101334</td>\n",
       "      <td>0.127429</td>\n",
       "      <td>41.220728</td>\n",
       "      <td>0.047781</td>\n",
       "      <td>28.080685</td>\n",
       "    </tr>\n",
       "    <tr>\n",
       "      <th>max</th>\n",
       "      <td>0.182183</td>\n",
       "      <td>63.851449</td>\n",
       "      <td>0.165319</td>\n",
       "      <td>54.113960</td>\n",
       "      <td>0.116980</td>\n",
       "      <td>36.680605</td>\n",
       "      <td>0.183245</td>\n",
       "      <td>84.119197</td>\n",
       "      <td>0.207870</td>\n",
       "      <td>86.359171</td>\n",
       "      <td>0.867572</td>\n",
       "      <td>87.166030</td>\n",
       "      <td>0.236998</td>\n",
       "      <td>60.758584</td>\n",
       "    </tr>\n",
       "  </tbody>\n",
       "</table>\n",
       "</div>"
      ],
      "text/plain": [
       "             mean metric ENMO  mean metric anglez  p25 metric ENMO  \\\n",
       "class                                                                \n",
       "0.0   count        650.000000          650.000000       650.000000   \n",
       "      mean           0.013136          -13.239248         0.007623   \n",
       "      std            0.016401           36.450058         0.010945   \n",
       "      min            0.000000          -86.314260         0.000000   \n",
       "      25%            0.001347          -40.980107         0.000000   \n",
       "      50%            0.008138          -12.409748         0.002189   \n",
       "      75%            0.018937            6.927268         0.011852   \n",
       "      max            0.126575           85.079759         0.067838   \n",
       "1.0   count        429.000000          429.000000       429.000000   \n",
       "      mean           0.034546          -12.324983         0.014457   \n",
       "      std            0.030380           24.947601         0.019492   \n",
       "      min            0.000000          -74.966348         0.000000   \n",
       "      25%            0.014999          -28.284529         0.003530   \n",
       "      50%            0.025661          -11.737098         0.009677   \n",
       "      75%            0.041257            4.025633         0.018748   \n",
       "      max            0.182183           63.851449         0.165319   \n",
       "\n",
       "             p25 metric anglez  p5 metric ENMO  p5 metric anglez  \\\n",
       "class                                                              \n",
       "0.0   count         650.000000      650.000000        650.000000   \n",
       "      mean          -22.724471        0.005326        -31.722698   \n",
       "      std            39.405917        0.009059         37.303160   \n",
       "      min           -87.080591        0.000000        -87.358414   \n",
       "      25%           -54.448971        0.000000        -60.102291   \n",
       "      50%           -31.036297        0.000277        -41.604560   \n",
       "      75%             0.000000        0.007651          0.000000   \n",
       "      max            85.037110        0.043929         85.018345   \n",
       "1.0   count         429.000000      429.000000        429.000000   \n",
       "      mean          -26.618613        0.006789        -42.702173   \n",
       "      std            26.686453        0.012580         25.629493   \n",
       "      min           -86.864686        0.000000        -88.037057   \n",
       "      25%           -46.066430        0.000488        -62.292375   \n",
       "      50%           -28.024208        0.002862        -45.803570   \n",
       "      75%            -8.629752        0.007844        -27.083869   \n",
       "      max            54.113960        0.116980         36.680605   \n",
       "\n",
       "             p50 metric ENMO  p50 metric anglez  p75 metric ENMO  \\\n",
       "class                                                              \n",
       "0.0   count       650.000000         650.000000       650.000000   \n",
       "      mean          0.010417         -13.266917         0.014777   \n",
       "      std           0.014209          40.554843         0.020259   \n",
       "      min           0.000000         -86.545109         0.000000   \n",
       "      25%           0.000033         -44.739263         0.000220   \n",
       "      50%           0.004313         -13.076092         0.008966   \n",
       "      75%           0.016938           9.816969         0.024017   \n",
       "      max           0.112893          85.093709         0.170453   \n",
       "1.0   count       429.000000         429.000000       429.000000   \n",
       "      mean          0.024621         -13.076683         0.041983   \n",
       "      std           0.027044          28.148290         0.038645   \n",
       "      min           0.000000         -85.961988         0.000000   \n",
       "      25%           0.007469         -28.987821         0.016882   \n",
       "      50%           0.017868         -12.698694         0.030315   \n",
       "      75%           0.031263           4.141770         0.051569   \n",
       "      max           0.183245          84.119197         0.207870   \n",
       "\n",
       "             p75 metric anglez  p95 metric ENMO  p95 metric anglez  \\\n",
       "class                                                                \n",
       "0.0   count         650.000000       650.000000         650.000000   \n",
       "      mean           -4.099095         0.027685           5.954629   \n",
       "      std            42.233971         0.045286          43.864747   \n",
       "      min           -86.174134         0.000000         -86.117013   \n",
       "      25%           -38.729283         0.002056         -31.537768   \n",
       "      50%             0.000000         0.015917           1.893081   \n",
       "      75%            27.155996         0.031912          40.244685   \n",
       "      max            85.106006         0.394625          87.570954   \n",
       "1.0   count         429.000000       429.000000         429.000000   \n",
       "      mean            0.781504         0.093851          21.618932   \n",
       "      std            28.625064         0.088465          29.784073   \n",
       "      min           -78.019693         0.000000         -74.948372   \n",
       "      25%           -16.841188         0.037893           2.195578   \n",
       "      50%             1.300024         0.068628          24.340004   \n",
       "      75%            20.101334         0.127429          41.220728   \n",
       "      max            86.359171         0.867572          87.166030   \n",
       "\n",
       "             sd metric ENMO  sd metric anglez  \n",
       "class                                          \n",
       "0.0   count      650.000000        650.000000  \n",
       "      mean         0.011484         14.669134  \n",
       "      std          0.019392         16.402060  \n",
       "      min          0.000000          0.000000  \n",
       "      25%          0.000547          0.256441  \n",
       "      50%          0.006012          9.139118  \n",
       "      75%          0.013994         24.951873  \n",
       "      max          0.165096         69.687820  \n",
       "1.0   count      429.000000        429.000000  \n",
       "      mean         0.035388         20.993614  \n",
       "      std          0.034052         10.162654  \n",
       "      min          0.000000          0.000000  \n",
       "      25%          0.012463         14.823377  \n",
       "      50%          0.024257         20.752468  \n",
       "      75%          0.047781         28.080685  \n",
       "      max          0.236998         60.758584  "
      ]
     },
     "execution_count": 49,
     "metadata": {},
     "output_type": "execute_result"
    }
   ],
   "source": [
    "toyset_train.groupby(\"class\").describe()"
   ]
  },
  {
   "cell_type": "code",
   "execution_count": 62,
   "metadata": {
    "collapsed": false
   },
   "outputs": [
    {
     "data": {
      "image/png": "[encoded data removed]",
      "text/plain": [
       "<matplotlib.figure.Figure at 0x7f635c853208>"
      ]
     },
     "metadata": {},
     "output_type": "display_data"
    }
   ],
   "source": [
    "histogram = plt.figure()\n",
    "bins = np.linspace(0, 0.15, 50)\n",
    "plt.hist(toyset_train[toyset_train[\"class\"]==0]['mean metric ENMO'], bins, alpha=0.5)\n",
    "plt.hist(toyset_train[toyset_train[\"class\"]==1]['mean metric ENMO'], bins, alpha=0.5)\n",
    "plt.show()"
   ]
  },
  {
   "cell_type": "code",
   "execution_count": null,
   "metadata": {
    "collapsed": true
   },
   "outputs": [],
   "source": []
  }
 ],
 "metadata": {
  "kernelspec": {
   "display_name": "Python 3",
   "language": "python",
   "name": "python3"
  },
  "language_info": {
   "codemirror_mode": {
    "name": "ipython",
    "version": 3
   },
   "file_extension": ".py",
   "mimetype": "text/x-python",
   "name": "python",
   "nbconvert_exporter": "python",
   "pygments_lexer": "ipython3",
   "version": "3.5.1"
  }
 },
 "nbformat": 4,
 "nbformat_minor": 0
}
