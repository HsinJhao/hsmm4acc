{
 "cells": [
  {
   "cell_type": "code",
   "execution_count": 1,
   "metadata": {
    "collapsed": false
   },
   "outputs": [
    {
     "name": "stdout",
     "output_type": "stream",
     "text": [
      "Populating the interactive namespace from numpy and matplotlib\n"
     ]
    }
   ],
   "source": [
    "import pandas as pd\n",
    "import sys\n",
    "import os\n",
    "%pylab inline"
   ]
  },
  {
   "cell_type": "code",
   "execution_count": 2,
   "metadata": {
    "collapsed": false
   },
   "outputs": [],
   "source": [
    "datadir = \"/media/sf_VBox_Shared/London/raw/next161/accelerometer_5second/\"\n",
    "path_to_file5sec = os.path.join(datadir, \"__016563_2014-08-08 12-02-19.bin_day1.csv\")"
   ]
  },
  {
   "cell_type": "code",
   "execution_count": 3,
   "metadata": {
    "collapsed": false
   },
   "outputs": [
    {
     "name": "stdout",
     "output_type": "stream",
     "text": [
      "299\n"
     ]
    }
   ],
   "source": [
    "filenames = os.listdir(datadir)\n",
    "datasets = [pd.read_csv(os.path.join(datadir,fn)) for fn in filenames if os.path.isfile(os.path.join(datadir,fn))]\n",
    "print(len(datasets))"
   ]
  },
  {
   "cell_type": "code",
   "execution_count": 4,
   "metadata": {
    "collapsed": false
   },
   "outputs": [
    {
     "name": "stdout",
     "output_type": "stream",
     "text": [
      "(3780, (17280, 6))\n",
      "(9180, (17280, 6))\n",
      "(0, (17280, 6))\n",
      "(5040, (17280, 6))\n",
      "(0, (17280, 6))\n",
      "(0, (17280, 6))\n",
      "(0, (17280, 6))\n",
      "(4860, (17280, 6))\n",
      "(0, (17280, 6))\n",
      "(1440, (17280, 6))\n",
      "(5760, (17280, 6))\n",
      "(7920, (17280, 6))\n",
      "(1440, (17280, 6))\n",
      "(5040, (17280, 6))\n",
      "(1260, (17280, 6))\n",
      "(0, (17280, 6))\n",
      "(540, (17280, 6))\n",
      "(5220, (17280, 6))\n",
      "(2520, (17280, 6))\n",
      "(10260, (17280, 6))\n",
      "(0, (17280, 6))\n",
      "(4860, (17280, 6))\n",
      "(0, (17280, 6))\n",
      "(4680, (17280, 6))\n",
      "(0, (17280, 6))\n",
      "(0, (17280, 6))\n",
      "(0, (17280, 6))\n",
      "(0, (17280, 6))\n",
      "(0, (17280, 6))\n",
      "(1800, (17280, 6))\n",
      "(720, (17280, 6))\n",
      "(3420, (17280, 6))\n",
      "(15840, (17280, 6))\n",
      "(11340, (17280, 6))\n",
      "(1980, (17280, 6))\n",
      "(0, (17280, 6))\n",
      "(0, (17280, 6))\n",
      "(900, (17280, 6))\n",
      "(0, (17280, 6))\n",
      "(0, (17280, 6))\n",
      "(0, (17280, 6))\n",
      "(4680, (17280, 6))\n",
      "(1440, (17280, 6))\n",
      "(6120, (17280, 6))\n",
      "(7560, (17280, 6))\n",
      "(5400, (17280, 6))\n",
      "(3240, (17280, 6))\n",
      "(1080, (17280, 6))\n",
      "(0, (17280, 6))\n",
      "(2160, (17280, 6))\n",
      "(3780, (17280, 6))\n",
      "(0, (17280, 6))\n",
      "(0, (17280, 6))\n",
      "(4860, (17280, 6))\n",
      "(0, (17280, 6))\n",
      "(2700, (17280, 6))\n",
      "(3600, (17280, 6))\n",
      "(0, (17280, 6))\n",
      "(1440, (17280, 6))\n",
      "(12060, (17280, 6))\n",
      "(1620, (17280, 6))\n",
      "(5940, (17280, 6))\n",
      "(0, (17280, 6))\n",
      "(0, (17280, 6))\n",
      "(1440, (17280, 6))\n",
      "(3060, (17280, 6))\n",
      "(720, (17280, 6))\n",
      "(540, (17280, 6))\n",
      "(3240, (17280, 6))\n",
      "(0, (17280, 6))\n",
      "(1440, (17280, 6))\n",
      "(0, (17280, 6))\n",
      "(5580, (17280, 6))\n",
      "(0, (17280, 6))\n",
      "(0, (17280, 6))\n",
      "(0, (17280, 6))\n",
      "(0, (17280, 6))\n",
      "(0, (17280, 6))\n",
      "(0, (17280, 6))\n",
      "(0, (17280, 6))\n",
      "(0, (17280, 6))\n",
      "(0, (17280, 6))\n",
      "(0, (17280, 6))\n",
      "(0, (17280, 6))\n",
      "(720, (17280, 6))\n",
      "(0, (17280, 6))\n",
      "(4320, (17280, 6))\n",
      "(1620, (17280, 6))\n",
      "(3240, (17280, 6))\n",
      "(0, (17280, 6))\n",
      "(5580, (17280, 6))\n",
      "(0, (17280, 6))\n",
      "(2700, (17280, 6))\n",
      "(0, (17280, 6))\n",
      "(3060, (17280, 6))\n",
      "(0, (17280, 6))\n",
      "(540, (17280, 6))\n",
      "(0, (17280, 6))\n",
      "(0, (17280, 6))\n",
      "(3780, (17280, 6))\n",
      "(540, (17280, 6))\n",
      "(1080, (17280, 6))\n",
      "(2160, (17280, 6))\n",
      "(1260, (17280, 6))\n",
      "(3420, (17280, 6))\n",
      "(5940, (17280, 6))\n",
      "(6120, (17280, 6))\n",
      "(0, (17280, 6))\n",
      "(1980, (17280, 6))\n",
      "(6300, (17280, 6))\n",
      "(3600, (17280, 6))\n",
      "(0, (17280, 6))\n",
      "(0, (17280, 6))\n",
      "(0, (17280, 6))\n",
      "(7740, (17280, 6))\n",
      "(1800, (17280, 6))\n",
      "(0, (17280, 6))\n",
      "(0, (17280, 6))\n",
      "(3780, (17280, 6))\n",
      "(1620, (17280, 6))\n",
      "(1080, (17280, 6))\n",
      "(0, (17280, 6))\n",
      "(16560, (17280, 6))\n",
      "(4680, (17280, 6))\n",
      "(1260, (17280, 6))\n",
      "(0, (17280, 6))\n",
      "(4320, (17280, 6))\n",
      "(0, (17280, 6))\n",
      "(900, (17280, 6))\n",
      "(15840, (17280, 6))\n",
      "(6120, (17280, 6))\n",
      "(0, (17280, 6))\n",
      "(3600, (17280, 6))\n",
      "(0, (17280, 6))\n",
      "(0, (17280, 6))\n",
      "(0, (17280, 6))\n",
      "(0, (17280, 6))\n",
      "(0, (17280, 6))\n",
      "(1080, (17280, 6))\n",
      "(2520, (17280, 6))\n",
      "(7020, (17280, 6))\n",
      "(4320, (17280, 6))\n",
      "(0, (17280, 6))\n",
      "(720, (17280, 6))\n",
      "(5400, (17280, 6))\n",
      "(0, (17280, 6))\n",
      "(0, (17280, 6))\n",
      "(0, (17280, 6))\n",
      "(11880, (17280, 6))\n",
      "(0, (17280, 6))\n",
      "(0, (17280, 6))\n",
      "(1440, (17280, 6))\n",
      "(4500, (17280, 6))\n",
      "(0, (17280, 6))\n",
      "(7200, (17280, 6))\n",
      "(4140, (17280, 6))\n",
      "(6480, (17280, 6))\n",
      "(180, (17280, 6))\n",
      "(0, (17280, 6))\n",
      "(6840, (17280, 6))\n",
      "(9900, (17280, 6))\n",
      "(0, (17280, 6))\n",
      "(0, (17280, 6))\n",
      "(0, (17280, 6))\n",
      "(2880, (17280, 6))\n",
      "(0, (17280, 6))\n",
      "(0, (17280, 6))\n",
      "(0, (17280, 6))\n",
      "(900, (17280, 6))\n",
      "(0, (17280, 6))\n",
      "(0, (17280, 6))\n",
      "(1440, (17280, 6))\n",
      "(7020, (17280, 6))\n",
      "(2880, (17280, 6))\n",
      "(0, (17280, 6))\n",
      "(720, (17280, 6))\n",
      "(0, (17280, 6))\n",
      "(0, (17280, 6))\n",
      "(6840, (17280, 6))\n",
      "(0, (17280, 6))\n",
      "(0, (17280, 6))\n",
      "(1260, (17280, 6))\n",
      "(12600, (17280, 6))\n",
      "(0, (17280, 6))\n",
      "(0, (17280, 6))\n",
      "(0, (17280, 6))\n",
      "(0, (17280, 6))\n",
      "(3060, (17280, 6))\n",
      "(0, (17280, 6))\n",
      "(0, (17280, 6))\n",
      "(0, (17280, 6))\n",
      "(0, (17280, 6))\n",
      "(0, (17280, 6))\n",
      "(5580, (17280, 6))\n",
      "(0, (17280, 6))\n",
      "(0, (17280, 6))\n",
      "(0, (17280, 6))\n",
      "(4140, (17280, 6))\n",
      "(0, (17280, 6))\n",
      "(0, (17280, 6))\n",
      "(3060, (17280, 6))\n",
      "(540, (17280, 6))\n",
      "(0, (17280, 6))\n",
      "(0, (17280, 6))\n",
      "(0, (17280, 6))\n",
      "(0, (17280, 6))\n",
      "(3780, (17280, 6))\n",
      "(13140, (17280, 6))\n",
      "(720, (17280, 6))\n",
      "(4860, (17280, 6))\n",
      "(3600, (17280, 6))\n",
      "(3600, (17280, 6))\n",
      "(7740, (17280, 6))\n",
      "(12600, (17280, 6))\n",
      "(0, (17280, 6))\n",
      "(0, (17280, 6))\n",
      "(7920, (17280, 6))\n",
      "(11700, (17280, 6))\n",
      "(1620, (17280, 6))\n",
      "(4860, (17280, 6))\n",
      "(6480, (17280, 6))\n",
      "(16560, (17280, 6))\n",
      "(0, (17280, 6))\n",
      "(0, (17280, 6))\n",
      "(1080, (17280, 6))\n",
      "(3960, (17280, 6))\n",
      "(0, (17280, 6))\n",
      "(0, (17280, 6))\n",
      "(1800, (17280, 6))\n",
      "(16560, (17280, 6))\n",
      "(0, (17280, 6))\n",
      "(0, (17280, 6))\n",
      "(900, (17280, 6))\n",
      "(3060, (17280, 6))\n",
      "(0, (17280, 6))\n",
      "(0, (17280, 6))\n",
      "(0, (17280, 6))\n",
      "(2880, (17280, 6))\n",
      "(0, (17280, 6))\n",
      "(0, (17280, 6))\n",
      "(17280, (17280, 6))\n",
      "(17280, (17280, 6))\n",
      "(9540, (17280, 6))\n",
      "(0, (17280, 6))\n",
      "(4320, (17280, 6))\n",
      "(0, (17280, 6))\n",
      "(0, (17280, 6))\n",
      "(1620, (17280, 6))\n",
      "(360, (17280, 6))\n",
      "(540, (17280, 6))\n",
      "(0, (17280, 6))\n",
      "(0, (17280, 6))\n",
      "(3960, (17280, 6))\n",
      "(15840, (17280, 6))\n",
      "(16560, (17280, 6))\n",
      "(5580, (17280, 6))\n",
      "(7020, (17280, 6))\n",
      "(0, (17280, 6))\n",
      "(0, (17280, 6))\n",
      "(3240, (17280, 6))\n",
      "(5220, (17280, 6))\n",
      "(2160, (17280, 6))\n",
      "(720, (17280, 6))\n",
      "(4500, (17280, 6))\n",
      "(0, (17280, 6))\n",
      "(6120, (17280, 6))\n",
      "(0, (17280, 6))\n",
      "(10080, (17280, 6))\n",
      "(4680, (17280, 6))\n",
      "(1440, (17280, 6))\n",
      "(0, (17280, 6))\n",
      "(1800, (17280, 6))\n",
      "(4680, (17280, 6))\n",
      "(0, (17280, 6))\n",
      "(3780, (17280, 6))\n",
      "(3060, (17280, 6))\n",
      "(0, (17280, 6))\n",
      "(0, (17280, 6))\n",
      "(0, (17280, 6))\n",
      "(2700, (17280, 6))\n",
      "(2520, (17280, 6))\n",
      "(0, (17280, 6))\n",
      "(0, (17280, 6))\n",
      "(4140, (17280, 6))\n",
      "(1800, (17280, 6))\n",
      "(1980, (17280, 6))\n",
      "(11700, (17280, 6))\n",
      "(0, (17280, 6))\n",
      "(5580, (17280, 6))\n",
      "(0, (17280, 6))\n",
      "(4860, (17280, 6))\n",
      "(0, (17280, 6))\n",
      "(12600, (17280, 6))\n",
      "(1260, (17280, 6))\n",
      "(0, (17280, 6))\n",
      "(0, (17280, 6))\n",
      "(2340, (17280, 6))\n",
      "(6120, (17280, 6))\n",
      "(9720, (17280, 6))\n"
     ]
    }
   ],
   "source": [
    "for i in range(len(datasets)):\n",
    "    print(sum(datasets[i]['invalid'] == 1), datasets[i].shape)"
   ]
  },
  {
   "cell_type": "code",
   "execution_count": 6,
   "metadata": {
    "collapsed": true
   },
   "outputs": [],
   "source": [
    "all_data = pd.concat(datasets)"
   ]
  },
  {
   "cell_type": "markdown",
   "metadata": {},
   "source": [
    "## Explore distributions"
   ]
  },
  {
   "cell_type": "code",
   "execution_count": 7,
   "metadata": {
    "collapsed": false
   },
   "outputs": [
    {
     "name": "stdout",
     "output_type": "stream",
     "text": [
      "(5166720,)\n"
     ]
    }
   ],
   "source": [
    "all_acceleration = all_data['acceleration']\n",
    "print all_acceleration.shape"
   ]
  },
  {
   "cell_type": "code",
   "execution_count": 8,
   "metadata": {
    "collapsed": false
   },
   "outputs": [
    {
     "data": {
      "image/png": "[encoded data removed]",
      "text/plain": [
       "<matplotlib.figure.Figure at 0x7f2aa94b0c90>"
      ]
     },
     "metadata": {},
     "output_type": "display_data"
    }
   ],
   "source": [
    "plt.hist(all_acceleration[all_acceleration<0.05], bins=100)\n",
    "plt.xlim(0, 0.05)\n",
    "plt.show()"
   ]
  },
  {
   "cell_type": "code",
   "execution_count": 9,
   "metadata": {
    "collapsed": false
   },
   "outputs": [
    {
     "data": {
      "image/png": "[encoded data removed]",
      "text/plain": [
       "<matplotlib.figure.Figure at 0x7f2aa94b08d0>"
      ]
     },
     "metadata": {},
     "output_type": "display_data"
    }
   ],
   "source": [
    "log_acceleration =  np.log(all_acceleration+1)\n",
    "plt.hist(log_acceleration[log_acceleration<0.05], bins=100)\n",
    "#plt.xlim(0, 0.05)\n",
    "#plt.ylim(0,2000)\n",
    "plt.show()"
   ]
  },
  {
   "cell_type": "code",
   "execution_count": 10,
   "metadata": {
    "collapsed": false
   },
   "outputs": [
    {
     "data": {
      "image/png": "[encoded data removed]",
      "text/plain": [
       "<matplotlib.figure.Figure at 0x7f2a4f320a50>"
      ]
     },
     "metadata": {},
     "output_type": "display_data"
    }
   ],
   "source": [
    "from scipy import stats\n",
    "fig = plt.figure()\n",
    "ax1 = fig.add_subplot(211)\n",
    "stats.probplot(all_acceleration, dist=stats.norm, plot=ax1)\n",
    "plt.show()"
   ]
  },
  {
   "cell_type": "code",
   "execution_count": null,
   "metadata": {
    "collapsed": false
   },
   "outputs": [
    {
     "data": {
      "image/png": "[encoded data removed]",
      "text/plain": [
       "<matplotlib.figure.Figure at 0x7f2a2a744750>"
      ]
     },
     "metadata": {},
     "output_type": "display_data"
    }
   ],
   "source": [
    "fig = plt.figure()\n",
    "ax1 = fig.add_subplot(211)\n",
    "stats.probplot(log_acceleration, dist=stats.norm, plot=ax1)\n",
    "plt.show()"
   ]
  },
  {
   "cell_type": "code",
   "execution_count": null,
   "metadata": {
    "collapsed": false
   },
   "outputs": [],
   "source": [
    "vals = np.sqrt(all_acceleration)\n",
    "df, loc, scale = stats.chi2.fit(vals)\n",
    "print(df, loc, scale)"
   ]
  },
  {
   "cell_type": "code",
   "execution_count": null,
   "metadata": {
    "collapsed": false
   },
   "outputs": [],
   "source": [
    "fig = plt.figure()\n",
    "ax1 = fig.add_subplot(211)\n",
    "stats.probplot(vals, dist=stats.chi2, sparams=(df, loc, scale), plot=ax1)\n",
    "plt.show()"
   ]
  },
  {
   "cell_type": "code",
   "execution_count": null,
   "metadata": {
    "collapsed": false
   },
   "outputs": [],
   "source": [
    "fig = plt.figure()\n",
    "ax1 = fig.add_subplot(211)\n",
    "shape, loc, scale = stats.weibull_min.fit(all_acceleration)\n",
    "stats.probplot(all_acceleration, dist=stats.weibull_min, sparams=(shape, loc, scale), plot=ax1)\n",
    "plt.show()"
   ]
  },
  {
   "cell_type": "code",
   "execution_count": null,
   "metadata": {
    "collapsed": false
   },
   "outputs": [],
   "source": [
    "fig = plt.figure()\n",
    "ax1 = fig.add_subplot(211)\n",
    "shape, loc, scale = stats.weibull_min.fit(log_acceleration)\n",
    "stats.probplot(log_acceleration, dist=stats.weibull_min, sparams=(shape, loc, scale), plot=ax1)\n",
    "plt.show()"
   ]
  },
  {
   "cell_type": "markdown",
   "metadata": {},
   "source": [
    "## Box-Cox"
   ]
  },
  {
   "cell_type": "code",
   "execution_count": null,
   "metadata": {
    "collapsed": true
   },
   "outputs": [],
   "source": [
    "bc_acceleration, bc_lmbda = stats.boxcox(all_acceleration+1)"
   ]
  },
  {
   "cell_type": "code",
   "execution_count": null,
   "metadata": {
    "collapsed": false
   },
   "outputs": [],
   "source": [
    "fig = plt.figure()\n",
    "ax2 = fig.add_subplot(211)\n",
    "stats.probplot(bc_acceleration, dist=stats.norm, plot=ax2)\n",
    "plt.show()"
   ]
  },
  {
   "cell_type": "code",
   "execution_count": null,
   "metadata": {
    "collapsed": false
   },
   "outputs": [],
   "source": [
    "bc_lmbda"
   ]
  },
  {
   "cell_type": "code",
   "execution_count": null,
   "metadata": {
    "collapsed": false
   },
   "outputs": [],
   "source": [
    "log_acceleration =  np.log(all_acceleration+1)\n",
    "plt.hist(bc_acceleration, bins=100)\n",
    "plt.show()"
   ]
  },
  {
   "cell_type": "markdown",
   "metadata": {
    "collapsed": true
   },
   "source": [
    "## Angles"
   ]
  },
  {
   "cell_type": "code",
   "execution_count": null,
   "metadata": {
    "collapsed": false
   },
   "outputs": [],
   "source": [
    "#Create boxplots for each sequence for the angles\n",
    "#We expect x (and thus anglex) to be distributed either mostly on the negative or mostly on the positive half\n",
    "fig, axes = plt.subplots(len(datasets), figsize=(10, 50))\n",
    "for i, dataset in enumerate(datasets):\n",
    "    print(np.median(dataset['anglex']), np.median(dataset['angley']))\n",
    "    axes[i].boxplot([dataset['anglex'], dataset['angley'], dataset['anglez']], labels=['x', 'y', 'z']);"
   ]
  },
  {
   "cell_type": "code",
   "execution_count": null,
   "metadata": {
    "collapsed": false
   },
   "outputs": [],
   "source": [
    "# Switch the sign of angle x and y if the orientation seems to be switcht\n",
    "dataset_switched = [dataset.copy() for dataset in datasets]\n",
    "for dataset in dataset_switched:\n",
    "    non_sleeping_indices = dataset['Activity'] != 'Sleepingandresting(includingsickinbed)'\n",
    "    non_sleeping = dataset[non_sleeping_indices]\n",
    "    if not non_sleeping.empty:\n",
    "        # in the 'correct' orientation, anglex should be mostly negative\n",
    "        med_x = np.median(non_sleeping['anglex'])\n",
    "        print(med_x)\n",
    "        if med_x > 0:\n",
    "            dataset['anglex'] *= -1\n",
    "            dataset['angley'] *= -1\n",
    "    else:\n",
    "        print('sleeping: ', np.median(dataset['anglex']))"
   ]
  },
  {
   "cell_type": "code",
   "execution_count": null,
   "metadata": {
    "collapsed": false
   },
   "outputs": [],
   "source": [
    "# Look at the distrubtions per activity\n",
    "by_act = all_data.groupby('Activity')\n",
    "fig, axes = plt.subplots(len(by_act), figsize=(10, 50))\n",
    "for i, (activity, dataset) in enumerate(by_act):\n",
    "    axes[i].boxplot([dataset['anglex'], dataset['angley'], dataset['anglez']], labels=['x', 'y', 'z'])\n",
    "    axes[i].set_title(activity)"
   ]
  },
  {
   "cell_type": "code",
   "execution_count": null,
   "metadata": {
    "collapsed": true
   },
   "outputs": [],
   "source": [
    "anglex = np.array([s for d in datasets for s in list(np.array(d['anglex']))])\n",
    "angley = np.array([s for d in datasets for s in list(np.array(d['angley']))])\n",
    "anglez = np.array([s for d in datasets for s in list(np.array(d['anglez']))])"
   ]
  },
  {
   "cell_type": "code",
   "execution_count": null,
   "metadata": {
    "collapsed": false
   },
   "outputs": [],
   "source": [
    "total = anglex + angley + anglez"
   ]
  },
  {
   "cell_type": "code",
   "execution_count": null,
   "metadata": {
    "collapsed": false
   },
   "outputs": [],
   "source": [
    "plt.boxplot(total);"
   ]
  },
  {
   "cell_type": "code",
   "execution_count": null,
   "metadata": {
    "collapsed": false
   },
   "outputs": [],
   "source": [
    "print(min(total), max(total))"
   ]
  },
  {
   "cell_type": "code",
   "execution_count": null,
   "metadata": {
    "collapsed": false
   },
   "outputs": [],
   "source": [
    "print min(anglex), max(anglex)\n",
    "print min(angley), max(angley)\n",
    "print min(anglez), max(anglez)"
   ]
  },
  {
   "cell_type": "code",
   "execution_count": null,
   "metadata": {
    "collapsed": true
   },
   "outputs": [],
   "source": [
    "radtodegree = 180/np.pi\n",
    "theta = anglex/radtodegree\n",
    "psi = angley/radtodegree\n",
    "phi = anglez/radtodegree"
   ]
  },
  {
   "cell_type": "code",
   "execution_count": null,
   "metadata": {
    "collapsed": false
   },
   "outputs": [],
   "source": [
    "x = np.sin(theta)\n",
    "y = np.sin(psi)\n",
    "z = np.tan(phi)*np.sqrt(x**2 + y**2)"
   ]
  },
  {
   "cell_type": "code",
   "execution_count": null,
   "metadata": {
    "collapsed": false
   },
   "outputs": [],
   "source": [
    "acc = x**2 + y**2 + z**2\n",
    "plt.boxplot(acc);"
   ]
  },
  {
   "cell_type": "code",
   "execution_count": null,
   "metadata": {
    "collapsed": true
   },
   "outputs": [],
   "source": []
  },
  {
   "cell_type": "code",
   "execution_count": null,
   "metadata": {
    "collapsed": false
   },
   "outputs": [],
   "source": [
    "from mpl_toolkits.mplot3d import Axes3D\n",
    "fig = plt.figure()\n",
    "ax = fig.add_subplot(111, projection='3d')\n",
    "\n",
    "ax.scatter(x, y, z, color='black', s=5)"
   ]
  },
  {
   "cell_type": "code",
   "execution_count": null,
   "metadata": {
    "collapsed": false
   },
   "outputs": [],
   "source": [
    "print min(anglex + angley), max(anglex + angley)"
   ]
  },
  {
   "cell_type": "code",
   "execution_count": null,
   "metadata": {
    "collapsed": false
   },
   "outputs": [],
   "source": [
    "radtodegree = np.pi/180\n",
    "radius = np.sin(anglex/radtodegree)**2 + np.sin(angley/radtodegree)**2 + np.sin(anglez/radtodegree)**2\n",
    "plt.boxplot(radius);"
   ]
  },
  {
   "cell_type": "code",
   "execution_count": null,
   "metadata": {
    "collapsed": false
   },
   "outputs": [],
   "source": [
    "fig = subplots(figsize=(15, 15))\n",
    "plt.scatter(anglex, anglez, color='black', s=5);"
   ]
  },
  {
   "cell_type": "code",
   "execution_count": null,
   "metadata": {
    "collapsed": true
   },
   "outputs": [],
   "source": []
  },
  {
   "cell_type": "code",
   "execution_count": null,
   "metadata": {
    "collapsed": true
   },
   "outputs": [],
   "source": []
  },
  {
   "cell_type": "code",
   "execution_count": null,
   "metadata": {
    "collapsed": true
   },
   "outputs": [],
   "source": []
  },
  {
   "cell_type": "code",
   "execution_count": null,
   "metadata": {
    "collapsed": true
   },
   "outputs": [],
   "source": []
  },
  {
   "cell_type": "code",
   "execution_count": null,
   "metadata": {
    "collapsed": true
   },
   "outputs": [],
   "source": []
  }
 ],
 "metadata": {
  "kernelspec": {
   "display_name": "Python 2",
   "language": "python",
   "name": "python2"
  },
  "language_info": {
   "codemirror_mode": {
    "name": "ipython",
    "version": 2
   },
   "file_extension": ".py",
   "mimetype": "text/x-python",
   "name": "python",
   "nbconvert_exporter": "python",
   "pygments_lexer": "ipython2",
   "version": "2.7.12"
  }
 },
 "nbformat": 4,
 "nbformat_minor": 0
}
