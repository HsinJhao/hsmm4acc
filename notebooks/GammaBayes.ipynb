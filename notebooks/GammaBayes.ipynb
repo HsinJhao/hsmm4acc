{
 "cells": [
  {
   "cell_type": "code",
   "execution_count": 1,
   "metadata": {
    "collapsed": true
   },
   "outputs": [],
   "source": [
    "%load_ext autoreload\n",
    "%autoreload 2"
   ]
  },
  {
   "cell_type": "code",
   "execution_count": 2,
   "metadata": {
    "collapsed": false
   },
   "outputs": [
    {
     "name": "stdout",
     "output_type": "stream",
     "text": [
      "Populating the interactive namespace from numpy and matplotlib\n"
     ]
    }
   ],
   "source": [
    "%pylab inline"
   ]
  },
  {
   "cell_type": "code",
   "execution_count": 3,
   "metadata": {
    "collapsed": true
   },
   "outputs": [],
   "source": [
    "from scipy import stats\n",
    "import numpy as np"
   ]
  },
  {
   "cell_type": "code",
   "execution_count": 4,
   "metadata": {
    "collapsed": true
   },
   "outputs": [],
   "source": [
    "stats.gengamma?"
   ]
  },
  {
   "cell_type": "code",
   "execution_count": 5,
   "metadata": {
    "collapsed": false
   },
   "outputs": [
    {
     "data": {
      "text/plain": [
       "2"
      ]
     },
     "execution_count": 5,
     "metadata": {},
     "output_type": "execute_result"
    }
   ],
   "source": [
    "np.prod(np.array([1,2]))"
   ]
  },
  {
   "cell_type": "code",
   "execution_count": 6,
   "metadata": {
    "collapsed": false
   },
   "outputs": [],
   "source": [
    "from scipy.special import gamma as gamma_func\n",
    "a = 1.5\n",
    "b = 1.0\n",
    "c = 1.25\n",
    "beta = 2.0\n",
    "\n",
    "likelihood = lambda alpha: np.power(a, alpha-1)*np.power(beta, alpha*c)/np.power(gamma_func(alpha), b)\n",
    "\n",
    "loglikelihood = lambda alpha: (alpha-1)*np.log(a) + alpha*c*np.log(beta) - b*np.log(gamma_func(alpha))"
   ]
  },
  {
   "cell_type": "code",
   "execution_count": 7,
   "metadata": {
    "collapsed": false
   },
   "outputs": [
    {
     "data": {
      "text/plain": [
       "[<matplotlib.lines.Line2D at 0x7f9240ca1f50>]"
      ]
     },
     "execution_count": 7,
     "metadata": {},
     "output_type": "execute_result"
    },
    {
     "data": {
      "image/png": "[encoded data removed]",
      "text/plain": [
       "<matplotlib.figure.Figure at 0x7f9240ca1ed0>"
      ]
     },
     "metadata": {},
     "output_type": "display_data"
    }
   ],
   "source": [
    "stop = 15\n",
    "alpha_space = np.linspace(0, stop, num=stop/0.01)\n",
    "plt.plot(alpha_space, likelihood(alpha_space))\n",
    "plt.plot(alpha_space, loglikelihood(alpha_space))"
   ]
  },
  {
   "cell_type": "code",
   "execution_count": null,
   "metadata": {
    "collapsed": true
   },
   "outputs": [],
   "source": [
    "alpha/beta"
   ]
  },
  {
   "cell_type": "code",
   "execution_count": 8,
   "metadata": {
    "collapsed": false
   },
   "outputs": [],
   "source": [
    "stop = 15\n",
    "alpha_space = np.linspace(0, stop, num=stop/0.001)\n",
    "alpha_dist = likelihood(alpha_space)\n",
    "alpha_dist = alpha_dist/alpha_dist.sum()"
   ]
  },
  {
   "cell_type": "code",
   "execution_count": 9,
   "metadata": {
    "collapsed": false
   },
   "outputs": [
    {
     "name": "stdout",
     "output_type": "stream",
     "text": [
      "1.0\n"
     ]
    }
   ],
   "source": [
    "print(alpha_dist.sum())"
   ]
  },
  {
   "cell_type": "code",
   "execution_count": 10,
   "metadata": {
    "collapsed": false
   },
   "outputs": [
    {
     "name": "stdout",
     "output_type": "stream",
     "text": [
      "11.6777785186\n"
     ]
    },
    {
     "data": {
      "image/png": "[encoded data removed]",
      "text/plain": [
       "<matplotlib.figure.Figure at 0x7f9240ca1590>"
      ]
     },
     "metadata": {},
     "output_type": "display_data"
    }
   ],
   "source": [
    "draws = np.random.choice(a=alpha_space, p=alpha_dist, size = 1000)\n",
    "print(draws.max())\n",
    "plt.hist(draws, bins=100);"
   ]
  },
  {
   "cell_type": "markdown",
   "metadata": {},
   "source": [
    "## Try out the baysian distribution"
   ]
  },
  {
   "cell_type": "code",
   "execution_count": 11,
   "metadata": {
    "collapsed": true
   },
   "outputs": [],
   "source": [
    "import sys\n",
    "import os\n",
    "sys.path.insert(0, os.path.abspath('..'))\n",
    "\n",
    "from UKMovementSensing import gamma"
   ]
  },
  {
   "cell_type": "code",
   "execution_count": 29,
   "metadata": {
    "collapsed": true
   },
   "outputs": [],
   "source": [
    "a = 1.5\n",
    "b = 1.0\n",
    "c = 1.25\n",
    "beta = 2.0\n",
    "true_alpha = 1.7"
   ]
  },
  {
   "cell_type": "code",
   "execution_count": 30,
   "metadata": {
    "collapsed": false
   },
   "outputs": [],
   "source": [
    "data = np.random.gamma(true_alpha, 1./beta, size = 1000)"
   ]
  },
  {
   "cell_type": "code",
   "execution_count": null,
   "metadata": {
    "collapsed": true
   },
   "outputs": [],
   "source": []
  },
  {
   "cell_type": "code",
   "execution_count": 33,
   "metadata": {
    "collapsed": false
   },
   "outputs": [
    {
     "data": {
      "image/png": "[encoded data removed]",
      "text/plain": [
       "<matplotlib.figure.Figure at 0x7f923d7b1b90>"
      ]
     },
     "metadata": {},
     "output_type": "display_data"
    }
   ],
   "source": [
    "plt.hist(data, bins=100);"
   ]
  },
  {
   "cell_type": "code",
   "execution_count": 40,
   "metadata": {
    "collapsed": false
   },
   "outputs": [
    {
     "data": {
      "text/plain": [
       "[<matplotlib.lines.Line2D at 0x7f923d2fd650>]"
      ]
     },
     "execution_count": 40,
     "metadata": {},
     "output_type": "execute_result"
    },
    {
     "data": {
      "image/png": "[encoded data removed]",
      "text/plain": [
       "<matplotlib.figure.Figure at 0x7f923d2fd790>"
      ]
     },
     "metadata": {},
     "output_type": "display_data"
    }
   ],
   "source": [
    "a_0 = np.prod(data)\n",
    "b_0 = len(data)\n",
    "c_0 = len(data)\n",
    "\n",
    "loglikelihood = lambda alpha: (alpha-1)*np.log(a_0) + alpha*c*np.log(beta) - b_0*np.log(gamma_func(alpha))\n",
    "likelihood = lambda alpha: np.exp(loglikelihood(alpha))\n",
    "stop = 2\n",
    "alpha_space = np.linspace(0, stop, num=stop/0.01)\n",
    "plt.plot(alpha_space, likelihood(alpha_space))\n",
    "plt.plot(alpha_space, loglikelihood(alpha_space))"
   ]
  },
  {
   "cell_type": "code",
   "execution_count": 36,
   "metadata": {
    "collapsed": false
   },
   "outputs": [
    {
     "name": "stdout",
     "output_type": "stream",
     "text": [
      "('params: ', {'alpha': 1.0, 'beta': 2.0})\n",
      "('hyperparams: ', {'b_0': 1, 'c_0': 1, 'a_0': 1})\n"
     ]
    }
   ],
   "source": [
    "dist = gamma.GammaFixedRate(alpha=1., beta=beta, a_0=1, b_0=1, c_0=1)\n",
    "print('params: ', dist.params)\n",
    "print('hyperparams: ', dist.hypparams)"
   ]
  },
  {
   "cell_type": "code",
   "execution_count": 37,
   "metadata": {
    "collapsed": false
   },
   "outputs": [
    {
     "name": "stdout",
     "output_type": "stream",
     "text": [
      "('params: ', {'alpha': 0.0, 'beta': 2.0})\n",
      "('hyperparams: ', {'b_0': 1001, 'c_0': 1001, 'a_0': 1.7019837468126961e-197})\n"
     ]
    },
    {
     "name": "stderr",
     "output_type": "stream",
     "text": [
      "/home/dafne/timeseries/UKMovementSensing/UKMovementSensing/gamma.py:63: RuntimeWarning: overflow encountered in exp\n",
      "  alpha_space = np.linspace(0, stop, num=stop / 0.001)\n",
      "/home/dafne/timeseries/UKMovementSensing/UKMovementSensing/gamma.py:67: RuntimeWarning: invalid value encountered in divide\n",
      "  \n",
      "/home/dafne/timeseries/UKMovementSensing/UKMovementSensing/gamma.py:68: RuntimeWarning: invalid value encountered in less\n",
      "  def expected_log_likelihood(self, x):\n"
     ]
    }
   ],
   "source": [
    "dist.resample(data)\n",
    "print('params: ', dist.params)\n",
    "print('hyperparams: ', dist.hypparams)"
   ]
  },
  {
   "cell_type": "code",
   "execution_count": 26,
   "metadata": {
    "collapsed": false
   },
   "outputs": [
    {
     "name": "stdout",
     "output_type": "stream",
     "text": [
      "{'alpha': 0.0, 'beta': 2.0}\n",
      "{'alpha': 0.0, 'beta': 2.0}\n",
      "{'alpha': 0.0, 'beta': 2.0}\n",
      "{'alpha': 0.0, 'beta': 2.0}\n",
      "{'alpha': 0.0, 'beta': 2.0}\n",
      "{'alpha': 0.0, 'beta': 2.0}\n",
      "{'alpha': 0.0, 'beta': 2.0}\n",
      "{'alpha': 0.0, 'beta': 2.0}\n",
      "{'alpha': 0.0, 'beta': 2.0}\n",
      "{'alpha': 0.0, 'beta': 2.0}\n",
      "{'alpha': 0.0, 'beta': 2.0}\n",
      "{'alpha': 0.0, 'beta': 2.0}\n",
      "{'alpha': 0.0, 'beta': 2.0}\n",
      "{'alpha': 0.0, 'beta': 2.0}\n",
      "{'alpha': 0.0, 'beta': 2.0}\n",
      "{'alpha': 0.0, 'beta': 2.0}\n",
      "{'alpha': 0.0, 'beta': 2.0}\n",
      "{'alpha': 0.0, 'beta': 2.0}\n",
      "{'alpha': 0.0, 'beta': 2.0}\n",
      "{'alpha': 0.0, 'beta': 2.0}\n",
      "{'alpha': 0.0, 'beta': 2.0}\n",
      "{'alpha': 0.0, 'beta': 2.0}\n",
      "{'alpha': 0.0, 'beta': 2.0}\n",
      "{'alpha': 0.0, 'beta': 2.0}\n",
      "{'alpha': 0.0, 'beta': 2.0}\n",
      "{'alpha': 0.0, 'beta': 2.0}\n",
      "{'alpha': 0.0, 'beta': 2.0}\n",
      "{'alpha': 0.0, 'beta': 2.0}\n",
      "{'alpha': 0.0, 'beta': 2.0}\n",
      "{'alpha': 0.0, 'beta': 2.0}\n",
      "{'alpha': 0.0, 'beta': 2.0}\n",
      "{'alpha': 0.0, 'beta': 2.0}\n",
      "{'alpha': 0.0, 'beta': 2.0}\n",
      "{'alpha': 0.0, 'beta': 2.0}\n",
      "{'alpha': 0.0, 'beta': 2.0}\n",
      "{'alpha': 0.0, 'beta': 2.0}\n",
      "{'alpha': 0.0, 'beta': 2.0}\n",
      "{'alpha': 0.0, 'beta': 2.0}\n",
      "{'alpha': 0.0, 'beta': 2.0}\n",
      "{'alpha': 0.0, 'beta': 2.0}\n",
      "{'alpha': 0.0, 'beta': 2.0}\n",
      "{'alpha': 0.0, 'beta': 2.0}\n",
      "{'alpha': 0.0, 'beta': 2.0}\n",
      "{'alpha': 0.0, 'beta': 2.0}\n",
      "{'alpha': 0.0, 'beta': 2.0}\n",
      "{'alpha': 0.0, 'beta': 2.0}\n",
      "{'alpha': 0.0, 'beta': 2.0}\n",
      "{'alpha': 0.0, 'beta': 2.0}\n",
      "{'alpha': 0.0, 'beta': 2.0}\n",
      "{'alpha': 0.0, 'beta': 2.0}\n",
      "{'alpha': 0.0, 'beta': 2.0}\n",
      "{'alpha': 0.0, 'beta': 2.0}\n",
      "{'alpha': 0.0, 'beta': 2.0}\n",
      "{'alpha': 0.0, 'beta': 2.0}\n",
      "{'alpha': 0.0, 'beta': 2.0}\n",
      "{'alpha': 0.0, 'beta': 2.0}\n",
      "{'alpha': 0.0, 'beta': 2.0}\n",
      "{'alpha': 0.0, 'beta': 2.0}\n",
      "{'alpha': 0.0, 'beta': 2.0}\n",
      "{'alpha': 0.0, 'beta': 2.0}\n",
      "{'alpha': 0.0, 'beta': 2.0}\n",
      "{'alpha': 0.0, 'beta': 2.0}\n",
      "{'alpha': 0.0, 'beta': 2.0}\n",
      "{'alpha': 0.0, 'beta': 2.0}\n",
      "{'alpha': 0.0, 'beta': 2.0}\n",
      "{'alpha': 0.0, 'beta': 2.0}\n",
      "{'alpha': 0.0, 'beta': 2.0}\n",
      "{'alpha': 0.0, 'beta': 2.0}\n",
      "{'alpha': 0.0, 'beta': 2.0}\n",
      "{'alpha': 0.0, 'beta': 2.0}\n",
      "{'alpha': 0.0, 'beta': 2.0}\n",
      "{'alpha': 0.0, 'beta': 2.0}\n",
      "{'alpha': 0.0, 'beta': 2.0}\n",
      "{'alpha': 0.0, 'beta': 2.0}\n",
      "{'alpha': 0.0, 'beta': 2.0}\n",
      "{'alpha': 0.0, 'beta': 2.0}\n",
      "{'alpha': 0.0, 'beta': 2.0}\n",
      "{'alpha': 0.0, 'beta': 2.0}\n",
      "{'alpha': 0.0, 'beta': 2.0}\n",
      "{'alpha': 0.0, 'beta': 2.0}\n",
      "{'alpha': 0.0, 'beta': 2.0}\n",
      "{'alpha': 0.0, 'beta': 2.0}\n",
      "{'alpha': 0.0, 'beta': 2.0}\n",
      "{'alpha': 0.0, 'beta': 2.0}\n",
      "{'alpha': 0.0, 'beta': 2.0}\n",
      "{'alpha': 0.0, 'beta': 2.0}\n",
      "{'alpha': 0.0, 'beta': 2.0}\n",
      "{'alpha': 0.0, 'beta': 2.0}\n",
      "{'alpha': 0.0, 'beta': 2.0}\n",
      "{'alpha': 0.0, 'beta': 2.0}\n",
      "{'alpha': 0.0, 'beta': 2.0}\n",
      "{'alpha': 0.0, 'beta': 2.0}\n",
      "{'alpha': 0.0, 'beta': 2.0}\n",
      "{'alpha': 0.0, 'beta': 2.0}\n",
      "{'alpha': 0.0, 'beta': 2.0}\n",
      "{'alpha': 0.0, 'beta': 2.0}\n",
      "{'alpha': 0.0, 'beta': 2.0}\n",
      "{'alpha': 0.0, 'beta': 2.0}\n",
      "{'alpha': 0.0, 'beta': 2.0}\n",
      "{'alpha': 0.0, 'beta': 2.0}\n"
     ]
    }
   ],
   "source": [
    "for i in range(100):\n",
    "    dist.resample(data)\n",
    "    print dist.params"
   ]
  },
  {
   "cell_type": "code",
   "execution_count": null,
   "metadata": {
    "collapsed": true
   },
   "outputs": [],
   "source": []
  }
 ],
 "metadata": {
  "kernelspec": {
   "display_name": "Python 2",
   "language": "python",
   "name": "python2"
  },
  "language_info": {
   "codemirror_mode": {
    "name": "ipython",
    "version": 2
   },
   "file_extension": ".py",
   "mimetype": "text/x-python",
   "name": "python",
   "nbconvert_exporter": "python",
   "pygments_lexer": "ipython2",
   "version": "2.7.12"
  }
 },
 "nbformat": 4,
 "nbformat_minor": 0
}
