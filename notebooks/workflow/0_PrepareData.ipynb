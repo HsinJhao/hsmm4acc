{
 "cells": [
  {
   "cell_type": "code",
   "execution_count": 1,
   "metadata": {
    "collapsed": false
   },
   "outputs": [],
   "source": [
    "%matplotlib inline\n",
    "%load_ext autoreload\n",
    "%autoreload 2\n",
    "\n",
    "import pandas as pd\n",
    "import numpy as np\n",
    "import matplotlib.pyplot as plt\n",
    "import datetime\n",
    "import os\n",
    "import sys\n",
    "import dateutil.parser\n",
    "\n",
    "from __future__ import print_function"
   ]
  },
  {
   "cell_type": "code",
   "execution_count": 2,
   "metadata": {
    "collapsed": false
   },
   "outputs": [],
   "source": [
    "sys.path.insert(0, os.path.abspath('../..'))\n",
    "\n",
    "from UKMovementSensing import dataprep"
   ]
  },
  {
   "cell_type": "code",
   "execution_count": 3,
   "metadata": {
    "collapsed": true
   },
   "outputs": [],
   "source": [
    "execfile('config.py')"
   ]
  },
  {
   "cell_type": "markdown",
   "metadata": {},
   "source": [
    "## Run the preprocessing script"
   ]
  },
  {
   "cell_type": "markdown",
   "metadata": {},
   "source": [
    "This part runs all steps for the preprocessing. This can also be done by calling the script `modelgen.py` directly from the commandline. Use the script:\n",
    "\n",
    "`python modelgen.py file_path annotations_path wearcodes_path output_path`"
   ]
  },
  {
   "cell_type": "code",
   "execution_count": 66,
   "metadata": {
    "collapsed": false
   },
   "outputs": [],
   "source": [
    "#Function that we should not need anymore in the future\n",
    "def remove_missing(dfs):\n",
    "    dfs2 = dfs.copy()\n",
    "    for k in dfs2.keys():\n",
    "        for v in ['anglex', 'angley', 'anglez']:\n",
    "            dfs2[k][v] = [float(a) for a in dfs2[k][v]]\n",
    "    return dfs2"
   ]
  },
  {
   "cell_type": "code",
   "execution_count": 70,
   "metadata": {
    "collapsed": false
   },
   "outputs": [
    {
     "name": "stdout",
     "output_type": "stream",
     "text": [
      "Process annotations...\n",
      "Join wearcodes...\n",
      "Process data...\n",
      "Save merged...\n",
      "Take subsequences...\n",
      "Switch positions...\n",
      "switched dataset with median 43.573060\n",
      "switched dataset with median 33.749245\n",
      "switched dataset with median 45.795665\n",
      "switched dataset with median 12.563923\n",
      "switched dataset with median 34.403080\n",
      "switched dataset with median 49.159638\n",
      "switched dataset with median 38.703571\n",
      "switched dataset with median 29.002829\n",
      "switched dataset with median 39.731639\n",
      "switched dataset with median 34.325970\n",
      "switched dataset with median 29.855654\n",
      "switched dataset with median 36.191689\n",
      "switched dataset with median 27.332665\n",
      "switched dataset with median 30.580422\n",
      "switched dataset with median 9.299270\n",
      "switched dataset with median 1.653267\n",
      "switched dataset with median 64.579593\n",
      "switched dataset with median 37.897403\n",
      "switched dataset with median 4.838247\n",
      "switched dataset with median 25.993250\n",
      "switched dataset with median 4.770050\n",
      "switched dataset with median 4.127491\n",
      "switched dataset with median 36.657531\n",
      "switched dataset with median 33.911906\n",
      "switched dataset with median 47.778044\n",
      "switched dataset with median 2.868639\n",
      "switched dataset with median 27.845103\n",
      "switched dataset with median 29.740948\n",
      "switched dataset with median 23.849579\n",
      "Save subsequences...\n"
     ]
    }
   ],
   "source": [
    "print('Process annotations...')\n",
    "#annotations = dataprep.process_annotations(annotations_path)\n",
    "print('Join wearcodes...')\n",
    "#annotations_codes = dataprep.join_wearcodes(wearcodes_path, annotations)\n",
    "print('Process data...')\n",
    "#dfs = dataprep.process_data(annotations_codes, accelerometer_5sec_path)\n",
    "print('Save merged...')\n",
    "#dataprep.save_merged(dfs, merged_path)\n",
    "dfs2 = remove_missing(dfs)\n",
    "print('Take subsequences...')\n",
    "subsets = dataprep.take_subsequences(dfs2)\n",
    "print('Switch positions...')\n",
    "subsets = dataprep.switch_positions(subsets)\n",
    "print('Save subsequences...')\n",
    "dataprep.save_subsequences(subsets, subset_path)"
   ]
  },
  {
   "cell_type": "markdown",
   "metadata": {},
   "source": [
    "## Investigate annotations"
   ]
  },
  {
   "cell_type": "code",
   "execution_count": 71,
   "metadata": {
    "collapsed": false
   },
   "outputs": [
    {
     "name": "stdout",
     "output_type": "stream",
     "text": [
      "(46368, 7)\n"
     ]
    },
    {
     "data": {
      "text/html": [
       "<div>\n",
       "<table border=\"1\" class=\"dataframe\">\n",
       "  <thead>\n",
       "    <tr style=\"text-align: right;\">\n",
       "      <th></th>\n",
       "      <th>serflag</th>\n",
       "      <th>tud_day</th>\n",
       "      <th>Slot</th>\n",
       "      <th>start_time</th>\n",
       "      <th>end_time</th>\n",
       "      <th>act</th>\n",
       "      <th>act_label</th>\n",
       "    </tr>\n",
       "  </thead>\n",
       "  <tbody>\n",
       "    <tr>\n",
       "      <th>0</th>\n",
       "      <td>101390011_100</td>\n",
       "      <td>1</td>\n",
       "      <td>1</td>\n",
       "      <td>2015-02-15 04:00:00+00:00</td>\n",
       "      <td>2015-02-15 04:10:00+00:00</td>\n",
       "      <td>1.0</td>\n",
       "      <td>Sleeping and resting (including sick in bed)</td>\n",
       "    </tr>\n",
       "    <tr>\n",
       "      <th>1</th>\n",
       "      <td>101390011_100</td>\n",
       "      <td>1</td>\n",
       "      <td>2</td>\n",
       "      <td>2015-02-15 04:10:00+00:00</td>\n",
       "      <td>2015-02-15 04:20:00+00:00</td>\n",
       "      <td>1.0</td>\n",
       "      <td>Sleeping and resting (including sick in bed)</td>\n",
       "    </tr>\n",
       "    <tr>\n",
       "      <th>2</th>\n",
       "      <td>101390011_100</td>\n",
       "      <td>1</td>\n",
       "      <td>3</td>\n",
       "      <td>2015-02-15 04:20:00+00:00</td>\n",
       "      <td>2015-02-15 04:30:00+00:00</td>\n",
       "      <td>1.0</td>\n",
       "      <td>Sleeping and resting (including sick in bed)</td>\n",
       "    </tr>\n",
       "    <tr>\n",
       "      <th>3</th>\n",
       "      <td>101390011_100</td>\n",
       "      <td>1</td>\n",
       "      <td>4</td>\n",
       "      <td>2015-02-15 04:30:00+00:00</td>\n",
       "      <td>2015-02-15 04:40:00+00:00</td>\n",
       "      <td>1.0</td>\n",
       "      <td>Sleeping and resting (including sick in bed)</td>\n",
       "    </tr>\n",
       "    <tr>\n",
       "      <th>4</th>\n",
       "      <td>101390011_100</td>\n",
       "      <td>1</td>\n",
       "      <td>5</td>\n",
       "      <td>2015-02-15 04:40:00+00:00</td>\n",
       "      <td>2015-02-15 04:50:00+00:00</td>\n",
       "      <td>1.0</td>\n",
       "      <td>Sleeping and resting (including sick in bed)</td>\n",
       "    </tr>\n",
       "  </tbody>\n",
       "</table>\n",
       "</div>"
      ],
      "text/plain": [
       "         serflag  tud_day  Slot                 start_time  \\\n",
       "0  101390011_100        1     1  2015-02-15 04:00:00+00:00   \n",
       "1  101390011_100        1     2  2015-02-15 04:10:00+00:00   \n",
       "2  101390011_100        1     3  2015-02-15 04:20:00+00:00   \n",
       "3  101390011_100        1     4  2015-02-15 04:30:00+00:00   \n",
       "4  101390011_100        1     5  2015-02-15 04:40:00+00:00   \n",
       "\n",
       "                    end_time  act  \\\n",
       "0  2015-02-15 04:10:00+00:00  1.0   \n",
       "1  2015-02-15 04:20:00+00:00  1.0   \n",
       "2  2015-02-15 04:30:00+00:00  1.0   \n",
       "3  2015-02-15 04:40:00+00:00  1.0   \n",
       "4  2015-02-15 04:50:00+00:00  1.0   \n",
       "\n",
       "                                      act_label  \n",
       "0  Sleeping and resting (including sick in bed)  \n",
       "1  Sleeping and resting (including sick in bed)  \n",
       "2  Sleeping and resting (including sick in bed)  \n",
       "3  Sleeping and resting (including sick in bed)  \n",
       "4  Sleeping and resting (including sick in bed)  "
      ]
     },
     "execution_count": 71,
     "metadata": {},
     "output_type": "execute_result"
    }
   ],
   "source": [
    "print(annotations.shape)\n",
    "annotations.head()"
   ]
  },
  {
   "cell_type": "code",
   "execution_count": 72,
   "metadata": {
    "collapsed": false
   },
   "outputs": [],
   "source": [
    "# To check: Do we have any gaps?\n",
    "for i in range(1, annotations.shape[0]):\n",
    "    if annotations['serflag'][i]==annotations['serflag'][i-1] and annotations['tud_day'][i]==annotations['tud_day'][i-1]:\n",
    "        if (annotations['end_time'][i-1] != annotations['start_time'][i]):\n",
    "            print(annotations.loc[[i-1, i],['start_time', 'end_time']])\n",
    "            print(annotations['end_time'][i-1] - annotations['start_time'][i])"
   ]
  },
  {
   "cell_type": "markdown",
   "metadata": {},
   "source": [
    "## Investigate join with wearcodes"
   ]
  },
  {
   "cell_type": "code",
   "execution_count": 73,
   "metadata": {
    "collapsed": false
   },
   "outputs": [
    {
     "name": "stdout",
     "output_type": "stream",
     "text": [
      "(46368, 14)\n"
     ]
    },
    {
     "data": {
      "text/html": [
       "<div>\n",
       "<table border=\"1\" class=\"dataframe\">\n",
       "  <thead>\n",
       "    <tr style=\"text-align: right;\">\n",
       "      <th></th>\n",
       "      <th>serflag</th>\n",
       "      <th>tud_day</th>\n",
       "      <th>Slot</th>\n",
       "      <th>start_time</th>\n",
       "      <th>end_time</th>\n",
       "      <th>act</th>\n",
       "      <th>act_label</th>\n",
       "      <th>Monitor</th>\n",
       "      <th>Day1</th>\n",
       "      <th>Day2</th>\n",
       "      <th>binFile</th>\n",
       "      <th>fileSize</th>\n",
       "      <th>day1Ready</th>\n",
       "      <th>day2Ready</th>\n",
       "    </tr>\n",
       "  </thead>\n",
       "  <tbody>\n",
       "    <tr>\n",
       "      <th>0</th>\n",
       "      <td>101390011_100</td>\n",
       "      <td>1</td>\n",
       "      <td>1</td>\n",
       "      <td>2015-02-15 04:00:00+00:00</td>\n",
       "      <td>2015-02-15 04:10:00+00:00</td>\n",
       "      <td>1.0</td>\n",
       "      <td>Sleeping and resting (including sick in bed)</td>\n",
       "      <td>21563</td>\n",
       "      <td>2015-02-15</td>\n",
       "      <td>2015-02-20</td>\n",
       "      <td>__021563_2015-03-06 09-56-08.bin</td>\n",
       "      <td>791586540</td>\n",
       "      <td>True</td>\n",
       "      <td>True</td>\n",
       "    </tr>\n",
       "    <tr>\n",
       "      <th>1</th>\n",
       "      <td>101390011_100</td>\n",
       "      <td>1</td>\n",
       "      <td>2</td>\n",
       "      <td>2015-02-15 04:10:00+00:00</td>\n",
       "      <td>2015-02-15 04:20:00+00:00</td>\n",
       "      <td>1.0</td>\n",
       "      <td>Sleeping and resting (including sick in bed)</td>\n",
       "      <td>21563</td>\n",
       "      <td>2015-02-15</td>\n",
       "      <td>2015-02-20</td>\n",
       "      <td>__021563_2015-03-06 09-56-08.bin</td>\n",
       "      <td>791586540</td>\n",
       "      <td>True</td>\n",
       "      <td>True</td>\n",
       "    </tr>\n",
       "    <tr>\n",
       "      <th>2</th>\n",
       "      <td>101390011_100</td>\n",
       "      <td>1</td>\n",
       "      <td>3</td>\n",
       "      <td>2015-02-15 04:20:00+00:00</td>\n",
       "      <td>2015-02-15 04:30:00+00:00</td>\n",
       "      <td>1.0</td>\n",
       "      <td>Sleeping and resting (including sick in bed)</td>\n",
       "      <td>21563</td>\n",
       "      <td>2015-02-15</td>\n",
       "      <td>2015-02-20</td>\n",
       "      <td>__021563_2015-03-06 09-56-08.bin</td>\n",
       "      <td>791586540</td>\n",
       "      <td>True</td>\n",
       "      <td>True</td>\n",
       "    </tr>\n",
       "    <tr>\n",
       "      <th>3</th>\n",
       "      <td>101390011_100</td>\n",
       "      <td>1</td>\n",
       "      <td>4</td>\n",
       "      <td>2015-02-15 04:30:00+00:00</td>\n",
       "      <td>2015-02-15 04:40:00+00:00</td>\n",
       "      <td>1.0</td>\n",
       "      <td>Sleeping and resting (including sick in bed)</td>\n",
       "      <td>21563</td>\n",
       "      <td>2015-02-15</td>\n",
       "      <td>2015-02-20</td>\n",
       "      <td>__021563_2015-03-06 09-56-08.bin</td>\n",
       "      <td>791586540</td>\n",
       "      <td>True</td>\n",
       "      <td>True</td>\n",
       "    </tr>\n",
       "    <tr>\n",
       "      <th>4</th>\n",
       "      <td>101390011_100</td>\n",
       "      <td>1</td>\n",
       "      <td>5</td>\n",
       "      <td>2015-02-15 04:40:00+00:00</td>\n",
       "      <td>2015-02-15 04:50:00+00:00</td>\n",
       "      <td>1.0</td>\n",
       "      <td>Sleeping and resting (including sick in bed)</td>\n",
       "      <td>21563</td>\n",
       "      <td>2015-02-15</td>\n",
       "      <td>2015-02-20</td>\n",
       "      <td>__021563_2015-03-06 09-56-08.bin</td>\n",
       "      <td>791586540</td>\n",
       "      <td>True</td>\n",
       "      <td>True</td>\n",
       "    </tr>\n",
       "  </tbody>\n",
       "</table>\n",
       "</div>"
      ],
      "text/plain": [
       "         serflag  tud_day  Slot                 start_time  \\\n",
       "0  101390011_100        1     1  2015-02-15 04:00:00+00:00   \n",
       "1  101390011_100        1     2  2015-02-15 04:10:00+00:00   \n",
       "2  101390011_100        1     3  2015-02-15 04:20:00+00:00   \n",
       "3  101390011_100        1     4  2015-02-15 04:30:00+00:00   \n",
       "4  101390011_100        1     5  2015-02-15 04:40:00+00:00   \n",
       "\n",
       "                    end_time  act  \\\n",
       "0  2015-02-15 04:10:00+00:00  1.0   \n",
       "1  2015-02-15 04:20:00+00:00  1.0   \n",
       "2  2015-02-15 04:30:00+00:00  1.0   \n",
       "3  2015-02-15 04:40:00+00:00  1.0   \n",
       "4  2015-02-15 04:50:00+00:00  1.0   \n",
       "\n",
       "                                      act_label  Monitor       Day1  \\\n",
       "0  Sleeping and resting (including sick in bed)    21563 2015-02-15   \n",
       "1  Sleeping and resting (including sick in bed)    21563 2015-02-15   \n",
       "2  Sleeping and resting (including sick in bed)    21563 2015-02-15   \n",
       "3  Sleeping and resting (including sick in bed)    21563 2015-02-15   \n",
       "4  Sleeping and resting (including sick in bed)    21563 2015-02-15   \n",
       "\n",
       "        Day2                           binFile   fileSize day1Ready day2Ready  \n",
       "0 2015-02-20  __021563_2015-03-06 09-56-08.bin  791586540      True      True  \n",
       "1 2015-02-20  __021563_2015-03-06 09-56-08.bin  791586540      True      True  \n",
       "2 2015-02-20  __021563_2015-03-06 09-56-08.bin  791586540      True      True  \n",
       "3 2015-02-20  __021563_2015-03-06 09-56-08.bin  791586540      True      True  \n",
       "4 2015-02-20  __021563_2015-03-06 09-56-08.bin  791586540      True      True  "
      ]
     },
     "execution_count": 73,
     "metadata": {},
     "output_type": "execute_result"
    }
   ],
   "source": [
    "print(annotations_codes.shape)\n",
    "annotations_codes.head()"
   ]
  },
  {
   "cell_type": "markdown",
   "metadata": {},
   "source": [
    "## Investigate accelerometer data"
   ]
  },
  {
   "cell_type": "code",
   "execution_count": 74,
   "metadata": {
    "collapsed": false
   },
   "outputs": [
    {
     "data": {
      "text/html": [
       "<div>\n",
       "<table border=\"1\" class=\"dataframe\">\n",
       "  <thead>\n",
       "    <tr style=\"text-align: right;\">\n",
       "      <th></th>\n",
       "      <th>acceleration</th>\n",
       "      <th>anglex</th>\n",
       "      <th>angley</th>\n",
       "      <th>anglez</th>\n",
       "      <th>invalid</th>\n",
       "      <th>filename</th>\n",
       "      <th>Slot</th>\n",
       "      <th>act</th>\n",
       "      <th>act_label</th>\n",
       "      <th>start_time</th>\n",
       "      <th>subset</th>\n",
       "    </tr>\n",
       "    <tr>\n",
       "      <th>timestamp</th>\n",
       "      <th></th>\n",
       "      <th></th>\n",
       "      <th></th>\n",
       "      <th></th>\n",
       "      <th></th>\n",
       "      <th></th>\n",
       "      <th></th>\n",
       "      <th></th>\n",
       "      <th></th>\n",
       "      <th></th>\n",
       "      <th></th>\n",
       "    </tr>\n",
       "  </thead>\n",
       "  <tbody>\n",
       "    <tr>\n",
       "      <th>2015-03-01 04:00:00</th>\n",
       "      <td>0.001623</td>\n",
       "      <td>-59.217822</td>\n",
       "      <td>-22.151974</td>\n",
       "      <td>-20.244494</td>\n",
       "      <td>0</td>\n",
       "      <td>__021900_2015-03-13 12-48-19.bin_day2</td>\n",
       "      <td>1</td>\n",
       "      <td>1.0</td>\n",
       "      <td>Sleeping and resting (including sick in bed)</td>\n",
       "      <td>2015-03-04 04:00:00+00:00</td>\n",
       "      <td>0</td>\n",
       "    </tr>\n",
       "    <tr>\n",
       "      <th>2015-03-01 04:00:05</th>\n",
       "      <td>0.001595</td>\n",
       "      <td>-59.291495</td>\n",
       "      <td>-22.169837</td>\n",
       "      <td>-20.125454</td>\n",
       "      <td>0</td>\n",
       "      <td>__021900_2015-03-13 12-48-19.bin_day2</td>\n",
       "      <td>1</td>\n",
       "      <td>1.0</td>\n",
       "      <td>Sleeping and resting (including sick in bed)</td>\n",
       "      <td>2015-03-04 04:00:00+00:00</td>\n",
       "      <td>0</td>\n",
       "    </tr>\n",
       "    <tr>\n",
       "      <th>2015-03-01 04:00:10</th>\n",
       "      <td>0.001834</td>\n",
       "      <td>-59.291495</td>\n",
       "      <td>-22.169837</td>\n",
       "      <td>-20.125454</td>\n",
       "      <td>0</td>\n",
       "      <td>__021900_2015-03-13 12-48-19.bin_day2</td>\n",
       "      <td>1</td>\n",
       "      <td>1.0</td>\n",
       "      <td>Sleeping and resting (including sick in bed)</td>\n",
       "      <td>2015-03-04 04:00:00+00:00</td>\n",
       "      <td>0</td>\n",
       "    </tr>\n",
       "    <tr>\n",
       "      <th>2015-03-01 04:00:15</th>\n",
       "      <td>0.001524</td>\n",
       "      <td>-59.292950</td>\n",
       "      <td>-22.167712</td>\n",
       "      <td>-20.125770</td>\n",
       "      <td>0</td>\n",
       "      <td>__021900_2015-03-13 12-48-19.bin_day2</td>\n",
       "      <td>1</td>\n",
       "      <td>1.0</td>\n",
       "      <td>Sleeping and resting (including sick in bed)</td>\n",
       "      <td>2015-03-04 04:00:00+00:00</td>\n",
       "      <td>0</td>\n",
       "    </tr>\n",
       "    <tr>\n",
       "      <th>2015-03-01 04:00:20</th>\n",
       "      <td>0.001698</td>\n",
       "      <td>-59.271761</td>\n",
       "      <td>-22.165052</td>\n",
       "      <td>-20.157339</td>\n",
       "      <td>0</td>\n",
       "      <td>__021900_2015-03-13 12-48-19.bin_day2</td>\n",
       "      <td>1</td>\n",
       "      <td>1.0</td>\n",
       "      <td>Sleeping and resting (including sick in bed)</td>\n",
       "      <td>2015-03-04 04:00:00+00:00</td>\n",
       "      <td>0</td>\n",
       "    </tr>\n",
       "  </tbody>\n",
       "</table>\n",
       "</div>"
      ],
      "text/plain": [
       "                     acceleration     anglex     angley     anglez  invalid  \\\n",
       "timestamp                                                                     \n",
       "2015-03-01 04:00:00      0.001623 -59.217822 -22.151974 -20.244494        0   \n",
       "2015-03-01 04:00:05      0.001595 -59.291495 -22.169837 -20.125454        0   \n",
       "2015-03-01 04:00:10      0.001834 -59.291495 -22.169837 -20.125454        0   \n",
       "2015-03-01 04:00:15      0.001524 -59.292950 -22.167712 -20.125770        0   \n",
       "2015-03-01 04:00:20      0.001698 -59.271761 -22.165052 -20.157339        0   \n",
       "\n",
       "                                                  filename  Slot  act  \\\n",
       "timestamp                                                               \n",
       "2015-03-01 04:00:00  __021900_2015-03-13 12-48-19.bin_day2     1  1.0   \n",
       "2015-03-01 04:00:05  __021900_2015-03-13 12-48-19.bin_day2     1  1.0   \n",
       "2015-03-01 04:00:10  __021900_2015-03-13 12-48-19.bin_day2     1  1.0   \n",
       "2015-03-01 04:00:15  __021900_2015-03-13 12-48-19.bin_day2     1  1.0   \n",
       "2015-03-01 04:00:20  __021900_2015-03-13 12-48-19.bin_day2     1  1.0   \n",
       "\n",
       "                                                        act_label  \\\n",
       "timestamp                                                           \n",
       "2015-03-01 04:00:00  Sleeping and resting (including sick in bed)   \n",
       "2015-03-01 04:00:05  Sleeping and resting (including sick in bed)   \n",
       "2015-03-01 04:00:10  Sleeping and resting (including sick in bed)   \n",
       "2015-03-01 04:00:15  Sleeping and resting (including sick in bed)   \n",
       "2015-03-01 04:00:20  Sleeping and resting (including sick in bed)   \n",
       "\n",
       "                                    start_time  subset  \n",
       "timestamp                                               \n",
       "2015-03-01 04:00:00  2015-03-04 04:00:00+00:00       0  \n",
       "2015-03-01 04:00:05  2015-03-04 04:00:00+00:00       0  \n",
       "2015-03-01 04:00:10  2015-03-04 04:00:00+00:00       0  \n",
       "2015-03-01 04:00:15  2015-03-04 04:00:00+00:00       0  \n",
       "2015-03-01 04:00:20  2015-03-04 04:00:00+00:00       0  "
      ]
     },
     "execution_count": 74,
     "metadata": {},
     "output_type": "execute_result"
    }
   ],
   "source": [
    "example_key = dfs.keys()[0]\n",
    "binfile, day = example_key\n",
    "df = dfs[example_key]\n",
    "df.head()"
   ]
  },
  {
   "cell_type": "code",
   "execution_count": 75,
   "metadata": {
    "collapsed": false
   },
   "outputs": [
    {
     "name": "stdout",
     "output_type": "stream",
     "text": [
      "None\n"
     ]
    }
   ],
   "source": [
    "t = df.index[0]\n",
    "print(t.tz)"
   ]
  },
  {
   "cell_type": "markdown",
   "metadata": {},
   "source": [
    "## Investigate subsequences"
   ]
  },
  {
   "cell_type": "code",
   "execution_count": 78,
   "metadata": {
    "collapsed": false
   },
   "outputs": [
    {
     "name": "stdout",
     "output_type": "stream",
     "text": [
      "-37.0242099463 -8.77247660327\n",
      "-43.5730603836 -0.579688811956\n",
      "-20.9957599362 -11.1805627539\n",
      "-33.7492447661 12.0441873197\n",
      "-27.4639795608 -1.73597109838\n",
      "-45.7956645821 -0.24151180537\n",
      "-12.5639231484 11.9955397853\n",
      "-40.4328712314 1.17037653247\n",
      "-51.3167096185 4.18798996751\n",
      "-36.4772181136 -51.9636690188\n",
      "-38.8097045154 9.81671306363\n",
      "-36.4929247389 -11.5152693618\n",
      "-9.37802445505 -10.9571960435\n",
      "-25.5764831847 -1.75755832344\n",
      "-14.9539071996 -0.27030299664\n"
     ]
    },
    {
     "data": {
      "image/png": "[encoded data removed]",
      "text/plain": [
       "<matplotlib.figure.Figure at 0x7fbd95a68450>"
      ]
     },
     "metadata": {},
     "output_type": "display_data"
    }
   ],
   "source": [
    "#Create boxplots for each sequence for the angles\n",
    "#We expect x (and thus anglex) to be distributed either mostly on the negative or mostly on the positive half\n",
    "maxplotsnr = 15\n",
    "plotsets = subsets.values()[:maxplotsnr]\n",
    "fig, axes = plt.subplots(maxplotsnr, figsize=(10, 50))\n",
    "for i, dataset in enumerate(plotsets):\n",
    "    non_sleeping_indices = dataset['act'] != 1.0\n",
    "    non_sleeping = dataset[non_sleeping_indices]\n",
    "    print(np.median(non_sleeping['anglex']), np.median(non_sleeping['angley']))\n",
    "    axes[i].boxplot([non_sleeping['anglex'], non_sleeping['angley'], non_sleeping['anglez']], labels=['x', 'y', 'z']);"
   ]
  },
  {
   "cell_type": "code",
   "execution_count": null,
   "metadata": {
    "collapsed": true
   },
   "outputs": [],
   "source": []
  }
 ],
 "metadata": {
  "kernelspec": {
   "display_name": "Python 2",
   "language": "python",
   "name": "python2"
  },
  "language_info": {
   "codemirror_mode": {
    "name": "ipython",
    "version": 2
   },
   "file_extension": ".py",
   "mimetype": "text/x-python",
   "name": "python",
   "nbconvert_exporter": "python",
   "pygments_lexer": "ipython2",
   "version": "2.7.12"
  }
 },
 "nbformat": 4,
 "nbformat_minor": 0
}
