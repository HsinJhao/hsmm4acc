{
 "cells": [
  {
   "cell_type": "code",
   "execution_count": 13,
   "metadata": {
    "collapsed": false
   },
   "outputs": [
    {
     "name": "stdout",
     "output_type": "stream",
     "text": [
      "The autoreload extension is already loaded. To reload it, use:\n",
      "  %reload_ext autoreload\n"
     ]
    }
   ],
   "source": [
    "%matplotlib inline\n",
    "%load_ext autoreload\n",
    "%autoreload 2\n",
    "\n",
    "import pandas as pd\n",
    "import numpy as np\n",
    "import matplotlib.pyplot as plt\n",
    "import datetime\n",
    "import os\n",
    "import sys\n",
    "import dateutil.parser\n",
    "\n",
    "from __future__ import print_function"
   ]
  },
  {
   "cell_type": "code",
   "execution_count": 36,
   "metadata": {
    "collapsed": false
   },
   "outputs": [],
   "source": [
    "sys.path.insert(0, os.path.abspath('..'))\n",
    "\n",
    "from UKMovementSensing import dataprep"
   ]
  },
  {
   "cell_type": "markdown",
   "metadata": {},
   "source": [
    "## Filepaths"
   ]
  },
  {
   "cell_type": "code",
   "execution_count": 42,
   "metadata": {
    "collapsed": true
   },
   "outputs": [],
   "source": [
    "output_path = '/media/sf_VBox_Shared/London/raw/first5/'\n",
    "annotations_path = output_path + 'tud_first5_deb.csv'\n",
    "wearcodes_path = output_path + 'wearcodes.csv'"
   ]
  },
  {
   "cell_type": "code",
   "execution_count": 43,
   "metadata": {
    "collapsed": false
   },
   "outputs": [],
   "source": [
    "file_path = output_path + 'accelerometer_5second/'"
   ]
  },
  {
   "cell_type": "markdown",
   "metadata": {},
   "source": [
    "## Run the preprocessing script"
   ]
  },
  {
   "cell_type": "markdown",
   "metadata": {},
   "source": [
    "This part runs all steps for the preprocessing. This can also be done by calling the script `modelgen.py` directly from the commandline. Use the script:\n",
    "\n",
    "`python modelgen.py file_path annotations_path wearcodes_path output_path`"
   ]
  },
  {
   "cell_type": "code",
   "execution_count": 44,
   "metadata": {
    "collapsed": false
   },
   "outputs": [
    {
     "name": "stdout",
     "output_type": "stream",
     "text": [
      "Number of missing start and end times: 0 0\n",
      "starttime of data does not correspond with starttime of annotations!\n",
      "2015-03-11 04:00:00+00:00 2015-03-15 04:00:00+00:00\n",
      "starttime of data does not correspond with starttime of annotations!\n",
      "2015-03-05 04:00:00+00:00 2015-03-08 04:00:00+00:00\n",
      "starttime of data does not correspond with starttime of annotations!\n",
      "2015-03-15 04:00:00+00:00 2015-03-16 04:00:00+00:00\n",
      "starttime of data does not correspond with starttime of annotations!\n",
      "2015-03-01 04:00:00+00:00 2015-03-03 04:00:00+00:00\n",
      "starttime of data does not correspond with starttime of annotations!\n",
      "2015-03-06 04:00:00+00:00 2015-03-07 04:00:00+00:00\n"
     ]
    }
   ],
   "source": [
    "annotations = dataprep.process_annotations(annotations_path)\n",
    "annotations_codes = dataprep.join_wearcodes(wearcodes_path, annotations)\n",
    "dfs = dataprep.process_data(annotations_codes, file_path)\n",
    "dataprep.save_merged(dfs, os.path.join(output_path, 'merged/'))\n",
    "subsets = dataprep.take_subsequences(dfs)\n",
    "dataprep.save_subsequences(subsets, os.path.join(output_path, 'subsets/'))"
   ]
  },
  {
   "cell_type": "markdown",
   "metadata": {},
   "source": [
    "## Investigate annotations"
   ]
  },
  {
   "cell_type": "code",
   "execution_count": null,
   "metadata": {
    "collapsed": false
   },
   "outputs": [],
   "source": [
    "print(annotations.shape)\n",
    "annotations.head()"
   ]
  },
  {
   "cell_type": "code",
   "execution_count": null,
   "metadata": {
    "collapsed": false
   },
   "outputs": [],
   "source": [
    "# To check: Do we have any gaps?\n",
    "for i in range(1, annotations.shape[0]):\n",
    "    if annotations['serflag'][i]==annotations['serflag'][i-1] and annotations['tud_day'][i]==annotations['tud_day'][i-1]:\n",
    "        if (annotations['end_time'][i-1] != annotations['start_time'][i]):\n",
    "            print(annotations.loc[[i-1, i],['start_time', 'end_time']])\n",
    "            print(annotations['end_time'][i-1] - annotations['start_time'][i])"
   ]
  },
  {
   "cell_type": "markdown",
   "metadata": {},
   "source": [
    "## Investigate join with wearcodes"
   ]
  },
  {
   "cell_type": "code",
   "execution_count": null,
   "metadata": {
    "collapsed": false
   },
   "outputs": [],
   "source": [
    "print(annotations_codes.shape)\n",
    "annotations_codes.head()"
   ]
  },
  {
   "cell_type": "markdown",
   "metadata": {},
   "source": [
    "## Investigate accelerometer data"
   ]
  },
  {
   "cell_type": "code",
   "execution_count": null,
   "metadata": {
    "collapsed": false
   },
   "outputs": [],
   "source": [
    "example_key = dfs.keys()[0]\n",
    "binfile, day = example_key\n",
    "df = dfs[example_key]\n",
    "df.head()"
   ]
  },
  {
   "cell_type": "code",
   "execution_count": null,
   "metadata": {
    "collapsed": false
   },
   "outputs": [],
   "source": [
    "t = df.index[0]\n",
    "print(t.tz)"
   ]
  },
  {
   "cell_type": "markdown",
   "metadata": {},
   "source": [
    "## Investigate subsequences"
   ]
  },
  {
   "cell_type": "code",
   "execution_count": null,
   "metadata": {
    "collapsed": false
   },
   "outputs": [],
   "source": [
    "#Create boxplots for each sequence for the angles\n",
    "#We expect x (and thus anglex) to be distributed either mostly on the negative or mostly on the positive half\n",
    "fig, axes = plt.subplots(len(subsets.values()), figsize=(10, 50))\n",
    "for i, dataset in enumerate(subsets.values()):\n",
    "    non_sleeping_indices = dataset['act'] != 1.0\n",
    "    non_sleeping = dataset[non_sleeping_indices]\n",
    "    print(np.median(non_sleeping['anglex']), np.median(non_sleeping['angley']))\n",
    "    axes[i].boxplot([non_sleeping['anglex'], non_sleeping['angley'], non_sleeping['anglez']], labels=['x', 'y', 'z']);"
   ]
  },
  {
   "cell_type": "code",
   "execution_count": null,
   "metadata": {
    "collapsed": false
   },
   "outputs": [],
   "source": [
    "subsets = dataprep.switch_positions(subsets)"
   ]
  },
  {
   "cell_type": "code",
   "execution_count": null,
   "metadata": {
    "collapsed": false
   },
   "outputs": [],
   "source": [
    "#Create boxplots for each sequence for the angles\n",
    "#We expect x (and thus anglex) to be distributed either mostly on the negative or mostly on the positive half\n",
    "fig, axes = plt.subplots(len(subsets.values()), figsize=(10, 50))\n",
    "for i, dataset in enumerate(subsets.values()):\n",
    "    non_sleeping_indices = dataset['act'] != 1.0\n",
    "    non_sleeping = dataset[non_sleeping_indices]\n",
    "    print(np.median(non_sleeping['anglex']), np.median(non_sleeping['angley']))\n",
    "    axes[i].boxplot([non_sleeping['anglex'], non_sleeping['angley'], non_sleeping['anglez']], labels=['x', 'y', 'z']);"
   ]
  },
  {
   "cell_type": "code",
   "execution_count": null,
   "metadata": {
    "collapsed": true
   },
   "outputs": [],
   "source": []
  }
 ],
 "metadata": {
  "kernelspec": {
   "display_name": "Python 2",
   "language": "python",
   "name": "python2"
  },
  "language_info": {
   "codemirror_mode": {
    "name": "ipython",
    "version": 2
   },
   "file_extension": ".py",
   "mimetype": "text/x-python",
   "name": "python",
   "nbconvert_exporter": "python",
   "pygments_lexer": "ipython2",
   "version": "2.7.12"
  }
 },
 "nbformat": 4,
 "nbformat_minor": 0
}
