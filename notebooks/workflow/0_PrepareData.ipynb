{
 "cells": [
  {
   "cell_type": "code",
   "execution_count": 1,
   "metadata": {
    "collapsed": false
   },
   "outputs": [],
   "source": [
    "%matplotlib inline\n",
    "%load_ext autoreload\n",
    "%autoreload 2\n",
    "\n",
    "import pandas as pd\n",
    "import numpy as np\n",
    "import matplotlib.pyplot as plt\n",
    "import datetime\n",
    "import os\n",
    "import sys\n",
    "import dateutil.parser\n",
    "\n",
    "from __future__ import print_function"
   ]
  },
  {
   "cell_type": "code",
   "execution_count": 2,
   "metadata": {
    "collapsed": false
   },
   "outputs": [],
   "source": [
    "sys.path.insert(0, os.path.abspath('../..'))\n",
    "\n",
    "from UKMovementSensing import dataprep"
   ]
  },
  {
   "cell_type": "code",
   "execution_count": 3,
   "metadata": {
    "collapsed": true
   },
   "outputs": [],
   "source": [
    "execfile('config.py')"
   ]
  },
  {
   "cell_type": "markdown",
   "metadata": {},
   "source": [
    "## Run the preprocessing script"
   ]
  },
  {
   "cell_type": "markdown",
   "metadata": {},
   "source": [
    "This part runs all steps for the preprocessing. This can also be done by calling the script `modelgen.py` directly from the commandline. Use the script:\n",
    "\n",
    "`python modelgen.py file_path annotations_path wearcodes_path output_path`"
   ]
  },
  {
   "cell_type": "code",
   "execution_count": 4,
   "metadata": {
    "collapsed": false
   },
   "outputs": [
    {
     "name": "stdout",
     "output_type": "stream",
     "text": [
      "Process annotations...\n",
      "Number of missing start and end times: 0 0\n",
      "Multiple end times per slot. first 10:\n",
      "slot\n",
      "1                        [04:10:00, 10:10:00, 08:10:00]\n",
      "2              [04:20:00, 10:20:00, 08:30:00, 04:10:00]\n",
      "3     [04:30:00, 10:30:00, 09:00:00, 04:40:00, 04:20...\n",
      "4     [04:40:00, 10:40:00, 09:10:00, 04:50:00, 04:30...\n",
      "5     [04:50:00, 10:50:00, 09:20:00, 05:00:00, 04:40...\n",
      "6     [05:00:00, 05:10:00, 11:00:00, 10:00:00, 04:50...\n",
      "7     [05:10:00, 05:20:00, 11:10:00, 12:40:00, 05:00...\n",
      "8     [05:20:00, 05:30:00, 11:20:00, 12:50:00, 05:10...\n",
      "9     [05:30:00, 05:40:00, 11:30:00, 13:00:00, 05:20...\n",
      "10    [05:40:00, 05:50:00, 11:40:00, 13:10:00, 05:30...\n",
      "Name: end_time_time, dtype: object\n",
      "Not all days have 144 slots! first 5:\n",
      "accSmallID  day\n",
      "7a1fd48f    1      137\n",
      "7a2bbb74    1      118\n",
      "            2       90\n",
      "7a2e1cd4    1      138\n",
      "7a44256e    2       72\n",
      "Name: slot, dtype: int64\n",
      "Join wearcodes...\n"
     ]
    }
   ],
   "source": [
    "print('Process annotations...')\n",
    "annotations = dataprep.process_annotations(annotations_path)\n",
    "print('Join wearcodes...')\n",
    "annotations_codes = dataprep.join_wearcodes(wearcodes_path, annotations)"
   ]
  },
  {
   "cell_type": "code",
   "execution_count": null,
   "metadata": {
    "collapsed": false,
    "scrolled": false
   },
   "outputs": [],
   "source": [
    "print('Process data one by one...')\n",
    "dataprep.process_data_onebyone(annotations_codes, accelerometer_5sec_path,  subset_path)"
   ]
  },
  {
   "cell_type": "markdown",
   "metadata": {},
   "source": [
    "Alternatively, do each step for all the accelerometer files. If we do this we have the intermediate results to inspect (see the codeblocks below)."
   ]
  },
  {
   "cell_type": "code",
   "execution_count": 6,
   "metadata": {
    "collapsed": false
   },
   "outputs": [],
   "source": [
    "#print('Process data...')\n",
    "#dfs = dataprep.process_data(annotations_codes, accelerometer_5sec_path)\n",
    "# print('Save merged...')\n",
    "# dataprep.save_merged(dfs, merged_path)\n",
    "# print('Take subsequences...')\n",
    "# subsets = dataprep.take_subsequences(dfs)\n",
    "# print('Switch positions...')\n",
    "# subsets = dataprep.switch_positions(subsets)\n",
    "# print('Save subsequences...')\n",
    "# dataprep.save_subsequences(subsets, subset_path)"
   ]
  },
  {
   "cell_type": "markdown",
   "metadata": {},
   "source": [
    "## Investigate annotations"
   ]
  },
  {
   "cell_type": "code",
   "execution_count": 7,
   "metadata": {
    "collapsed": false
   },
   "outputs": [
    {
     "name": "stdout",
     "output_type": "stream",
     "text": [
      "(41242, 7)\n"
     ]
    },
    {
     "data": {
      "text/html": [
       "<div>\n",
       "<table border=\"1\" class=\"dataframe\">\n",
       "  <thead>\n",
       "    <tr style=\"text-align: right;\">\n",
       "      <th></th>\n",
       "      <th>slot</th>\n",
       "      <th>day</th>\n",
       "      <th>activity</th>\n",
       "      <th>label</th>\n",
       "      <th>start_time</th>\n",
       "      <th>end_time</th>\n",
       "      <th>accSmallID</th>\n",
       "    </tr>\n",
       "  </thead>\n",
       "  <tbody>\n",
       "    <tr>\n",
       "      <th>0</th>\n",
       "      <td>1</td>\n",
       "      <td>1</td>\n",
       "      <td>1</td>\n",
       "      <td>Sleeping and resting (including sick in bed)</td>\n",
       "      <td>2015-03-11 04:00:00+00:00</td>\n",
       "      <td>2015-03-11 04:10:00+00:00</td>\n",
       "      <td>7a0f03e6</td>\n",
       "    </tr>\n",
       "    <tr>\n",
       "      <th>1</th>\n",
       "      <td>2</td>\n",
       "      <td>1</td>\n",
       "      <td>1</td>\n",
       "      <td>Sleeping and resting (including sick in bed)</td>\n",
       "      <td>2015-03-11 04:10:00+00:00</td>\n",
       "      <td>2015-03-11 04:20:00+00:00</td>\n",
       "      <td>7a0f03e6</td>\n",
       "    </tr>\n",
       "    <tr>\n",
       "      <th>2</th>\n",
       "      <td>3</td>\n",
       "      <td>1</td>\n",
       "      <td>1</td>\n",
       "      <td>Sleeping and resting (including sick in bed)</td>\n",
       "      <td>2015-03-11 04:20:00+00:00</td>\n",
       "      <td>2015-03-11 04:30:00+00:00</td>\n",
       "      <td>7a0f03e6</td>\n",
       "    </tr>\n",
       "    <tr>\n",
       "      <th>3</th>\n",
       "      <td>4</td>\n",
       "      <td>1</td>\n",
       "      <td>1</td>\n",
       "      <td>Sleeping and resting (including sick in bed)</td>\n",
       "      <td>2015-03-11 04:30:00+00:00</td>\n",
       "      <td>2015-03-11 04:40:00+00:00</td>\n",
       "      <td>7a0f03e6</td>\n",
       "    </tr>\n",
       "    <tr>\n",
       "      <th>4</th>\n",
       "      <td>5</td>\n",
       "      <td>1</td>\n",
       "      <td>1</td>\n",
       "      <td>Sleeping and resting (including sick in bed)</td>\n",
       "      <td>2015-03-11 04:40:00+00:00</td>\n",
       "      <td>2015-03-11 04:50:00+00:00</td>\n",
       "      <td>7a0f03e6</td>\n",
       "    </tr>\n",
       "  </tbody>\n",
       "</table>\n",
       "</div>"
      ],
      "text/plain": [
       "   slot  day  activity                                         label  \\\n",
       "0     1    1         1  Sleeping and resting (including sick in bed)   \n",
       "1     2    1         1  Sleeping and resting (including sick in bed)   \n",
       "2     3    1         1  Sleeping and resting (including sick in bed)   \n",
       "3     4    1         1  Sleeping and resting (including sick in bed)   \n",
       "4     5    1         1  Sleeping and resting (including sick in bed)   \n",
       "\n",
       "                  start_time                   end_time accSmallID  \n",
       "0  2015-03-11 04:00:00+00:00  2015-03-11 04:10:00+00:00   7a0f03e6  \n",
       "1  2015-03-11 04:10:00+00:00  2015-03-11 04:20:00+00:00   7a0f03e6  \n",
       "2  2015-03-11 04:20:00+00:00  2015-03-11 04:30:00+00:00   7a0f03e6  \n",
       "3  2015-03-11 04:30:00+00:00  2015-03-11 04:40:00+00:00   7a0f03e6  \n",
       "4  2015-03-11 04:40:00+00:00  2015-03-11 04:50:00+00:00   7a0f03e6  "
      ]
     },
     "execution_count": 7,
     "metadata": {},
     "output_type": "execute_result"
    }
   ],
   "source": [
    "print(annotations.shape)\n",
    "annotations.head()"
   ]
  },
  {
   "cell_type": "code",
   "execution_count": null,
   "metadata": {
    "collapsed": false,
    "scrolled": true
   },
   "outputs": [],
   "source": [
    "# To check: Do we have any gaps?\n",
    "for i in range(1, annotations.shape[0]):\n",
    "    if annotations['serflag'][i]==annotations['serflag'][i-1] and annotations['tud_day'][i]==annotations['tud_day'][i-1]:\n",
    "        if (annotations['end_time'][i-1] != annotations['start_time'][i]):\n",
    "            print(annotations.loc[[i-1, i],['start_time', 'end_time']])\n",
    "            print(annotations['end_time'][i-1] - annotations['start_time'][i])"
   ]
  },
  {
   "cell_type": "markdown",
   "metadata": {},
   "source": [
    "## Investigate join with wearcodes"
   ]
  },
  {
   "cell_type": "code",
   "execution_count": null,
   "metadata": {
    "collapsed": false
   },
   "outputs": [],
   "source": [
    "print(annotations_codes.shape)\n",
    "annotations_codes.head()"
   ]
  },
  {
   "cell_type": "markdown",
   "metadata": {},
   "source": [
    "## Investigate accelerometer data"
   ]
  },
  {
   "cell_type": "code",
   "execution_count": null,
   "metadata": {
    "collapsed": false
   },
   "outputs": [],
   "source": [
    "example_key = dfs.keys()[0]\n",
    "binfile, day = example_key\n",
    "df = dfs[example_key]\n",
    "df.head()"
   ]
  },
  {
   "cell_type": "code",
   "execution_count": null,
   "metadata": {
    "collapsed": false
   },
   "outputs": [],
   "source": [
    "t = df.index[0]\n",
    "print(t.tz)"
   ]
  },
  {
   "cell_type": "markdown",
   "metadata": {},
   "source": [
    "## Investigate subsequences"
   ]
  },
  {
   "cell_type": "code",
   "execution_count": null,
   "metadata": {
    "collapsed": false
   },
   "outputs": [],
   "source": [
    "#Create boxplots for each sequence for the angles\n",
    "#We expect x (and thus anglex) to be distributed either mostly on the negative or mostly on the positive half\n",
    "maxplotsnr = 15\n",
    "plotsets = subsets.values()[:maxplotsnr]\n",
    "fig, axes = plt.subplots(maxplotsnr, figsize=(10, 50))\n",
    "for i, dataset in enumerate(plotsets):\n",
    "    non_sleeping_indices = dataset['act'] != 1.0\n",
    "    non_sleeping = dataset[non_sleeping_indices]\n",
    "    print(np.median(non_sleeping['anglex']), np.median(non_sleeping['angley']))\n",
    "    axes[i].boxplot([non_sleeping['anglex'], non_sleeping['angley'], non_sleeping['anglez']], labels=['x', 'y', 'z']);"
   ]
  },
  {
   "cell_type": "code",
   "execution_count": null,
   "metadata": {
    "collapsed": true
   },
   "outputs": [],
   "source": []
  }
 ],
 "metadata": {
  "kernelspec": {
   "display_name": "Python 2",
   "language": "python",
   "name": "python2"
  },
  "language_info": {
   "codemirror_mode": {
    "name": "ipython",
    "version": 2
   },
   "file_extension": ".py",
   "mimetype": "text/x-python",
   "name": "python",
   "nbconvert_exporter": "python",
   "pygments_lexer": "ipython2",
   "version": "2.7.13"
  }
 },
 "nbformat": 4,
 "nbformat_minor": 0
}
