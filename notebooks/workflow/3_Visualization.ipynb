{
 "cells": [
  {
   "cell_type": "code",
   "execution_count": 1,
   "metadata": {
    "collapsed": true
   },
   "outputs": [],
   "source": [
    "%gui wx\n",
    "#%matplotlib inline"
   ]
  },
  {
   "cell_type": "code",
   "execution_count": 2,
   "metadata": {
    "collapsed": true
   },
   "outputs": [],
   "source": [
    "from mayavi import mlab\n",
    "import pandas as pd\n",
    "import numpy as np\n",
    "import matplotlib.pyplot as plt\n",
    "import os\n",
    "import sys"
   ]
  },
  {
   "cell_type": "code",
   "execution_count": 3,
   "metadata": {
    "collapsed": true
   },
   "outputs": [],
   "source": [
    "sys.path.insert(0, os.path.abspath('../..'))\n",
    "from UKMovementSensing import hsmm"
   ]
  },
  {
   "cell_type": "code",
   "execution_count": 4,
   "metadata": {
    "collapsed": true
   },
   "outputs": [],
   "source": [
    "execfile('config.py')"
   ]
  },
  {
   "cell_type": "markdown",
   "metadata": {},
   "source": [
    "## Load data"
   ]
  },
  {
   "cell_type": "code",
   "execution_count": 5,
   "metadata": {
    "collapsed": false
   },
   "outputs": [
    {
     "name": "stdout",
     "output_type": "stream",
     "text": [
      "11\n"
     ]
    }
   ],
   "source": [
    "# Import data with states\n",
    "filenames = os.listdir(states_path)\n",
    "filenames = [fn for fn in filenames if os.path.isfile(os.path.join(states_path,fn))]\n",
    "datasets = [pd.read_csv(os.path.join(states_path,fn), encoding='utf-8') for fn in filenames]\n",
    "print(len(datasets))"
   ]
  },
  {
   "cell_type": "code",
   "execution_count": 6,
   "metadata": {
    "collapsed": true
   },
   "outputs": [],
   "source": [
    "all_data = pd.concat(datasets)"
   ]
  },
  {
   "cell_type": "code",
   "execution_count": 7,
   "metadata": {
    "collapsed": true
   },
   "outputs": [],
   "source": [
    "#Concatenate all data together for analysis\n",
    "all_data = pd.concat(datasets)"
   ]
  },
  {
   "cell_type": "code",
   "execution_count": 8,
   "metadata": {
    "collapsed": true
   },
   "outputs": [],
   "source": [
    "nr_states = all_data.state.nunique()"
   ]
  },
  {
   "cell_type": "code",
   "execution_count": 9,
   "metadata": {
    "collapsed": false
   },
   "outputs": [],
   "source": [
    "#Define consistent colormap\n",
    "# One more than the number of states, so we have a color for 'All'\n",
    "nrcolors = nr_states+1\n",
    "colormap, cmap = hsmm.get_color_map(nrcolors)\n",
    "lutcmap = np.ones((256, 4))\n",
    "nrlevels = int(np.round(255.0/nrcolors))\n",
    "for k in range(nrcolors):\n",
    "    lutcmap[k*nrlevels:k*nrlevels+nrlevels] = colormap[k]\n",
    "lutcmap *= 255\n",
    "lutcmap = np.array(lutcmap, dtype='uint8')"
   ]
  },
  {
   "cell_type": "code",
   "execution_count": 10,
   "metadata": {
    "collapsed": false
   },
   "outputs": [
    {
     "data": {
      "text/plain": [
       "(256, 4)"
      ]
     },
     "execution_count": 10,
     "metadata": {},
     "output_type": "execute_result"
    }
   ],
   "source": [
    "lutcmap.shape"
   ]
  },
  {
   "cell_type": "markdown",
   "metadata": {},
   "source": [
    "## Investigate distribution of angles"
   ]
  },
  {
   "cell_type": "code",
   "execution_count": 11,
   "metadata": {
    "collapsed": false
   },
   "outputs": [],
   "source": [
    "plt.boxplot([all_data['anglex'], all_data['angley'], all_data['anglez']]);\n",
    "plt.show()"
   ]
  },
  {
   "cell_type": "markdown",
   "metadata": {},
   "source": [
    "## Visualize states"
   ]
  },
  {
   "cell_type": "code",
   "execution_count": 12,
   "metadata": {
    "collapsed": false
   },
   "outputs": [
    {
     "data": {
      "text/plain": [
       "(172620, 21)"
      ]
     },
     "execution_count": 12,
     "metadata": {},
     "output_type": "execute_result"
    }
   ],
   "source": [
    "#exampledata = datasets[3]\n",
    "exampledata = all_data \n",
    "exampledata.shape"
   ]
  },
  {
   "cell_type": "code",
   "execution_count": 13,
   "metadata": {
    "collapsed": false
   },
   "outputs": [],
   "source": [
    "anglex = np.array(exampledata['anglex'])\n",
    "angley = np.array(exampledata['angley'])\n",
    "anglez = np.array(exampledata['anglez'])\n",
    "acc = np.array(exampledata['acceleration']) + 1\n",
    "state = np.array(exampledata['state'])"
   ]
  },
  {
   "cell_type": "code",
   "execution_count": 14,
   "metadata": {
    "collapsed": true
   },
   "outputs": [],
   "source": [
    "nr_states = state.max()+1"
   ]
  },
  {
   "cell_type": "code",
   "execution_count": 15,
   "metadata": {
    "collapsed": true
   },
   "outputs": [],
   "source": [
    "radtodegree = 180/np.pi\n",
    "theta = anglex/radtodegree\n",
    "psi = angley/radtodegree\n",
    "phi = anglez/radtodegree"
   ]
  },
  {
   "cell_type": "code",
   "execution_count": 16,
   "metadata": {
    "collapsed": false
   },
   "outputs": [],
   "source": [
    "x = np.sin(theta)\n",
    "y = np.sin(psi)\n",
    "z = np.tan(phi)*np.sqrt(x**2 + y**2)\n",
    "#radius = np.sqrt(a_x**2 + a_y**2 + a_z**2)\n",
    "#x = a_x/radius\n",
    "#y = a_y/radius\n",
    "#z = a_z/radius"
   ]
  },
  {
   "cell_type": "code",
   "execution_count": 17,
   "metadata": {
    "collapsed": false
   },
   "outputs": [],
   "source": [
    "a_x = x*acc\n",
    "a_y = y*acc\n",
    "a_z = z*acc\n",
    "#a_x = np.array(exampledata.roll_med_acc_x)\n",
    "#a_y = np.array(exampledata.roll_med_acc_y)\n",
    "#a_z = np.array(exampledata.roll_med_acc_z)"
   ]
  },
  {
   "cell_type": "code",
   "execution_count": 18,
   "metadata": {
    "collapsed": true
   },
   "outputs": [],
   "source": [
    "nmax = 100000"
   ]
  },
  {
   "cell_type": "markdown",
   "metadata": {},
   "source": [
    "Draw the points without states:"
   ]
  },
  {
   "cell_type": "code",
   "execution_count": 19,
   "metadata": {
    "collapsed": false
   },
   "outputs": [
    {
     "data": {
      "text/plain": [
       "<mayavi.modules.glyph.Glyph at 0x7f34cf754bf0>"
      ]
     },
     "execution_count": 19,
     "metadata": {},
     "output_type": "execute_result"
    }
   ],
   "source": [
    "mlab.points3d(x[:nmax], y[:nmax], z[:nmax], mode='point')"
   ]
  },
  {
   "cell_type": "code",
   "execution_count": 20,
   "metadata": {
    "collapsed": false
   },
   "outputs": [],
   "source": [
    "sphere = mlab.points3d(0, 0, 0, scale_mode='none',\n",
    "                                scale_factor=2,\n",
    "                                color=(0.67, 0.77, 0.93),\n",
    "                                resolution=50,\n",
    "                                opacity=1)\n",
    "fig = mlab.points3d(a_x[:nmax], a_y[:nmax], a_z[:nmax], mode='point')\n",
    "fig.module_manager.scalar_lut_manager.lut.table = lutcmap\n",
    "cb = mlab.colorbar(nb_labels = nr_states, label_fmt='%.0f') #"
   ]
  },
  {
   "cell_type": "markdown",
   "metadata": {},
   "source": [
    "Draw the points colored by state:"
   ]
  },
  {
   "cell_type": "code",
   "execution_count": 21,
   "metadata": {
    "collapsed": false
   },
   "outputs": [],
   "source": [
    "fig = mlab.points3d(x[:nmax], y[:nmax], z[:nmax], state[:nmax], vmax=nrcolors, mode='point')\n",
    "fig.module_manager.scalar_lut_manager.lut.table = lutcmap\n",
    "cb = mlab.colorbar(nb_labels=nrcolors, label_fmt='%.0f')\n",
    "mlab.draw()"
   ]
  },
  {
   "cell_type": "code",
   "execution_count": 22,
   "metadata": {
    "collapsed": false
   },
   "outputs": [],
   "source": [
    "sphere = mlab.points3d(0, 0, 0, scale_mode='none',\n",
    "                                scale_factor=2,\n",
    "                                color=(0.67, 0.77, 0.93),\n",
    "                                resolution=50,\n",
    "                                opacity=1)\n",
    "fig = mlab.points3d(a_x[:nmax], a_y[:nmax], a_z[:nmax], state[:nmax], vmax=nr_states, mode='point')\n",
    "fig.module_manager.scalar_lut_manager.lut.table = lutcmap\n",
    "cb = mlab.colorbar(nb_labels = nrcolors, label_fmt='%.0f') #"
   ]
  },
  {
   "cell_type": "code",
   "execution_count": null,
   "metadata": {
    "collapsed": true
   },
   "outputs": [],
   "source": []
  }
 ],
 "metadata": {
  "kernelspec": {
   "display_name": "Python [default]",
   "language": "python",
   "name": "python2"
  },
  "language_info": {
   "codemirror_mode": {
    "name": "ipython",
    "version": 2
   },
   "file_extension": ".py",
   "mimetype": "text/x-python",
   "name": "python",
   "nbconvert_exporter": "python",
   "pygments_lexer": "ipython2",
   "version": "2.7.11"
  }
 },
 "nbformat": 4,
 "nbformat_minor": 0
}
