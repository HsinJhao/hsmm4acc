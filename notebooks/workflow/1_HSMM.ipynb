{
 "cells": [
  {
   "cell_type": "code",
   "execution_count": 1,
   "metadata": {
    "collapsed": false
   },
   "outputs": [],
   "source": [
    "%matplotlib inline\n",
    "%load_ext autoreload\n",
    "%autoreload 2"
   ]
  },
  {
   "cell_type": "code",
   "execution_count": 2,
   "metadata": {
    "collapsed": false
   },
   "outputs": [],
   "source": [
    "import sys\n",
    "import os\n",
    "sys.path.insert(0, os.path.abspath('../..'))\n",
    "\n",
    "from UKMovementSensing import hsmm\n",
    "\n",
    "import pandas as pd\n",
    "import numpy as np"
   ]
  },
  {
   "cell_type": "code",
   "execution_count": 3,
   "metadata": {
    "collapsed": false
   },
   "outputs": [],
   "source": [
    "execfile('config.py')"
   ]
  },
  {
   "cell_type": "markdown",
   "metadata": {},
   "source": [
    "## Load the data"
   ]
  },
  {
   "cell_type": "code",
   "execution_count": 4,
   "metadata": {
    "collapsed": false
   },
   "outputs": [
    {
     "name": "stdout",
     "output_type": "stream",
     "text": [
      "227\n"
     ]
    }
   ],
   "source": [
    "filenames = os.listdir(subset_path)\n",
    "filenames = [fn for fn in filenames if os.path.isfile(os.path.join(subset_path,fn))]\n",
    "datasets = [pd.read_csv(os.path.join(subset_path,fn)) for fn in filenames]\n",
    "print(len(datasets))"
   ]
  },
  {
   "cell_type": "code",
   "execution_count": 5,
   "metadata": {
    "collapsed": true
   },
   "outputs": [],
   "source": [
    "for i in range(len(datasets)):\n",
    "    datasets[i] = datasets[i].set_index('timestamp')\n",
    "    datasets[i].index = pd.to_datetime(datasets[i].index) "
   ]
  },
  {
   "cell_type": "code",
   "execution_count": 6,
   "metadata": {
    "collapsed": false
   },
   "outputs": [
    {
     "data": {
      "text/html": [
       "<div>\n",
       "<table border=\"1\" class=\"dataframe\">\n",
       "  <thead>\n",
       "    <tr style=\"text-align: right;\">\n",
       "      <th></th>\n",
       "      <th>acceleration</th>\n",
       "      <th>EN</th>\n",
       "      <th>anglex</th>\n",
       "      <th>angley</th>\n",
       "      <th>anglez</th>\n",
       "      <th>roll_med_acc_x</th>\n",
       "      <th>roll_med_acc_y</th>\n",
       "      <th>roll_med_acc_z</th>\n",
       "      <th>dev_roll_med_acc_x</th>\n",
       "      <th>dev_roll_med_acc_y</th>\n",
       "      <th>dev_roll_med_acc_z</th>\n",
       "      <th>invalid</th>\n",
       "      <th>filename</th>\n",
       "      <th>slot</th>\n",
       "      <th>activity</th>\n",
       "      <th>label</th>\n",
       "      <th>start_time</th>\n",
       "      <th>subset</th>\n",
       "      <th>switched_pos</th>\n",
       "    </tr>\n",
       "    <tr>\n",
       "      <th>timestamp</th>\n",
       "      <th></th>\n",
       "      <th></th>\n",
       "      <th></th>\n",
       "      <th></th>\n",
       "      <th></th>\n",
       "      <th></th>\n",
       "      <th></th>\n",
       "      <th></th>\n",
       "      <th></th>\n",
       "      <th></th>\n",
       "      <th></th>\n",
       "      <th></th>\n",
       "      <th></th>\n",
       "      <th></th>\n",
       "      <th></th>\n",
       "      <th></th>\n",
       "      <th></th>\n",
       "      <th></th>\n",
       "      <th></th>\n",
       "    </tr>\n",
       "  </thead>\n",
       "  <tbody>\n",
       "    <tr>\n",
       "      <th>2015-03-24 04:00:00</th>\n",
       "      <td>0.000985</td>\n",
       "      <td>0.996487</td>\n",
       "      <td>-33.688573</td>\n",
       "      <td>-55.681505</td>\n",
       "      <td>-5.794749</td>\n",
       "      <td>-0.553118</td>\n",
       "      <td>-0.823593</td>\n",
       "      <td>-0.100681</td>\n",
       "      <td>-0.000710</td>\n",
       "      <td>0.001239</td>\n",
       "      <td>0.001243</td>\n",
       "      <td>0</td>\n",
       "      <td>__022800_2015-04-08 11-03-39.bin_day1</td>\n",
       "      <td>1</td>\n",
       "      <td>NaN</td>\n",
       "      <td>NaN</td>\n",
       "      <td>NaN</td>\n",
       "      <td>0</td>\n",
       "      <td>False</td>\n",
       "    </tr>\n",
       "    <tr>\n",
       "      <th>2015-03-24 04:00:05</th>\n",
       "      <td>0.001085</td>\n",
       "      <td>0.996119</td>\n",
       "      <td>-33.717287</td>\n",
       "      <td>-55.652101</td>\n",
       "      <td>-5.799117</td>\n",
       "      <td>-0.553118</td>\n",
       "      <td>-0.822688</td>\n",
       "      <td>-0.100681</td>\n",
       "      <td>-0.001656</td>\n",
       "      <td>0.001416</td>\n",
       "      <td>0.001263</td>\n",
       "      <td>0</td>\n",
       "      <td>__022800_2015-04-08 11-03-39.bin_day1</td>\n",
       "      <td>1</td>\n",
       "      <td>NaN</td>\n",
       "      <td>NaN</td>\n",
       "      <td>NaN</td>\n",
       "      <td>0</td>\n",
       "      <td>False</td>\n",
       "    </tr>\n",
       "    <tr>\n",
       "      <th>2015-03-24 04:00:10</th>\n",
       "      <td>0.001315</td>\n",
       "      <td>0.997458</td>\n",
       "      <td>-33.690944</td>\n",
       "      <td>-55.682695</td>\n",
       "      <td>-5.778013</td>\n",
       "      <td>-0.553118</td>\n",
       "      <td>-0.823553</td>\n",
       "      <td>-0.100385</td>\n",
       "      <td>-0.001262</td>\n",
       "      <td>0.000472</td>\n",
       "      <td>0.000296</td>\n",
       "      <td>0</td>\n",
       "      <td>__022800_2015-04-08 11-03-39.bin_day1</td>\n",
       "      <td>1</td>\n",
       "      <td>NaN</td>\n",
       "      <td>NaN</td>\n",
       "      <td>NaN</td>\n",
       "      <td>0</td>\n",
       "      <td>False</td>\n",
       "    </tr>\n",
       "    <tr>\n",
       "      <th>2015-03-24 04:00:15</th>\n",
       "      <td>0.000954</td>\n",
       "      <td>0.996329</td>\n",
       "      <td>-33.727128</td>\n",
       "      <td>-55.665674</td>\n",
       "      <td>-5.688886</td>\n",
       "      <td>-0.553118</td>\n",
       "      <td>-0.822609</td>\n",
       "      <td>-0.098747</td>\n",
       "      <td>-0.000611</td>\n",
       "      <td>0.000197</td>\n",
       "      <td>0.000789</td>\n",
       "      <td>0</td>\n",
       "      <td>__022800_2015-04-08 11-03-39.bin_day1</td>\n",
       "      <td>1</td>\n",
       "      <td>NaN</td>\n",
       "      <td>NaN</td>\n",
       "      <td>NaN</td>\n",
       "      <td>0</td>\n",
       "      <td>False</td>\n",
       "    </tr>\n",
       "    <tr>\n",
       "      <th>2015-03-24 04:00:20</th>\n",
       "      <td>0.001022</td>\n",
       "      <td>0.996196</td>\n",
       "      <td>-33.704179</td>\n",
       "      <td>-55.665525</td>\n",
       "      <td>-5.797123</td>\n",
       "      <td>-0.553118</td>\n",
       "      <td>-0.823101</td>\n",
       "      <td>-0.100681</td>\n",
       "      <td>-0.001005</td>\n",
       "      <td>0.001377</td>\n",
       "      <td>0.000671</td>\n",
       "      <td>0</td>\n",
       "      <td>__022800_2015-04-08 11-03-39.bin_day1</td>\n",
       "      <td>1</td>\n",
       "      <td>NaN</td>\n",
       "      <td>NaN</td>\n",
       "      <td>NaN</td>\n",
       "      <td>0</td>\n",
       "      <td>False</td>\n",
       "    </tr>\n",
       "  </tbody>\n",
       "</table>\n",
       "</div>"
      ],
      "text/plain": [
       "                     acceleration        EN     anglex     angley    anglez  \\\n",
       "timestamp                                                                     \n",
       "2015-03-24 04:00:00      0.000985  0.996487 -33.688573 -55.681505 -5.794749   \n",
       "2015-03-24 04:00:05      0.001085  0.996119 -33.717287 -55.652101 -5.799117   \n",
       "2015-03-24 04:00:10      0.001315  0.997458 -33.690944 -55.682695 -5.778013   \n",
       "2015-03-24 04:00:15      0.000954  0.996329 -33.727128 -55.665674 -5.688886   \n",
       "2015-03-24 04:00:20      0.001022  0.996196 -33.704179 -55.665525 -5.797123   \n",
       "\n",
       "                     roll_med_acc_x  roll_med_acc_y  roll_med_acc_z  \\\n",
       "timestamp                                                             \n",
       "2015-03-24 04:00:00       -0.553118       -0.823593       -0.100681   \n",
       "2015-03-24 04:00:05       -0.553118       -0.822688       -0.100681   \n",
       "2015-03-24 04:00:10       -0.553118       -0.823553       -0.100385   \n",
       "2015-03-24 04:00:15       -0.553118       -0.822609       -0.098747   \n",
       "2015-03-24 04:00:20       -0.553118       -0.823101       -0.100681   \n",
       "\n",
       "                     dev_roll_med_acc_x  dev_roll_med_acc_y  \\\n",
       "timestamp                                                     \n",
       "2015-03-24 04:00:00           -0.000710            0.001239   \n",
       "2015-03-24 04:00:05           -0.001656            0.001416   \n",
       "2015-03-24 04:00:10           -0.001262            0.000472   \n",
       "2015-03-24 04:00:15           -0.000611            0.000197   \n",
       "2015-03-24 04:00:20           -0.001005            0.001377   \n",
       "\n",
       "                     dev_roll_med_acc_z  invalid  \\\n",
       "timestamp                                          \n",
       "2015-03-24 04:00:00            0.001243        0   \n",
       "2015-03-24 04:00:05            0.001263        0   \n",
       "2015-03-24 04:00:10            0.000296        0   \n",
       "2015-03-24 04:00:15            0.000789        0   \n",
       "2015-03-24 04:00:20            0.000671        0   \n",
       "\n",
       "                                                  filename  slot  activity  \\\n",
       "timestamp                                                                    \n",
       "2015-03-24 04:00:00  __022800_2015-04-08 11-03-39.bin_day1     1       NaN   \n",
       "2015-03-24 04:00:05  __022800_2015-04-08 11-03-39.bin_day1     1       NaN   \n",
       "2015-03-24 04:00:10  __022800_2015-04-08 11-03-39.bin_day1     1       NaN   \n",
       "2015-03-24 04:00:15  __022800_2015-04-08 11-03-39.bin_day1     1       NaN   \n",
       "2015-03-24 04:00:20  __022800_2015-04-08 11-03-39.bin_day1     1       NaN   \n",
       "\n",
       "                    label start_time  subset switched_pos  \n",
       "timestamp                                                  \n",
       "2015-03-24 04:00:00   NaN        NaN       0        False  \n",
       "2015-03-24 04:00:05   NaN        NaN       0        False  \n",
       "2015-03-24 04:00:10   NaN        NaN       0        False  \n",
       "2015-03-24 04:00:15   NaN        NaN       0        False  \n",
       "2015-03-24 04:00:20   NaN        NaN       0        False  "
      ]
     },
     "execution_count": 6,
     "metadata": {},
     "output_type": "execute_result"
    }
   ],
   "source": [
    "# Take one example datset and have a look\n",
    "example_index = 2\n",
    "example_data = datasets[example_index]\n",
    "\n",
    "example_data.head()"
   ]
  },
  {
   "cell_type": "markdown",
   "metadata": {},
   "source": [
    "## Prepare data for HSMM"
   ]
  },
  {
   "cell_type": "code",
   "execution_count": 7,
   "metadata": {
    "collapsed": false
   },
   "outputs": [],
   "source": [
    "X_list = [d[column_names].as_matrix() for d in datasets]"
   ]
  },
  {
   "cell_type": "markdown",
   "metadata": {},
   "source": [
    "## Train HSMM"
   ]
  },
  {
   "cell_type": "code",
   "execution_count": 8,
   "metadata": {
    "collapsed": false
   },
   "outputs": [
    {
     "name": "stderr",
     "output_type": "stream",
     "text": [
      "/home/vincent/anaconda3/envs/ukmose/lib/python2.7/site-packages/pybasicbayes/util/stats.py:185: VisibleDeprecationWarning: using a non-integer number instead of an integer will result in an error in the future\n",
      "  x = np.random.randn(nu,n)\n",
      "/home/vincent/anaconda3/envs/ukmose/lib/python2.7/site-packages/scipy/stats/_distn_infrastructure.py:895: RuntimeWarning: divide by zero encountered in log\n",
      "  return log(self._sf(x, *args))\n"
     ]
    },
    {
     "ename": "KeyboardInterrupt",
     "evalue": "",
     "output_type": "error",
     "traceback": [
      "\u001b[0;31m---------------------------------------------------------------------------\u001b[0m",
      "\u001b[0;31mKeyboardInterrupt\u001b[0m                         Traceback (most recent call last)",
      "\u001b[0;32m<ipython-input-8-4347934b7759>\u001b[0m in \u001b[0;36m<module>\u001b[0;34m()\u001b[0m\n\u001b[1;32m      1\u001b[0m \u001b[0;31m#Note that with many iterations, the visualization becomes badly visible\u001b[0m\u001b[0;34m\u001b[0m\u001b[0;34m\u001b[0m\u001b[0m\n\u001b[0;32m----> 2\u001b[0;31m \u001b[0mmodel\u001b[0m\u001b[0;34m,\u001b[0m \u001b[0mmodel_dist\u001b[0m \u001b[0;34m=\u001b[0m \u001b[0mhsmm\u001b[0m\u001b[0;34m.\u001b[0m\u001b[0mtrain_hsmm\u001b[0m\u001b[0;34m(\u001b[0m\u001b[0mX_list\u001b[0m\u001b[0;34m,\u001b[0m \u001b[0mNmax\u001b[0m\u001b[0;34m=\u001b[0m\u001b[0mNmax\u001b[0m\u001b[0;34m,\u001b[0m \u001b[0mnr_resamples\u001b[0m\u001b[0;34m=\u001b[0m\u001b[0mnr_resamples\u001b[0m\u001b[0;34m,\u001b[0m \u001b[0mtrunc\u001b[0m\u001b[0;34m=\u001b[0m\u001b[0mtruncate\u001b[0m\u001b[0;34m,\u001b[0m \u001b[0mvisualize\u001b[0m\u001b[0;34m=\u001b[0m\u001b[0mTrue\u001b[0m\u001b[0;34m,\u001b[0m \u001b[0mexample_index\u001b[0m\u001b[0;34m=\u001b[0m\u001b[0mexample_index\u001b[0m\u001b[0;34m)\u001b[0m\u001b[0;34m\u001b[0m\u001b[0m\n\u001b[0m",
      "\u001b[0;32m/home/vincent/ukmose/UKMovementSensing/UKMovementSensing/hsmm.pyc\u001b[0m in \u001b[0;36mtrain_hsmm\u001b[0;34m(X_list, Nmax, nr_resamples, trunc, visualize, example_index, max_hamming)\u001b[0m\n\u001b[1;32m     56\u001b[0m         \u001b[0mt_start\u001b[0m \u001b[0;34m=\u001b[0m \u001b[0mclock\u001b[0m\u001b[0;34m(\u001b[0m\u001b[0;34m)\u001b[0m\u001b[0;34m\u001b[0m\u001b[0m\n\u001b[1;32m     57\u001b[0m         \u001b[0;31m# model_copy = model.resample_and_copy()\u001b[0m\u001b[0;34m\u001b[0m\u001b[0;34m\u001b[0m\u001b[0m\n\u001b[0;32m---> 58\u001b[0;31m         \u001b[0mmodel\u001b[0m\u001b[0;34m.\u001b[0m\u001b[0mresample_model\u001b[0m\u001b[0;34m(\u001b[0m\u001b[0;34m)\u001b[0m\u001b[0;34m\u001b[0m\u001b[0m\n\u001b[0m\u001b[1;32m     59\u001b[0m         \u001b[0mt_end\u001b[0m \u001b[0;34m=\u001b[0m \u001b[0mclock\u001b[0m\u001b[0;34m(\u001b[0m\u001b[0;34m)\u001b[0m\u001b[0;34m\u001b[0m\u001b[0m\n\u001b[1;32m     60\u001b[0m         \u001b[0mmodel_dists\u001b[0m\u001b[0;34m.\u001b[0m\u001b[0mappend\u001b[0m\u001b[0;34m(\u001b[0m\u001b[0mcopy\u001b[0m\u001b[0;34m.\u001b[0m\u001b[0mdeepcopy\u001b[0m\u001b[0;34m(\u001b[0m\u001b[0mmodel\u001b[0m\u001b[0;34m.\u001b[0m\u001b[0mobs_distns\u001b[0m\u001b[0;34m)\u001b[0m\u001b[0;34m)\u001b[0m\u001b[0;34m\u001b[0m\u001b[0m\n",
      "\u001b[0;32m/home/vincent/anaconda3/envs/ukmose/lib/python2.7/site-packages/pyhsmm/models.pyc\u001b[0m in \u001b[0;36mresample_model\u001b[0;34m(self, num_procs)\u001b[0m\n\u001b[1;32m    429\u001b[0m     \u001b[0;32mdef\u001b[0m \u001b[0mresample_model\u001b[0m\u001b[0;34m(\u001b[0m\u001b[0mself\u001b[0m\u001b[0;34m,\u001b[0m\u001b[0mnum_procs\u001b[0m\u001b[0;34m=\u001b[0m\u001b[0;36m0\u001b[0m\u001b[0;34m)\u001b[0m\u001b[0;34m:\u001b[0m\u001b[0;34m\u001b[0m\u001b[0m\n\u001b[1;32m    430\u001b[0m         \u001b[0mself\u001b[0m\u001b[0;34m.\u001b[0m\u001b[0mresample_parameters\u001b[0m\u001b[0;34m(\u001b[0m\u001b[0;34m)\u001b[0m\u001b[0;34m\u001b[0m\u001b[0m\n\u001b[0;32m--> 431\u001b[0;31m         \u001b[0mself\u001b[0m\u001b[0;34m.\u001b[0m\u001b[0mresample_states\u001b[0m\u001b[0;34m(\u001b[0m\u001b[0mnum_procs\u001b[0m\u001b[0;34m=\u001b[0m\u001b[0mnum_procs\u001b[0m\u001b[0;34m)\u001b[0m\u001b[0;34m\u001b[0m\u001b[0m\n\u001b[0m\u001b[1;32m    432\u001b[0m \u001b[0;34m\u001b[0m\u001b[0m\n\u001b[1;32m    433\u001b[0m     \u001b[0;34m@\u001b[0m\u001b[0mline_profiled\u001b[0m\u001b[0;34m\u001b[0m\u001b[0m\n",
      "\u001b[0;32m/home/vincent/anaconda3/envs/ukmose/lib/python2.7/site-packages/pyhsmm/models.pyc\u001b[0m in \u001b[0;36mresample_states\u001b[0;34m(self, num_procs)\u001b[0m\n\u001b[1;32m    454\u001b[0m         \u001b[0;32mif\u001b[0m \u001b[0mnum_procs\u001b[0m \u001b[0;34m==\u001b[0m \u001b[0;36m0\u001b[0m\u001b[0;34m:\u001b[0m\u001b[0;34m\u001b[0m\u001b[0m\n\u001b[1;32m    455\u001b[0m             \u001b[0;32mfor\u001b[0m \u001b[0ms\u001b[0m \u001b[0;32min\u001b[0m \u001b[0mself\u001b[0m\u001b[0;34m.\u001b[0m\u001b[0mstates_list\u001b[0m\u001b[0;34m:\u001b[0m\u001b[0;34m\u001b[0m\u001b[0m\n\u001b[0;32m--> 456\u001b[0;31m                 \u001b[0ms\u001b[0m\u001b[0;34m.\u001b[0m\u001b[0mresample\u001b[0m\u001b[0;34m(\u001b[0m\u001b[0;34m)\u001b[0m\u001b[0;34m\u001b[0m\u001b[0m\n\u001b[0m\u001b[1;32m    457\u001b[0m         \u001b[0;32melse\u001b[0m\u001b[0;34m:\u001b[0m\u001b[0;34m\u001b[0m\u001b[0m\n\u001b[1;32m    458\u001b[0m             \u001b[0mself\u001b[0m\u001b[0;34m.\u001b[0m\u001b[0m_joblib_resample_states\u001b[0m\u001b[0;34m(\u001b[0m\u001b[0mself\u001b[0m\u001b[0;34m.\u001b[0m\u001b[0mstates_list\u001b[0m\u001b[0;34m,\u001b[0m\u001b[0mnum_procs\u001b[0m\u001b[0;34m)\u001b[0m\u001b[0;34m\u001b[0m\u001b[0m\n",
      "\u001b[0;32m/home/vincent/anaconda3/envs/ukmose/lib/python2.7/site-packages/pyhsmm/internals/hsmm_states.pyc\u001b[0m in \u001b[0;36mresample\u001b[0;34m(self)\u001b[0m\n\u001b[1;32m    322\u001b[0m \u001b[0;34m\u001b[0m\u001b[0m\n\u001b[1;32m    323\u001b[0m     \u001b[0;32mdef\u001b[0m \u001b[0mresample\u001b[0m\u001b[0;34m(\u001b[0m\u001b[0mself\u001b[0m\u001b[0;34m)\u001b[0m\u001b[0;34m:\u001b[0m\u001b[0;34m\u001b[0m\u001b[0m\n\u001b[0;32m--> 324\u001b[0;31m         \u001b[0mbetal\u001b[0m\u001b[0;34m,\u001b[0m \u001b[0mbetastarl\u001b[0m \u001b[0;34m=\u001b[0m \u001b[0mself\u001b[0m\u001b[0;34m.\u001b[0m\u001b[0mmessages_backwards\u001b[0m\u001b[0;34m(\u001b[0m\u001b[0;34m)\u001b[0m\u001b[0;34m\u001b[0m\u001b[0m\n\u001b[0m\u001b[1;32m    325\u001b[0m         \u001b[0mself\u001b[0m\u001b[0;34m.\u001b[0m\u001b[0msample_forwards\u001b[0m\u001b[0;34m(\u001b[0m\u001b[0mbetal\u001b[0m\u001b[0;34m,\u001b[0m\u001b[0mbetastarl\u001b[0m\u001b[0;34m)\u001b[0m\u001b[0;34m\u001b[0m\u001b[0m\n\u001b[1;32m    326\u001b[0m \u001b[0;34m\u001b[0m\u001b[0m\n",
      "\u001b[0;32m/home/vincent/anaconda3/envs/ukmose/lib/python2.7/site-packages/pyhsmm/internals/hsmm_states.pyc\u001b[0m in \u001b[0;36mmessages_backwards\u001b[0;34m(self)\u001b[0m\n\u001b[1;32m    504\u001b[0m                 \u001b[0mnp\u001b[0m\u001b[0;34m.\u001b[0m\u001b[0mmaximum\u001b[0m\u001b[0;34m(\u001b[0m\u001b[0mself\u001b[0m\u001b[0;34m.\u001b[0m\u001b[0mtrans_matrix\u001b[0m\u001b[0;34m,\u001b[0m\u001b[0;36m1e-50\u001b[0m\u001b[0;34m)\u001b[0m\u001b[0;34m,\u001b[0m\u001b[0mself\u001b[0m\u001b[0;34m.\u001b[0m\u001b[0maBl\u001b[0m\u001b[0;34m,\u001b[0m\u001b[0mnp\u001b[0m\u001b[0;34m.\u001b[0m\u001b[0mmaximum\u001b[0m\u001b[0;34m(\u001b[0m\u001b[0mself\u001b[0m\u001b[0;34m.\u001b[0m\u001b[0maDl\u001b[0m\u001b[0;34m,\u001b[0m\u001b[0;34m-\u001b[0m\u001b[0;36m1000000\u001b[0m\u001b[0;34m)\u001b[0m\u001b[0;34m,\u001b[0m\u001b[0;34m\u001b[0m\u001b[0m\n\u001b[1;32m    505\u001b[0m                 \u001b[0mself\u001b[0m\u001b[0;34m.\u001b[0m\u001b[0maDsl\u001b[0m\u001b[0;34m,\u001b[0m\u001b[0mnp\u001b[0m\u001b[0;34m.\u001b[0m\u001b[0mempty_like\u001b[0m\u001b[0;34m(\u001b[0m\u001b[0mself\u001b[0m\u001b[0;34m.\u001b[0m\u001b[0maBl\u001b[0m\u001b[0;34m)\u001b[0m\u001b[0;34m,\u001b[0m\u001b[0mnp\u001b[0m\u001b[0;34m.\u001b[0m\u001b[0mempty_like\u001b[0m\u001b[0;34m(\u001b[0m\u001b[0mself\u001b[0m\u001b[0;34m.\u001b[0m\u001b[0maBl\u001b[0m\u001b[0;34m)\u001b[0m\u001b[0;34m,\u001b[0m\u001b[0;34m\u001b[0m\u001b[0m\n\u001b[0;32m--> 506\u001b[0;31m                 self.right_censoring,self.trunc if self.trunc is not None else self.T)\n\u001b[0m\u001b[1;32m    507\u001b[0m         \u001b[0;32massert\u001b[0m \u001b[0;32mnot\u001b[0m \u001b[0mnp\u001b[0m\u001b[0;34m.\u001b[0m\u001b[0misnan\u001b[0m\u001b[0;34m(\u001b[0m\u001b[0mbetal\u001b[0m\u001b[0;34m)\u001b[0m\u001b[0;34m.\u001b[0m\u001b[0many\u001b[0m\u001b[0;34m(\u001b[0m\u001b[0;34m)\u001b[0m\u001b[0;34m\u001b[0m\u001b[0m\n\u001b[1;32m    508\u001b[0m         \u001b[0;32massert\u001b[0m \u001b[0;32mnot\u001b[0m \u001b[0mnp\u001b[0m\u001b[0;34m.\u001b[0m\u001b[0misnan\u001b[0m\u001b[0;34m(\u001b[0m\u001b[0mbetastarl\u001b[0m\u001b[0;34m)\u001b[0m\u001b[0;34m.\u001b[0m\u001b[0many\u001b[0m\u001b[0;34m(\u001b[0m\u001b[0;34m)\u001b[0m\u001b[0;34m\u001b[0m\u001b[0m\n",
      "\u001b[0;31mKeyboardInterrupt\u001b[0m: "
     ]
    },
    {
     "data": {
      "image/png": "[encoded data removed]",
      "text/plain": [
       "<matplotlib.figure.Figure at 0x7f8e952be0d0>"
      ]
     },
     "metadata": {},
     "output_type": "display_data"
    }
   ],
   "source": [
    "#Note that with many iterations, the visualization becomes badly visible\n",
    "model, model_dist = hsmm.train_hsmm(X_list, Nmax=Nmax, nr_resamples=nr_resamples, trunc=truncate, visualize=True, example_index=example_index)"
   ]
  },
  {
   "cell_type": "markdown",
   "metadata": {},
   "source": [
    "## Plot one example"
   ]
  },
  {
   "cell_type": "code",
   "execution_count": null,
   "metadata": {
    "collapsed": false
   },
   "outputs": [],
   "source": [
    "import matplotlib.pyplot as plt\n",
    "plt.subplots(figsize=(20, 5))\n",
    "model.plot_stateseq(example_index)"
   ]
  },
  {
   "cell_type": "markdown",
   "metadata": {},
   "source": [
    "## Save the data with the states"
   ]
  },
  {
   "cell_type": "markdown",
   "metadata": {},
   "source": [
    "Save the data including the states found. This labeled data serves as an input to the analyses."
   ]
  },
  {
   "cell_type": "code",
   "execution_count": null,
   "metadata": {
    "collapsed": false
   },
   "outputs": [],
   "source": [
    "if not os.path.exists(states_path_model):\n",
    "        os.makedirs(states_path_model)\n",
    "for i, dat in enumerate(datasets):\n",
    "    dat['state'] = model.stateseqs[i]\n",
    "    fn = str(str(dat['subset'][0]) + dat['filename'][0])+'.csv'\n",
    "    dat.to_csv(os.path.join(states_path_model, fn))"
   ]
  },
  {
   "cell_type": "markdown",
   "metadata": {},
   "source": [
    "## Save the model"
   ]
  },
  {
   "cell_type": "markdown",
   "metadata": {},
   "source": [
    "NB: This removes the data from the model! Only run this if you've saved the data with states."
   ]
  },
  {
   "cell_type": "code",
   "execution_count": null,
   "metadata": {
    "collapsed": true
   },
   "outputs": [],
   "source": [
    "import pickle\n",
    "#Remove the data from the model\n",
    "model.states_list = []\n",
    "\n",
    "if not os.path.exists(model_path):\n",
    "        os.makedirs(model_path)\n",
    "with open(os.path.join(model_path, model_name+'.pkl'), 'wb') as f:\n",
    "    pickle.dump(model, file=f)"
   ]
  },
  {
   "cell_type": "markdown",
   "metadata": {},
   "source": [
    "## Save the config"
   ]
  },
  {
   "cell_type": "code",
   "execution_count": null,
   "metadata": {
    "collapsed": true
   },
   "outputs": [],
   "source": [
    "from shutil import copyfile\n",
    "\n",
    "if not os.path.exists(config_path):\n",
    "    os.makedirs(config_path)\n",
    "copyfile('config.py', os.path.join(config_path, model_name+'_config.py'))"
   ]
  },
  {
   "cell_type": "markdown",
   "metadata": {},
   "source": [
    "## Possibly: Apply the model to new data"
   ]
  },
  {
   "cell_type": "code",
   "execution_count": null,
   "metadata": {
    "collapsed": false
   },
   "outputs": [],
   "source": [
    "# You can apply the model to another list of datasets\n",
    "new_datasets = datasets # Here you could load your new dataset\n",
    "for dat in datasets:\n",
    "    X = dat[column_names].as_matrix()\n",
    "    prediction = model.predict(X, 0)\n",
    "    dat['state'] = predictionss[1]"
   ]
  },
  {
   "cell_type": "code",
   "execution_count": null,
   "metadata": {
    "collapsed": true
   },
   "outputs": [],
   "source": []
  }
 ],
 "metadata": {
  "anaconda-cloud": {},
  "kernelspec": {
   "display_name": "Python [default]",
   "language": "python",
   "name": "python2"
  },
  "language_info": {
   "codemirror_mode": {
    "name": "ipython",
    "version": 2
   },
   "file_extension": ".py",
   "mimetype": "text/x-python",
   "name": "python",
   "nbconvert_exporter": "python",
   "pygments_lexer": "ipython2",
   "version": "2.7.11"
  }
 },
 "nbformat": 4,
 "nbformat_minor": 0
}
