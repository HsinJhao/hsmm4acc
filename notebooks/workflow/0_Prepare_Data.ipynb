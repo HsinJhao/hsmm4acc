{
 "cells": [
  {
   "cell_type": "code",
   "execution_count": 1,
   "metadata": {
    "collapsed": false
   },
   "outputs": [],
   "source": [
    "%matplotlib inline\n",
    "%load_ext autoreload\n",
    "%autoreload 2\n",
    "\n",
    "import pandas as pd\n",
    "import numpy as np\n",
    "import matplotlib.pyplot as plt\n",
    "import datetime\n",
    "import os\n",
    "import sys\n",
    "import dateutil.parser\n",
    "\n",
    "from __future__ import print_function"
   ]
  },
  {
   "cell_type": "code",
   "execution_count": 2,
   "metadata": {
    "collapsed": true
   },
   "outputs": [],
   "source": [
    "sys.path.insert(0, os.path.abspath('../..'))\n",
    "\n",
    "from UKMovementSensing import prepacc, tud"
   ]
  },
  {
   "cell_type": "code",
   "execution_count": 3,
   "metadata": {
    "collapsed": true
   },
   "outputs": [],
   "source": [
    "execfile('config.py')"
   ]
  },
  {
   "cell_type": "markdown",
   "metadata": {},
   "source": [
    "## Read in wearcodes"
   ]
  },
  {
   "cell_type": "markdown",
   "metadata": {},
   "source": [
    "This file is our central administration file: it contains the filenames for all collected data."
   ]
  },
  {
   "cell_type": "code",
   "execution_count": 4,
   "metadata": {
    "collapsed": true
   },
   "outputs": [],
   "source": [
    "wearcodes = prepacc.load_wearcodes(wearcodes_path)"
   ]
  },
  {
   "cell_type": "markdown",
   "metadata": {},
   "source": [
    "## Process the accelerometer data"
   ]
  },
  {
   "cell_type": "markdown",
   "metadata": {},
   "source": [
    "We will split the accelerometer data in completely valid subsets, and switch the position variables if necesssary.\n",
    "\n",
    "The input data should contain at least folowing columns:\n",
    "* timestamp\n",
    "* invalid\n",
    "* heuristic\n",
    "* acceleration\n",
    "* anglex\n",
    "* angley\n",
    "* angley\n",
    "\n",
    "Other variables are also allowed. This should be the output of a GGIR process."
   ]
  },
  {
   "cell_type": "code",
   "execution_count": 118,
   "metadata": {
    "collapsed": false
   },
   "outputs": [
    {
     "name": "stdout",
     "output_type": "stream",
     "text": [
      "switched dataset with median 29.307547\n",
      "switched dataset with median 30.527767\n",
      "switched dataset with median 28.158655\n",
      "switched dataset with median 12.313824\n",
      "switched dataset with median 18.418094\n",
      "switched dataset with median 34.877218\n",
      "switched dataset with median 53.758234\n",
      "switched dataset with median 38.752736\n",
      "switched dataset with median 19.638931\n",
      "switched dataset with median 20.317434\n",
      "switched dataset with median 34.185083\n",
      "switched dataset with median 31.965390\n",
      "switched dataset with median 36.133421\n",
      "File not found:  /media/sf_VBox_Shared/London/UCL_data_March/run_2017march21/accelerometer_5second/__020791_2015-04-07 11-00-18.bin_day1.csv\n",
      "File not found:  /media/sf_VBox_Shared/London/UCL_data_March/run_2017march21/accelerometer_5second/__020791_2015-04-07 11-00-18.bin_day2.csv\n",
      "switched dataset with median 34.811131\n",
      "switched dataset with median 41.665654\n",
      "File not found:  /media/sf_VBox_Shared/London/UCL_data_March/run_2017march21/accelerometer_5second/__020888_2015-03-06 09-26-54.bin_day1.csv\n",
      "File not found:  /media/sf_VBox_Shared/London/UCL_data_March/run_2017march21/accelerometer_5second/__020888_2015-03-06 09-26-54.bin_day2.csv\n",
      "switched dataset with median 43.178106\n",
      "switched dataset with median 2.088001\n",
      "switched dataset with median 32.912895\n",
      "switched dataset with median 36.518790\n",
      "switched dataset with median 27.814102\n",
      "switched dataset with median 30.281542\n",
      "switched dataset with median 9.853400\n",
      "switched dataset with median 36.640725\n",
      "switched dataset with median 27.704428\n",
      "File not found:  /media/sf_VBox_Shared/London/UCL_data_March/run_2017march21/accelerometer_5second/__021438_2015-03-16 14-17-41.bin_day1.csv\n",
      "File not found:  /media/sf_VBox_Shared/London/UCL_data_March/run_2017march21/accelerometer_5second/__021438_2015-03-16 14-17-41.bin_day2.csv\n",
      "switched dataset with median 30.051142\n",
      "File not found:  /media/sf_VBox_Shared/London/UCL_data_March/run_2017march21/accelerometer_5second/__021466_2015-03-16 17-17-32.bin_day1.csv\n",
      "File not found:  /media/sf_VBox_Shared/London/UCL_data_March/run_2017march21/accelerometer_5second/__021466_2015-03-16 17-17-32.bin_day2.csv\n",
      "switched dataset with median 14.850918\n",
      "switched dataset with median 17.841022\n",
      "switched dataset with median 31.187312\n",
      "switched dataset with median 28.771571\n",
      "switched dataset with median 22.433245\n",
      "switched dataset with median 26.327842\n",
      "switched dataset with median 32.380253\n",
      "switched dataset with median 36.733634\n",
      "switched dataset with median 31.183534\n",
      "switched dataset with median 29.383468\n",
      "switched dataset with median 49.268891\n",
      "File not found:  /media/sf_VBox_Shared/London/UCL_data_March/run_2017march21/accelerometer_5second/__021775_2015-03-10 11-02-30.bin_day1.csv\n",
      "File not found:  /media/sf_VBox_Shared/London/UCL_data_March/run_2017march21/accelerometer_5second/__021775_2015-03-10 11-02-30.bin_day2.csv\n",
      "switched dataset with median 28.487741\n",
      "switched dataset with median 34.994010\n",
      "switched dataset with median 28.810676\n",
      "File not found:  /media/sf_VBox_Shared/London/UCL_data_March/run_2017march21/accelerometer_5second/__021968_2015-04-16 09-39-20.bin_day1.csv\n",
      "File not found:  /media/sf_VBox_Shared/London/UCL_data_March/run_2017march21/accelerometer_5second/__021968_2015-04-16 09-39-20.bin_day2.csv\n",
      "File not found:  /media/sf_VBox_Shared/London/UCL_data_March/run_2017march21/accelerometer_5second/__022016_2015-04-08 12-10-52.bin_day2.csv\n",
      "File not found:  /media/sf_VBox_Shared/London/UCL_data_March/run_2017march21/accelerometer_5second/__022036_2015-03-06 12-44-43.bin_day1.csv\n",
      "File not found:  /media/sf_VBox_Shared/London/UCL_data_March/run_2017march21/accelerometer_5second/__022036_2015-03-06 12-44-43.bin_day2.csv\n",
      "File not found:  /media/sf_VBox_Shared/London/UCL_data_March/run_2017march21/accelerometer_5second/__022109_2015-03-12 12-02-19.bin_day1.csv\n",
      "File not found:  /media/sf_VBox_Shared/London/UCL_data_March/run_2017march21/accelerometer_5second/__022109_2015-03-12 12-02-19.bin_day2.csv\n",
      "File not found:  /media/sf_VBox_Shared/London/UCL_data_March/run_2017march21/accelerometer_5second/__022131_2015-04-15 11-02-12.bin_day1.csv\n",
      "File not found:  /media/sf_VBox_Shared/London/UCL_data_March/run_2017march21/accelerometer_5second/__022131_2015-04-15 11-02-12.bin_day2.csv\n",
      "File not found:  /media/sf_VBox_Shared/London/UCL_data_March/run_2017march21/accelerometer_5second/__022136_2015-03-10 11-02-35.bin_day1.csv\n",
      "File not found:  /media/sf_VBox_Shared/London/UCL_data_March/run_2017march21/accelerometer_5second/__022136_2015-03-10 11-02-35.bin_day2.csv\n",
      "switched dataset with median 39.412347\n",
      "switched dataset with median 34.783651\n",
      "File not found:  /media/sf_VBox_Shared/London/UCL_data_March/run_2017march21/accelerometer_5second/__022294_2015-03-12 16-41-02.bin_day1.csv\n",
      "File not found:  /media/sf_VBox_Shared/London/UCL_data_March/run_2017march21/accelerometer_5second/__022294_2015-03-12 16-41-02.bin_day2.csv\n",
      "switched dataset with median 18.335023\n",
      "switched dataset with median 32.438579\n",
      "File not found:  /media/sf_VBox_Shared/London/UCL_data_March/run_2017march21/accelerometer_5second/__022349_2015-03-30 11-31-02.bin_day1.csv\n",
      "File not found:  /media/sf_VBox_Shared/London/UCL_data_March/run_2017march21/accelerometer_5second/__022349_2015-03-30 11-31-02.bin_day2.csv\n",
      "File not found:  /media/sf_VBox_Shared/London/UCL_data_March/run_2017march21/accelerometer_5second/__022445_2015-04-15 09-33-13.bin_day1.csv\n",
      "File not found:  /media/sf_VBox_Shared/London/UCL_data_March/run_2017march21/accelerometer_5second/__022445_2015-04-15 09-33-13.bin_day2.csv\n",
      "switched dataset with median 31.524481\n",
      "switched dataset with median 39.800772\n",
      "switched dataset with median 31.904991\n",
      "switched dataset with median 22.823630\n",
      "switched dataset with median 39.815457\n",
      "switched dataset with median 22.628604\n",
      "switched dataset with median 31.868451\n",
      "switched dataset with median 20.933574\n",
      "switched dataset with median 40.874720\n",
      "switched dataset with median 36.672393\n",
      "File not found:  /media/sf_VBox_Shared/London/UCL_data_March/run_2017march21/accelerometer_5second/__022758_2015-03-31 17-04-45.bin_day2.csv\n",
      "switched dataset with median 35.155858\n",
      "File not found:  /media/sf_VBox_Shared/London/UCL_data_March/run_2017march21/accelerometer_5second/__022759_2015-03-30 14-50-10.bin_day2.csv\n",
      "switched dataset with median 20.323505\n",
      "switched dataset with median 37.479541\n",
      "switched dataset with median 34.580930\n",
      "File not found:  /media/sf_VBox_Shared/London/UCL_data_March/run_2017march21/accelerometer_5second/__022909_2015-03-30 14-15-29.bin_day2.csv\n",
      "switched dataset with median 37.686079\n",
      "switched dataset with median 34.509431\n",
      "File not found:  /media/sf_VBox_Shared/London/UCL_data_March/run_2017march21/accelerometer_5second/__022928_2015-03-18 12-54-34.bin_day1.csv\n",
      "File not found:  /media/sf_VBox_Shared/London/UCL_data_March/run_2017march21/accelerometer_5second/__022928_2015-03-18 12-54-34.bin_day2.csv\n",
      "File not found:  /media/sf_VBox_Shared/London/UCL_data_March/run_2017march21/accelerometer_5second/__022934_2015-03-06 10-31-40.bin_day2.csv\n",
      "switched dataset with median 25.075054\n",
      "switched dataset with median 25.379889\n",
      "switched dataset with median 48.148632\n",
      "switched dataset with median 42.771108\n",
      "switched dataset with median 27.997321\n",
      "switched dataset with median 35.865763\n",
      "switched dataset with median 35.485673\n",
      "File not found:  /media/sf_VBox_Shared/London/UCL_data_March/run_2017march21/accelerometer_5second/__023143_2015-03-19 12-06-12.bin_day1.csv\n",
      "File not found:  /media/sf_VBox_Shared/London/UCL_data_March/run_2017march21/accelerometer_5second/__023143_2015-03-19 12-06-12.bin_day2.csv\n",
      "File not found:  /media/sf_VBox_Shared/London/UCL_data_March/run_2017march21/accelerometer_5second/__023152_2015-03-11 10-21-58.bin_day1.csv\n",
      "File not found:  /media/sf_VBox_Shared/London/UCL_data_March/run_2017march21/accelerometer_5second/__023152_2015-03-11 10-21-58.bin_day2.csv\n",
      "File not found:  /media/sf_VBox_Shared/London/UCL_data_March/run_2017march21/accelerometer_5second/__023183_2015-04-15 11-01-39.bin_day1.csv\n",
      "File not found:  /media/sf_VBox_Shared/London/UCL_data_March/run_2017march21/accelerometer_5second/__023183_2015-04-15 11-01-39.bin_day2.csv\n",
      "File not found:  /media/sf_VBox_Shared/London/UCL_data_March/run_2017march21/accelerometer_5second/__023194_2015-03-20 13-56-21.bin_day1.csv\n",
      "File not found:  /media/sf_VBox_Shared/London/UCL_data_March/run_2017march21/accelerometer_5second/__023194_2015-03-20 13-56-21.bin_day2.csv\n",
      "File not found:  /media/sf_VBox_Shared/London/UCL_data_March/run_2017march21/accelerometer_5second/__023202_2015-03-31 12-12-13.bin_day1.csv\n",
      "File not found:  /media/sf_VBox_Shared/London/UCL_data_March/run_2017march21/accelerometer_5second/__023202_2015-03-31 12-12-13.bin_day2.csv\n",
      "File not found:  /media/sf_VBox_Shared/London/UCL_data_March/run_2017march21/accelerometer_5second/__023221_2015-03-24 14-52-25.bin_day1.csv\n",
      "File not found:  /media/sf_VBox_Shared/London/UCL_data_March/run_2017march21/accelerometer_5second/__023221_2015-03-24 14-52-25.bin_day2.csv\n",
      "File not found:  /media/sf_VBox_Shared/London/UCL_data_March/run_2017march21/accelerometer_5second/__023244_2015-04-14 13-56-52.bin_day1.csv\n",
      "File not found:  /media/sf_VBox_Shared/London/UCL_data_March/run_2017march21/accelerometer_5second/__023244_2015-04-14 13-56-52.bin_day2.csv\n",
      "File not found:  /media/sf_VBox_Shared/London/UCL_data_March/run_2017march21/accelerometer_5second/__023285_2015-04-07 11-00-55.bin_day1.csv\n",
      "File not found:  /media/sf_VBox_Shared/London/UCL_data_March/run_2017march21/accelerometer_5second/__023285_2015-04-07 11-00-55.bin_day2.csv\n",
      "File not found:  /media/sf_VBox_Shared/London/UCL_data_March/run_2017march21/accelerometer_5second/__023299_2015-03-10 14-38-59.bin_day1.csv\n",
      "File not found:  /media/sf_VBox_Shared/London/UCL_data_March/run_2017march21/accelerometer_5second/__023299_2015-03-10 14-38-59.bin_day2.csv\n",
      "File not found:  /media/sf_VBox_Shared/London/UCL_data_March/run_2017march21/accelerometer_5second/__023309_2015-03-30 10-32-56.bin_day1.csv\n",
      "File not found:  /media/sf_VBox_Shared/London/UCL_data_March/run_2017march21/accelerometer_5second/__023309_2015-03-30 10-32-56.bin_day2.csv\n",
      "File not found:  /media/sf_VBox_Shared/London/UCL_data_March/run_2017march21/accelerometer_5second/__023324_2015-03-04 12-07-53.bin_day1.csv\n",
      "File not found:  /media/sf_VBox_Shared/London/UCL_data_March/run_2017march21/accelerometer_5second/__023324_2015-03-04 12-07-53.bin_day2.csv\n",
      "File not found:  /media/sf_VBox_Shared/London/UCL_data_March/run_2017march21/accelerometer_5second/__023357_2015-03-24 11-08-26.bin_day1.csv\n",
      "File not found:  /media/sf_VBox_Shared/London/UCL_data_March/run_2017march21/accelerometer_5second/__023357_2015-03-24 11-08-26.bin_day2.csv\n",
      "File not found:  /media/sf_VBox_Shared/London/UCL_data_March/run_2017march21/accelerometer_5second/__023362_2015-03-30 12-56-09.bin_day1.csv\n",
      "File not found:  /media/sf_VBox_Shared/London/UCL_data_March/run_2017march21/accelerometer_5second/__023362_2015-03-30 12-56-09.bin_day2.csv\n",
      "File not found:  /media/sf_VBox_Shared/London/UCL_data_March/run_2017march21/accelerometer_5second/__023364_2015-03-12 12-02-23.bin_day1.csv\n",
      "File not found:  /media/sf_VBox_Shared/London/UCL_data_March/run_2017march21/accelerometer_5second/__023364_2015-03-12 12-02-23.bin_day2.csv\n",
      "File not found:  /media/sf_VBox_Shared/London/UCL_data_March/run_2017march21/accelerometer_5second/__023371_2015-03-11 09-38-27.bin_day1.csv\n",
      "File not found:  /media/sf_VBox_Shared/London/UCL_data_March/run_2017march21/accelerometer_5second/__023371_2015-03-11 09-38-27.bin_day2.csv\n",
      "File not found:  /media/sf_VBox_Shared/London/UCL_data_March/run_2017march21/accelerometer_5second/__023373_2015-04-15 15-21-05.bin_day1.csv\n",
      "File not found:  /media/sf_VBox_Shared/London/UCL_data_March/run_2017march21/accelerometer_5second/__023373_2015-04-15 15-21-05.bin_day2.csv\n",
      "File not found:  /media/sf_VBox_Shared/London/UCL_data_March/run_2017march21/accelerometer_5second/__023428_2015-03-31 09-57-44.bin_day1.csv\n",
      "File not found:  /media/sf_VBox_Shared/London/UCL_data_March/run_2017march21/accelerometer_5second/__023428_2015-03-31 09-57-44.bin_day2.csv\n",
      "File not found:  /media/sf_VBox_Shared/London/UCL_data_March/run_2017march21/accelerometer_5second/__023430_2015-03-12 14-32-51.bin_day1.csv\n",
      "File not found:  /media/sf_VBox_Shared/London/UCL_data_March/run_2017march21/accelerometer_5second/__023430_2015-03-12 14-32-51.bin_day2.csv\n",
      "File not found:  /media/sf_VBox_Shared/London/UCL_data_March/run_2017march21/accelerometer_5second/__023434_2015-04-07 11-09-20.bin_day1.csv\n",
      "File not found:  /media/sf_VBox_Shared/London/UCL_data_March/run_2017march21/accelerometer_5second/__023434_2015-04-07 11-09-20.bin_day2.csv\n",
      "File not found:  /media/sf_VBox_Shared/London/UCL_data_March/run_2017march21/accelerometer_5second/__023450_2015-03-04 12-07-38.bin_day1.csv\n",
      "File not found:  /media/sf_VBox_Shared/London/UCL_data_March/run_2017march21/accelerometer_5second/__023450_2015-03-04 12-07-38.bin_day2.csv\n",
      "File not found:  /media/sf_VBox_Shared/London/UCL_data_March/run_2017march21/accelerometer_5second/__023456_2015-03-06 09-27-16.bin_day1.csv\n",
      "File not found:  /media/sf_VBox_Shared/London/UCL_data_March/run_2017march21/accelerometer_5second/__023456_2015-03-06 09-27-16.bin_day2.csv\n",
      "File not found:  /media/sf_VBox_Shared/London/UCL_data_March/run_2017march21/accelerometer_5second/__023473_2015-03-17 11-21-22.bin_day1.csv\n",
      "File not found:  /media/sf_VBox_Shared/London/UCL_data_March/run_2017march21/accelerometer_5second/__023473_2015-03-17 11-21-22.bin_day2.csv\n",
      "File not found:  /media/sf_VBox_Shared/London/UCL_data_March/run_2017march21/accelerometer_5second/__023483_2015-03-30 14-15-19.bin_day1.csv\n",
      "File not found:  /media/sf_VBox_Shared/London/UCL_data_March/run_2017march21/accelerometer_5second/__023483_2015-03-30 14-15-19.bin_day2.csv\n",
      "File not found:  /media/sf_VBox_Shared/London/UCL_data_March/run_2017march21/accelerometer_5second/__023497_2015-04-16 11-22-03.bin_day1.csv\n",
      "File not found:  /media/sf_VBox_Shared/London/UCL_data_March/run_2017march21/accelerometer_5second/__023497_2015-04-16 11-22-03.bin_day2.csv\n",
      "File not found:  /media/sf_VBox_Shared/London/UCL_data_March/run_2017march21/accelerometer_5second/__023567_2015-04-15 11-02-06.bin_day1.csv\n",
      "File not found:  /media/sf_VBox_Shared/London/UCL_data_March/run_2017march21/accelerometer_5second/__023567_2015-04-15 11-02-06.bin_day2.csv\n",
      "File not found:  /media/sf_VBox_Shared/London/UCL_data_March/run_2017march21/accelerometer_5second/__023568_2015-04-14 11-46-23.bin_day1.csv\n",
      "File not found:  /media/sf_VBox_Shared/London/UCL_data_March/run_2017march21/accelerometer_5second/__023568_2015-04-14 11-46-23.bin_day2.csv\n",
      "File not found:  /media/sf_VBox_Shared/London/UCL_data_March/run_2017march21/accelerometer_5second/__023617_2015-04-08 12-11-43.bin_day1.csv\n",
      "File not found:  /media/sf_VBox_Shared/London/UCL_data_March/run_2017march21/accelerometer_5second/__023617_2015-04-08 12-11-43.bin_day2.csv\n",
      "File not found:  /media/sf_VBox_Shared/London/UCL_data_March/run_2017march21/accelerometer_5second/__023711_2015-03-13 15-40-17.bin_day1.csv\n",
      "File not found:  /media/sf_VBox_Shared/London/UCL_data_March/run_2017march21/accelerometer_5second/__023711_2015-03-13 15-40-17.bin_day2.csv\n",
      "File not found:  /media/sf_VBox_Shared/London/UCL_data_March/run_2017march21/accelerometer_5second/__023745_2015-04-15 16-18-09.bin_day1.csv\n",
      "File not found:  /media/sf_VBox_Shared/London/UCL_data_March/run_2017march21/accelerometer_5second/__023745_2015-04-15 16-18-09.bin_day2.csv\n",
      "File not found:  /media/sf_VBox_Shared/London/UCL_data_March/run_2017march21/accelerometer_5second/__023755_2015-04-07 11-00-22.bin_day1.csv\n",
      "File not found:  /media/sf_VBox_Shared/London/UCL_data_March/run_2017march21/accelerometer_5second/__023755_2015-04-07 11-00-22.bin_day2.csv\n",
      "267 out of 360 files were read.\n",
      "275 subsets are stored in /media/sf_VBox_Shared/London/UCL_data_March/run_2017march21/subsets/\n"
     ]
    }
   ],
   "source": [
    "prepacc.process_data_onebyone(wearcodes, accelerometer_5sec_path, subset_path)"
   ]
  },
  {
   "cell_type": "markdown",
   "metadata": {},
   "source": [
    "## Read the tud file"
   ]
  },
  {
   "cell_type": "code",
   "execution_count": 5,
   "metadata": {
    "collapsed": false
   },
   "outputs": [
    {
     "name": "stdout",
     "output_type": "stream",
     "text": [
      "Process annotations...\n",
      "Multiple end times per slot. first 10:\n",
      "slot\n",
      "126    [01:00:00, 02:00:00]\n",
      "127    [01:10:00, 02:10:00]\n",
      "128    [01:20:00, 02:20:00]\n",
      "129    [01:30:00, 02:30:00]\n",
      "130    [01:40:00, 02:40:00]\n",
      "131    [01:50:00, 02:50:00]\n",
      "132    [02:00:00, 03:00:00]\n",
      "133    [02:10:00, 03:10:00]\n",
      "134    [02:20:00, 03:20:00]\n",
      "135    [02:30:00, 03:30:00]\n",
      "136    [02:40:00, 03:40:00]\n",
      "137    [02:50:00, 03:50:00]\n",
      "138    [03:00:00, 04:00:00]\n",
      "139    [03:10:00, 04:10:00]\n",
      "140    [03:20:00, 04:20:00]\n",
      "141    [03:30:00, 04:30:00]\n",
      "142    [03:40:00, 04:40:00]\n",
      "143    [03:50:00, 04:50:00]\n",
      "144    [04:00:00, 05:00:00]\n",
      "Name: end_time_time, dtype: object\n",
      "Not all days have 144 slots! first 5:\n",
      "accSmallID  day\n",
      "7a1fd48f    1      137\n",
      "7a2bbb74    1      118\n",
      "            2       90\n",
      "7a2e1cd4    1      138\n",
      "7a44256e    2       72\n",
      "Name: slot, dtype: int64\n"
     ]
    }
   ],
   "source": [
    "print('Process annotations...')\n",
    "annotations = tud.process_annotations(annotations_path)"
   ]
  },
  {
   "cell_type": "code",
   "execution_count": 6,
   "metadata": {
    "collapsed": false
   },
   "outputs": [
    {
     "name": "stdout",
     "output_type": "stream",
     "text": [
      "Join wearcodes...\n"
     ]
    }
   ],
   "source": [
    "print('Join wearcodes...')\n",
    "annotations_codes = tud.join_wearcodes(wearcodes, annotations)"
   ]
  },
  {
   "cell_type": "markdown",
   "metadata": {},
   "source": [
    "## Merge accelerometer data with diary"
   ]
  },
  {
   "cell_type": "code",
   "execution_count": 15,
   "metadata": {
    "collapsed": true
   },
   "outputs": [],
   "source": [
    "byName = annotations_codes.groupby(['binFile', 'day'])"
   ]
  },
  {
   "cell_type": "code",
   "execution_count": 16,
   "metadata": {
    "collapsed": false
   },
   "outputs": [
    {
     "name": "stdout",
     "output_type": "stream",
     "text": [
      "Warning: no annotations for __022486_2015-03-24 09-55-30.bin day 1\n",
      "Warning: no annotations for __022550_2015-03-13 10-07-44.bin day 1\n",
      "Warning: no annotations for __022550_2015-03-13 10-07-44.bin day 2\n",
      "Warning: no annotations for __022720_2015-03-30 11-30-39.bin day 2\n",
      "Warning: no annotations for __022799_2015-04-07 13-43-53.bin day 1\n",
      "Warning: no annotations for __022799_2015-04-07 13-43-53.bin day 2\n",
      "Warning: no annotations for __023041_2015-04-15 14-26-52.bin day 2\n",
      "Warning: no annotations for __023133_2015-03-04 12-07-29.bin day 2\n",
      "Warning: no annotations for __020780_2015-03-30 14-15-03.bin day 1\n",
      "Warning: no annotations for __020780_2015-03-30 14-15-03.bin day 1\n",
      "Warning: no annotations for __021562_2015-03-11 09-38-46.bin day 2\n",
      "Warning: no annotations for __021635_2015-03-24 09-55-26.bin day 2\n",
      "Warning: no annotations for __022048_2015-03-30 12-14-53.bin day 1\n",
      "Warning: no annotations for __022048_2015-03-30 12-14-53.bin day 2\n",
      "Warning: no annotations for __022139_2015-03-12 12-02-43.bin day 1\n",
      "Warning: no annotations for __022139_2015-03-12 12-02-43.bin day 2\n",
      "Warning: no annotations for __022266_2015-03-06 08-47-00.bin day 2\n",
      "Warning: no annotations for __022376_2015-03-12 14-32-47.bin day 2\n",
      "Warning: no annotations for __022398_2015-03-11 09-38-51.bin day 2\n",
      "Warning: no annotations for __022445_2015-03-10 12-25-37.bin day 2\n",
      "Warning: no annotations for __016584_2015-03-24 09-54-52.bin day 1\n",
      "Warning: no annotations for __016584_2015-03-24 09-54-52.bin day 2\n",
      "Warning: no annotations for __020780_2015-03-30 14-15-03.bin day 1\n",
      "Warning: no annotations for __020789_2015-03-11 14-39-35.bin day 2\n",
      "Warning: no annotations for __020861_2015-03-16 15-17-38.bin day 1\n",
      "Warning: no annotations for __020861_2015-03-16 15-17-38.bin day 2\n",
      "Warning: no annotations for __020871_2015-03-30 12-14-22.bin day 1\n",
      "Warning: no annotations for __020871_2015-03-30 12-14-22.bin day 2\n",
      "Warning: no annotations for __020933_2015-03-18 12-53-47.bin day 1\n",
      "Warning: no annotations for __020933_2015-03-18 12-53-47.bin day 2\n",
      "Warning: no annotations for __021036_2015-04-08 09-02-14.bin day 2\n",
      "Warning: no annotations for __021160_2015-03-12 14-32-54.bin day 1\n",
      "Warning: no annotations for __021160_2015-03-12 14-32-54.bin day 2\n",
      "Warning: no annotations for __021199_2015-03-20 16-05-00.bin day 2\n",
      "Warning: no annotations for __021319_2015-04-08 14-41-33.bin day 2\n",
      "Warning: no annotations for __021457_2015-04-07 11-47-02.bin day 1\n",
      "Warning: no annotations for __021457_2015-04-07 11-47-02.bin day 2\n"
     ]
    }
   ],
   "source": [
    "#TODO: Slot is not correct here.\n",
    "\n",
    "if not os.path.exists(merged_path):\n",
    "    os.makedirs(merged_path)\n",
    "for fn in os.listdir(subset_path):\n",
    "    day = int(fn[-5])\n",
    "    binFile = fn[2:-9]\n",
    "    df = prepacc.load_acceleromater_data(os.path.join(subset_path, fn))\n",
    "    if (binFile, day) in byName.groups:\n",
    "        annotations_group = byName.get_group((binFile, day))\n",
    "    else:\n",
    "        # Make empty annotation file\n",
    "        print('Warning: no annotations for {} day {}'.format(binFile, day))\n",
    "        annotations_group = annotations_codes[0:0]\n",
    "    df_annotated = tud.add_annotations(df, annotations_group)\n",
    "    nr_none = len(df_annotated[df_annotated['activity'] == None])\n",
    "    if nr_none > 0:\n",
    "        print('Warning: {} levels have no annotation'.format(nr_none))\n",
    "    df_annotated.to_csv(os.path.join(merged_path, fn), date_format='%Y-%m-%dT%H:%M:%S%z')"
   ]
  },
  {
   "cell_type": "code",
   "execution_count": null,
   "metadata": {
    "collapsed": true
   },
   "outputs": [],
   "source": []
  }
 ],
 "metadata": {
  "anaconda-cloud": {},
  "kernelspec": {
   "display_name": "Python [conda env:ucl2]",
   "language": "python",
   "name": "conda-env-ucl2-py"
  },
  "language_info": {
   "codemirror_mode": {
    "name": "ipython",
    "version": 2
   },
   "file_extension": ".py",
   "mimetype": "text/x-python",
   "name": "python",
   "nbconvert_exporter": "python",
   "pygments_lexer": "ipython2",
   "version": "2.7.12"
  }
 },
 "nbformat": 4,
 "nbformat_minor": 0
}
