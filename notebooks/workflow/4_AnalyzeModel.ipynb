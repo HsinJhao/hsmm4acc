{
 "cells": [
  {
   "cell_type": "code",
   "execution_count": 1,
   "metadata": {
    "collapsed": false
   },
   "outputs": [],
   "source": [
    "%matplotlib inline\n",
    "%load_ext autoreload\n",
    "%autoreload 2\n",
    "import pandas as pd\n",
    "import os\n",
    "import numpy as np\n",
    "import matplotlib.pyplot as plt\n",
    "import sys"
   ]
  },
  {
   "cell_type": "code",
   "execution_count": 2,
   "metadata": {
    "collapsed": false
   },
   "outputs": [],
   "source": [
    "sys.path.insert(0, os.path.abspath('../..'))\n",
    "from UKMovementSensing import hsmm"
   ]
  },
  {
   "cell_type": "code",
   "execution_count": 3,
   "metadata": {
    "collapsed": true
   },
   "outputs": [],
   "source": [
    "execfile('config.py')"
   ]
  },
  {
   "cell_type": "markdown",
   "metadata": {},
   "source": [
    "## Load model"
   ]
  },
  {
   "cell_type": "code",
   "execution_count": 4,
   "metadata": {
    "collapsed": false
   },
   "outputs": [],
   "source": [
    "import pickle\n",
    "with open(model_file, 'r') as f:\n",
    "    model = pickle.load(file=f)"
   ]
  },
  {
   "cell_type": "code",
   "execution_count": 5,
   "metadata": {
    "collapsed": false
   },
   "outputs": [
    {
     "name": "stdout",
     "output_type": "stream",
     "text": [
      "{'mu': array([ 0.00153083]), 'sigma': array([[ 0.0001755]])}\n",
      "{'mu': array([ 0.03521839]), 'sigma': array([[ 0.00202581]])}\n",
      "{'mu': array([ 0.05861196]), 'sigma': array([[ 0.00486286]])}\n",
      "{'mu': array([ 0.00899643]), 'sigma': array([[ 0.000721]])}\n"
     ]
    }
   ],
   "source": [
    "for o in model.obs_distns:\n",
    "    print(o.params)"
   ]
  },
  {
   "cell_type": "code",
   "execution_count": 6,
   "metadata": {
    "collapsed": false
   },
   "outputs": [
    {
     "data": {
      "text/html": [
       "\n",
       "        <style  type=\"text/css\" >\n",
       "        \n",
       "        \n",
       "            #T_a1e58ef6_13ce_11e7_a9c1_080027811109row0_col0 {\n",
       "            \n",
       "                background-color:  #3b4cc0;\n",
       "            \n",
       "            }\n",
       "        \n",
       "            #T_a1e58ef6_13ce_11e7_a9c1_080027811109row0_col1 {\n",
       "            \n",
       "                background-color:  #f1cdba;\n",
       "            \n",
       "            }\n",
       "        \n",
       "            #T_a1e58ef6_13ce_11e7_a9c1_080027811109row0_col2 {\n",
       "            \n",
       "                background-color:  #b40426;\n",
       "            \n",
       "            }\n",
       "        \n",
       "            #T_a1e58ef6_13ce_11e7_a9c1_080027811109row0_col3 {\n",
       "            \n",
       "                background-color:  #6384eb;\n",
       "            \n",
       "            }\n",
       "        \n",
       "        </style>\n",
       "\n",
       "        <table id=\"T_a1e58ef6_13ce_11e7_a9c1_080027811109\" None>\n",
       "        \n",
       "\n",
       "        <thead>\n",
       "            \n",
       "            <tr>\n",
       "                \n",
       "                <th class=\"blank\">\n",
       "                \n",
       "                <th class=\"col_heading level0 col0\">0\n",
       "                \n",
       "                <th class=\"col_heading level0 col1\">1\n",
       "                \n",
       "                <th class=\"col_heading level0 col2\">2\n",
       "                \n",
       "                <th class=\"col_heading level0 col3\">3\n",
       "                \n",
       "            </tr>\n",
       "            \n",
       "        </thead>\n",
       "        <tbody>\n",
       "            \n",
       "            <tr>\n",
       "                \n",
       "                <th id=\"T_a1e58ef6_13ce_11e7_a9c1_080027811109\" class=\"row_heading level3 row0\">\n",
       "                    acceleration\n",
       "                \n",
       "                <td id=\"T_a1e58ef6_13ce_11e7_a9c1_080027811109row0_col0\" class=\"data row0 col0\">\n",
       "                    0.00153083\n",
       "                \n",
       "                <td id=\"T_a1e58ef6_13ce_11e7_a9c1_080027811109row0_col1\" class=\"data row0 col1\">\n",
       "                    0.0352184\n",
       "                \n",
       "                <td id=\"T_a1e58ef6_13ce_11e7_a9c1_080027811109row0_col2\" class=\"data row0 col2\">\n",
       "                    0.058612\n",
       "                \n",
       "                <td id=\"T_a1e58ef6_13ce_11e7_a9c1_080027811109row0_col3\" class=\"data row0 col3\">\n",
       "                    0.00899643\n",
       "                \n",
       "            </tr>\n",
       "            \n",
       "        </tbody>\n",
       "        </table>\n",
       "        "
      ],
      "text/plain": [
       "<pandas.core.style.Styler at 0x7fd158adab50>"
      ]
     },
     "execution_count": 6,
     "metadata": {},
     "output_type": "execute_result"
    }
   ],
   "source": [
    "means = pd.DataFrame([o.params['mu'] for o in model.obs_distns], columns=column_names)\n",
    "means.transpose().style.background_gradient(cmap='coolwarm',axis=1)"
   ]
  },
  {
   "cell_type": "code",
   "execution_count": 7,
   "metadata": {
    "collapsed": false
   },
   "outputs": [
    {
     "data": {
      "text/html": [
       "\n",
       "        <style  type=\"text/css\" >\n",
       "        \n",
       "        \n",
       "            #T_a2624d9c_13ce_11e7_a9c1_080027811109row0_col0 {\n",
       "            \n",
       "                background-color:  #3b4cc0;\n",
       "            \n",
       "            }\n",
       "        \n",
       "            #T_a2624d9c_13ce_11e7_a9c1_080027811109row0_col1 {\n",
       "            \n",
       "                background-color:  #bfd3f6;\n",
       "            \n",
       "            }\n",
       "        \n",
       "            #T_a2624d9c_13ce_11e7_a9c1_080027811109row0_col2 {\n",
       "            \n",
       "                background-color:  #b40426;\n",
       "            \n",
       "            }\n",
       "        \n",
       "            #T_a2624d9c_13ce_11e7_a9c1_080027811109row0_col3 {\n",
       "            \n",
       "                background-color:  #5e7de7;\n",
       "            \n",
       "            }\n",
       "        \n",
       "        </style>\n",
       "\n",
       "        <table id=\"T_a2624d9c_13ce_11e7_a9c1_080027811109\" None>\n",
       "        \n",
       "\n",
       "        <thead>\n",
       "            \n",
       "            <tr>\n",
       "                \n",
       "                <th class=\"blank\">\n",
       "                \n",
       "                <th class=\"col_heading level0 col0\">0\n",
       "                \n",
       "                <th class=\"col_heading level0 col1\">1\n",
       "                \n",
       "                <th class=\"col_heading level0 col2\">2\n",
       "                \n",
       "                <th class=\"col_heading level0 col3\">3\n",
       "                \n",
       "            </tr>\n",
       "            \n",
       "        </thead>\n",
       "        <tbody>\n",
       "            \n",
       "            <tr>\n",
       "                \n",
       "                <th id=\"T_a2624d9c_13ce_11e7_a9c1_080027811109\" class=\"row_heading level3 row0\">\n",
       "                    acceleration\n",
       "                \n",
       "                <td id=\"T_a2624d9c_13ce_11e7_a9c1_080027811109row0_col0\" class=\"data row0 col0\">\n",
       "                    0.000175503\n",
       "                \n",
       "                <td id=\"T_a2624d9c_13ce_11e7_a9c1_080027811109row0_col1\" class=\"data row0 col1\">\n",
       "                    0.00202581\n",
       "                \n",
       "                <td id=\"T_a2624d9c_13ce_11e7_a9c1_080027811109row0_col2\" class=\"data row0 col2\">\n",
       "                    0.00486286\n",
       "                \n",
       "                <td id=\"T_a2624d9c_13ce_11e7_a9c1_080027811109row0_col3\" class=\"data row0 col3\">\n",
       "                    0.000720999\n",
       "                \n",
       "            </tr>\n",
       "            \n",
       "        </tbody>\n",
       "        </table>\n",
       "        "
      ],
      "text/plain": [
       "<pandas.core.style.Styler at 0x7fd1587b0290>"
      ]
     },
     "execution_count": 7,
     "metadata": {},
     "output_type": "execute_result"
    }
   ],
   "source": [
    "sigmas = pd.DataFrame([o.params['sigma'][0] for o in model.obs_distns], columns=column_names)\n",
    "sigmas.transpose().style.background_gradient(cmap='coolwarm',axis=1)"
   ]
  },
  {
   "cell_type": "code",
   "execution_count": 8,
   "metadata": {
    "collapsed": false
   },
   "outputs": [
    {
     "data": {
      "text/html": [
       "<div>\n",
       "<table border=\"1\" class=\"dataframe\">\n",
       "  <thead>\n",
       "    <tr style=\"text-align: right;\">\n",
       "      <th></th>\n",
       "      <th>0</th>\n",
       "      <th>1</th>\n",
       "      <th>2</th>\n",
       "      <th>3</th>\n",
       "    </tr>\n",
       "  </thead>\n",
       "  <tbody>\n",
       "    <tr>\n",
       "      <th>duration</th>\n",
       "      <td>460.345</td>\n",
       "      <td>267.444</td>\n",
       "      <td>273.338</td>\n",
       "      <td>201.086</td>\n",
       "    </tr>\n",
       "    <tr>\n",
       "      <th>duration_sec</th>\n",
       "      <td>2302 sec</td>\n",
       "      <td>1337 sec</td>\n",
       "      <td>1367 sec</td>\n",
       "      <td>1005 sec</td>\n",
       "    </tr>\n",
       "  </tbody>\n",
       "</table>\n",
       "</div>"
      ],
      "text/plain": [
       "                     0         1         2         3\n",
       "duration       460.345   267.444   273.338   201.086\n",
       "duration_sec  2302 sec  1337 sec  1367 sec  1005 sec"
      ]
     },
     "execution_count": 8,
     "metadata": {},
     "output_type": "execute_result"
    }
   ],
   "source": [
    "durations = pd.DataFrame([o.params['lmbda'] for o in model.dur_distns], columns=['duration'])\n",
    "durations['duration_sec'] = [\"{} sec\".format(int(round(x*5))) for x in durations['duration']]\n",
    "durations.transpose()"
   ]
  },
  {
   "cell_type": "code",
   "execution_count": 9,
   "metadata": {
    "collapsed": false
   },
   "outputs": [
    {
     "data": {
      "text/html": [
       "\n",
       "        <style  type=\"text/css\" >\n",
       "        \n",
       "        \n",
       "            #T_a75d7a7e_13ce_11e7_a9c1_080027811109row0_col0 {\n",
       "            \n",
       "                background-color:  #f7fcfd;\n",
       "            \n",
       "            }\n",
       "        \n",
       "            #T_a75d7a7e_13ce_11e7_a9c1_080027811109row0_col1 {\n",
       "            \n",
       "                background-color:  #4eb586;\n",
       "            \n",
       "            }\n",
       "        \n",
       "            #T_a75d7a7e_13ce_11e7_a9c1_080027811109row0_col2 {\n",
       "            \n",
       "                background-color:  #f2fafc;\n",
       "            \n",
       "            }\n",
       "        \n",
       "            #T_a75d7a7e_13ce_11e7_a9c1_080027811109row0_col3 {\n",
       "            \n",
       "                background-color:  #00441b;\n",
       "            \n",
       "            }\n",
       "        \n",
       "            #T_a75d7a7e_13ce_11e7_a9c1_080027811109row1_col0 {\n",
       "            \n",
       "                background-color:  #97d7c7;\n",
       "            \n",
       "            }\n",
       "        \n",
       "            #T_a75d7a7e_13ce_11e7_a9c1_080027811109row1_col1 {\n",
       "            \n",
       "                background-color:  #f7fcfd;\n",
       "            \n",
       "            }\n",
       "        \n",
       "            #T_a75d7a7e_13ce_11e7_a9c1_080027811109row1_col2 {\n",
       "            \n",
       "                background-color:  #00441b;\n",
       "            \n",
       "            }\n",
       "        \n",
       "            #T_a75d7a7e_13ce_11e7_a9c1_080027811109row1_col3 {\n",
       "            \n",
       "                background-color:  #c2e8e0;\n",
       "            \n",
       "            }\n",
       "        \n",
       "            #T_a75d7a7e_13ce_11e7_a9c1_080027811109row2_col0 {\n",
       "            \n",
       "                background-color:  #62c09f;\n",
       "            \n",
       "            }\n",
       "        \n",
       "            #T_a75d7a7e_13ce_11e7_a9c1_080027811109row2_col1 {\n",
       "            \n",
       "                background-color:  #268f4a;\n",
       "            \n",
       "            }\n",
       "        \n",
       "            #T_a75d7a7e_13ce_11e7_a9c1_080027811109row2_col2 {\n",
       "            \n",
       "                background-color:  #f7fcfd;\n",
       "            \n",
       "            }\n",
       "        \n",
       "            #T_a75d7a7e_13ce_11e7_a9c1_080027811109row2_col3 {\n",
       "            \n",
       "                background-color:  #47b17e;\n",
       "            \n",
       "            }\n",
       "        \n",
       "            #T_a75d7a7e_13ce_11e7_a9c1_080027811109row3_col0 {\n",
       "            \n",
       "                background-color:  #00441b;\n",
       "            \n",
       "            }\n",
       "        \n",
       "            #T_a75d7a7e_13ce_11e7_a9c1_080027811109row3_col1 {\n",
       "            \n",
       "                background-color:  #00441b;\n",
       "            \n",
       "            }\n",
       "        \n",
       "            #T_a75d7a7e_13ce_11e7_a9c1_080027811109row3_col2 {\n",
       "            \n",
       "                background-color:  #9ddacb;\n",
       "            \n",
       "            }\n",
       "        \n",
       "            #T_a75d7a7e_13ce_11e7_a9c1_080027811109row3_col3 {\n",
       "            \n",
       "                background-color:  #f7fcfd;\n",
       "            \n",
       "            }\n",
       "        \n",
       "        </style>\n",
       "\n",
       "        <table id=\"T_a75d7a7e_13ce_11e7_a9c1_080027811109\" None>\n",
       "        \n",
       "\n",
       "        <thead>\n",
       "            \n",
       "            <tr>\n",
       "                \n",
       "                <th class=\"blank\">\n",
       "                \n",
       "                <th class=\"col_heading level0 col0\">0\n",
       "                \n",
       "                <th class=\"col_heading level0 col1\">1\n",
       "                \n",
       "                <th class=\"col_heading level0 col2\">2\n",
       "                \n",
       "                <th class=\"col_heading level0 col3\">3\n",
       "                \n",
       "            </tr>\n",
       "            \n",
       "        </thead>\n",
       "        <tbody>\n",
       "            \n",
       "            <tr>\n",
       "                \n",
       "                <th id=\"T_a75d7a7e_13ce_11e7_a9c1_080027811109\" class=\"row_heading level3 row0\">\n",
       "                    0\n",
       "                \n",
       "                <td id=\"T_a75d7a7e_13ce_11e7_a9c1_080027811109row0_col0\" class=\"data row0 col0\">\n",
       "                    0\n",
       "                \n",
       "                <td id=\"T_a75d7a7e_13ce_11e7_a9c1_080027811109row0_col1\" class=\"data row0 col1\">\n",
       "                    0.0728185\n",
       "                \n",
       "                <td id=\"T_a75d7a7e_13ce_11e7_a9c1_080027811109row0_col2\" class=\"data row0 col2\">\n",
       "                    0.0152009\n",
       "                \n",
       "                <td id=\"T_a75d7a7e_13ce_11e7_a9c1_080027811109row0_col3\" class=\"data row0 col3\">\n",
       "                    0.911981\n",
       "                \n",
       "            </tr>\n",
       "            \n",
       "            <tr>\n",
       "                \n",
       "                <th id=\"T_a75d7a7e_13ce_11e7_a9c1_080027811109\" class=\"row_heading level3 row1\">\n",
       "                    1\n",
       "                \n",
       "                <td id=\"T_a75d7a7e_13ce_11e7_a9c1_080027811109row1_col0\" class=\"data row1 col0\">\n",
       "                    0.266171\n",
       "                \n",
       "                <td id=\"T_a75d7a7e_13ce_11e7_a9c1_080027811109row1_col1\" class=\"data row1 col1\">\n",
       "                    0\n",
       "                \n",
       "                <td id=\"T_a75d7a7e_13ce_11e7_a9c1_080027811109row1_col2\" class=\"data row1 col2\">\n",
       "                    0.481587\n",
       "                \n",
       "                <td id=\"T_a75d7a7e_13ce_11e7_a9c1_080027811109row1_col3\" class=\"data row1 col3\">\n",
       "                    0.252241\n",
       "                \n",
       "            </tr>\n",
       "            \n",
       "            <tr>\n",
       "                \n",
       "                <th id=\"T_a75d7a7e_13ce_11e7_a9c1_080027811109\" class=\"row_heading level3 row2\">\n",
       "                    2\n",
       "                \n",
       "                <td id=\"T_a75d7a7e_13ce_11e7_a9c1_080027811109row2_col0\" class=\"data row2 col0\">\n",
       "                    0.357551\n",
       "                \n",
       "                <td id=\"T_a75d7a7e_13ce_11e7_a9c1_080027811109row2_col1\" class=\"data row2 col1\">\n",
       "                    0.0923256\n",
       "                \n",
       "                <td id=\"T_a75d7a7e_13ce_11e7_a9c1_080027811109row2_col2\" class=\"data row2 col2\">\n",
       "                    0\n",
       "                \n",
       "                <td id=\"T_a75d7a7e_13ce_11e7_a9c1_080027811109row2_col3\" class=\"data row2 col3\">\n",
       "                    0.550123\n",
       "                \n",
       "            </tr>\n",
       "            \n",
       "            <tr>\n",
       "                \n",
       "                <th id=\"T_a75d7a7e_13ce_11e7_a9c1_080027811109\" class=\"row_heading level3 row3\">\n",
       "                    3\n",
       "                \n",
       "                <td id=\"T_a75d7a7e_13ce_11e7_a9c1_080027811109row3_col0\" class=\"data row3 col0\">\n",
       "                    0.698427\n",
       "                \n",
       "                <td id=\"T_a75d7a7e_13ce_11e7_a9c1_080027811109row3_col1\" class=\"data row3 col1\">\n",
       "                    0.125299\n",
       "                \n",
       "                <td id=\"T_a75d7a7e_13ce_11e7_a9c1_080027811109row3_col2\" class=\"data row3 col2\">\n",
       "                    0.176274\n",
       "                \n",
       "                <td id=\"T_a75d7a7e_13ce_11e7_a9c1_080027811109row3_col3\" class=\"data row3 col3\">\n",
       "                    0\n",
       "                \n",
       "            </tr>\n",
       "            \n",
       "        </tbody>\n",
       "        </table>\n",
       "        "
      ],
      "text/plain": [
       "<pandas.core.style.Styler at 0x7fd158ac88d0>"
      ]
     },
     "execution_count": 9,
     "metadata": {},
     "output_type": "execute_result"
    }
   ],
   "source": [
    "# Transition probablilites\n",
    "pd.DataFrame(model.trans_distn.trans_matrix).style.background_gradient(cmap='BuGn')"
   ]
  },
  {
   "cell_type": "code",
   "execution_count": null,
   "metadata": {
    "collapsed": true
   },
   "outputs": [],
   "source": []
  }
 ],
 "metadata": {
  "anaconda-cloud": {},
  "kernelspec": {
   "display_name": "Python [default]",
   "language": "python",
   "name": "python2"
  },
  "language_info": {
   "codemirror_mode": {
    "name": "ipython",
    "version": 2
   },
   "file_extension": ".py",
   "mimetype": "text/x-python",
   "name": "python",
   "nbconvert_exporter": "python",
   "pygments_lexer": "ipython2",
   "version": "2.7.11"
  }
 },
 "nbformat": 4,
 "nbformat_minor": 0
}
