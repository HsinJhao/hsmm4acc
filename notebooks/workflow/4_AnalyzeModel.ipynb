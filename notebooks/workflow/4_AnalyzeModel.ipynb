{
 "cells": [
  {
   "cell_type": "code",
   "execution_count": 40,
   "metadata": {
    "collapsed": false
   },
   "outputs": [
    {
     "name": "stdout",
     "output_type": "stream",
     "text": [
      "The autoreload extension is already loaded. To reload it, use:\n",
      "  %reload_ext autoreload\n"
     ]
    }
   ],
   "source": [
    "%matplotlib inline\n",
    "%load_ext autoreload\n",
    "%autoreload 2\n",
    "import pandas as pd\n",
    "import os\n",
    "import numpy as np\n",
    "import matplotlib.pyplot as plt\n",
    "import sys"
   ]
  },
  {
   "cell_type": "code",
   "execution_count": 41,
   "metadata": {
    "collapsed": false
   },
   "outputs": [],
   "source": [
    "sys.path.insert(0, os.path.abspath('../..'))\n",
    "from UKMovementSensing import hsmm"
   ]
  },
  {
   "cell_type": "code",
   "execution_count": 42,
   "metadata": {
    "collapsed": true
   },
   "outputs": [],
   "source": [
    "execfile('config.py')"
   ]
  },
  {
   "cell_type": "markdown",
   "metadata": {},
   "source": [
    "## Load model"
   ]
  },
  {
   "cell_type": "code",
   "execution_count": 43,
   "metadata": {
    "collapsed": false
   },
   "outputs": [],
   "source": [
    "import pickle\n",
    "with open(os.path.join(model_path, model_name+'.pkl'), 'r') as f:\n",
    "    model = pickle.load(file=f)"
   ]
  },
  {
   "cell_type": "code",
   "execution_count": 44,
   "metadata": {
    "collapsed": false
   },
   "outputs": [
    {
     "name": "stdout",
     "output_type": "stream",
     "text": [
      "{'mu': array([ 0.00017573]), 'sigma': array([[  8.69992186e-07]])}\n",
      "{'mu': array([ 0.07207947]), 'sigma': array([[ 0.00440061]])}\n",
      "{'mu': array([ 0.01256327]), 'sigma': array([[ 0.0002217]])}\n",
      "{'mu': array([ 0.29956477]), 'sigma': array([[ 0.16315867]])}\n"
     ]
    }
   ],
   "source": [
    "for o in model.obs_distns:\n",
    "    print(o.params)"
   ]
  },
  {
   "cell_type": "code",
   "execution_count": 45,
   "metadata": {
    "collapsed": false
   },
   "outputs": [
    {
     "data": {
      "text/html": [
       "\n",
       "        <style  type=\"text/css\" >\n",
       "        \n",
       "        \n",
       "            #T_78edfb0e_099d_11e7_a497_080027811109row0_col0 {\n",
       "            \n",
       "                background-color:  #3b4cc0;\n",
       "            \n",
       "            }\n",
       "        \n",
       "            #T_78edfb0e_099d_11e7_a497_080027811109row0_col1 {\n",
       "            \n",
       "                background-color:  #89acfd;\n",
       "            \n",
       "            }\n",
       "        \n",
       "            #T_78edfb0e_099d_11e7_a497_080027811109row0_col2 {\n",
       "            \n",
       "                background-color:  #465ecf;\n",
       "            \n",
       "            }\n",
       "        \n",
       "            #T_78edfb0e_099d_11e7_a497_080027811109row0_col3 {\n",
       "            \n",
       "                background-color:  #b40426;\n",
       "            \n",
       "            }\n",
       "        \n",
       "        </style>\n",
       "\n",
       "        <table id=\"T_78edfb0e_099d_11e7_a497_080027811109\" None>\n",
       "        \n",
       "\n",
       "        <thead>\n",
       "            \n",
       "            <tr>\n",
       "                \n",
       "                <th class=\"blank\">\n",
       "                \n",
       "                <th class=\"col_heading level0 col0\">0\n",
       "                \n",
       "                <th class=\"col_heading level0 col1\">1\n",
       "                \n",
       "                <th class=\"col_heading level0 col2\">2\n",
       "                \n",
       "                <th class=\"col_heading level0 col3\">3\n",
       "                \n",
       "            </tr>\n",
       "            \n",
       "        </thead>\n",
       "        <tbody>\n",
       "            \n",
       "            <tr>\n",
       "                \n",
       "                <th id=\"T_78edfb0e_099d_11e7_a497_080027811109\" class=\"row_heading level3 row0\">\n",
       "                    acceleration\n",
       "                \n",
       "                <td id=\"T_78edfb0e_099d_11e7_a497_080027811109row0_col0\" class=\"data row0 col0\">\n",
       "                    0.000175726\n",
       "                \n",
       "                <td id=\"T_78edfb0e_099d_11e7_a497_080027811109row0_col1\" class=\"data row0 col1\">\n",
       "                    0.0720795\n",
       "                \n",
       "                <td id=\"T_78edfb0e_099d_11e7_a497_080027811109row0_col2\" class=\"data row0 col2\">\n",
       "                    0.0125633\n",
       "                \n",
       "                <td id=\"T_78edfb0e_099d_11e7_a497_080027811109row0_col3\" class=\"data row0 col3\">\n",
       "                    0.299565\n",
       "                \n",
       "            </tr>\n",
       "            \n",
       "        </tbody>\n",
       "        </table>\n",
       "        "
      ],
      "text/plain": [
       "<pandas.core.style.Styler at 0x7fcecf2f3a90>"
      ]
     },
     "execution_count": 45,
     "metadata": {},
     "output_type": "execute_result"
    }
   ],
   "source": [
    "means = pd.DataFrame([o.params['mu'] for o in model.obs_distns], columns=column_names)\n",
    "means.transpose().style.background_gradient(cmap='coolwarm',axis=1)"
   ]
  },
  {
   "cell_type": "code",
   "execution_count": 46,
   "metadata": {
    "collapsed": false
   },
   "outputs": [
    {
     "data": {
      "text/html": [
       "\n",
       "        <style  type=\"text/css\" >\n",
       "        \n",
       "        \n",
       "            #T_78fcb716_099d_11e7_a497_080027811109row0_col0 {\n",
       "            \n",
       "                background-color:  #3b4cc0;\n",
       "            \n",
       "            }\n",
       "        \n",
       "            #T_78fcb716_099d_11e7_a497_080027811109row0_col1 {\n",
       "            \n",
       "                background-color:  #4257c9;\n",
       "            \n",
       "            }\n",
       "        \n",
       "            #T_78fcb716_099d_11e7_a497_080027811109row0_col2 {\n",
       "            \n",
       "                background-color:  #3b4cc0;\n",
       "            \n",
       "            }\n",
       "        \n",
       "            #T_78fcb716_099d_11e7_a497_080027811109row0_col3 {\n",
       "            \n",
       "                background-color:  #b40426;\n",
       "            \n",
       "            }\n",
       "        \n",
       "        </style>\n",
       "\n",
       "        <table id=\"T_78fcb716_099d_11e7_a497_080027811109\" None>\n",
       "        \n",
       "\n",
       "        <thead>\n",
       "            \n",
       "            <tr>\n",
       "                \n",
       "                <th class=\"blank\">\n",
       "                \n",
       "                <th class=\"col_heading level0 col0\">0\n",
       "                \n",
       "                <th class=\"col_heading level0 col1\">1\n",
       "                \n",
       "                <th class=\"col_heading level0 col2\">2\n",
       "                \n",
       "                <th class=\"col_heading level0 col3\">3\n",
       "                \n",
       "            </tr>\n",
       "            \n",
       "        </thead>\n",
       "        <tbody>\n",
       "            \n",
       "            <tr>\n",
       "                \n",
       "                <th id=\"T_78fcb716_099d_11e7_a497_080027811109\" class=\"row_heading level3 row0\">\n",
       "                    acceleration\n",
       "                \n",
       "                <td id=\"T_78fcb716_099d_11e7_a497_080027811109row0_col0\" class=\"data row0 col0\">\n",
       "                    8.69992e-07\n",
       "                \n",
       "                <td id=\"T_78fcb716_099d_11e7_a497_080027811109row0_col1\" class=\"data row0 col1\">\n",
       "                    0.00440061\n",
       "                \n",
       "                <td id=\"T_78fcb716_099d_11e7_a497_080027811109row0_col2\" class=\"data row0 col2\">\n",
       "                    0.000221695\n",
       "                \n",
       "                <td id=\"T_78fcb716_099d_11e7_a497_080027811109row0_col3\" class=\"data row0 col3\">\n",
       "                    0.163159\n",
       "                \n",
       "            </tr>\n",
       "            \n",
       "        </tbody>\n",
       "        </table>\n",
       "        "
      ],
      "text/plain": [
       "<pandas.core.style.Styler at 0x7fcecf322310>"
      ]
     },
     "execution_count": 46,
     "metadata": {},
     "output_type": "execute_result"
    }
   ],
   "source": [
    "sigmas = pd.DataFrame([o.params['sigma'][0] for o in model.obs_distns], columns=column_names)\n",
    "sigmas.transpose().style.background_gradient(cmap='coolwarm',axis=1)"
   ]
  },
  {
   "cell_type": "code",
   "execution_count": 47,
   "metadata": {
    "collapsed": false
   },
   "outputs": [
    {
     "data": {
      "text/html": [
       "<div>\n",
       "<table border=\"1\" class=\"dataframe\">\n",
       "  <thead>\n",
       "    <tr style=\"text-align: right;\">\n",
       "      <th></th>\n",
       "      <th>0</th>\n",
       "      <th>1</th>\n",
       "      <th>2</th>\n",
       "      <th>3</th>\n",
       "    </tr>\n",
       "  </thead>\n",
       "  <tbody>\n",
       "    <tr>\n",
       "      <th>duration</th>\n",
       "      <td>137.892</td>\n",
       "      <td>58.4529</td>\n",
       "      <td>86.2874</td>\n",
       "      <td>4.96763</td>\n",
       "    </tr>\n",
       "    <tr>\n",
       "      <th>duration_sec</th>\n",
       "      <td>689 sec</td>\n",
       "      <td>292 sec</td>\n",
       "      <td>431 sec</td>\n",
       "      <td>25 sec</td>\n",
       "    </tr>\n",
       "  </tbody>\n",
       "</table>\n",
       "</div>"
      ],
      "text/plain": [
       "                    0        1        2        3\n",
       "duration      137.892  58.4529  86.2874  4.96763\n",
       "duration_sec  689 sec  292 sec  431 sec   25 sec"
      ]
     },
     "execution_count": 47,
     "metadata": {},
     "output_type": "execute_result"
    }
   ],
   "source": [
    "durations = pd.DataFrame([o.params['lmbda'] for o in model.dur_distns], columns=['duration'])\n",
    "durations['duration_sec'] = [\"{} sec\".format(int(round(x*5))) for x in durations['duration']]\n",
    "durations.transpose()"
   ]
  },
  {
   "cell_type": "code",
   "execution_count": 48,
   "metadata": {
    "collapsed": false
   },
   "outputs": [
    {
     "data": {
      "text/html": [
       "\n",
       "        <style  type=\"text/css\" >\n",
       "        \n",
       "        \n",
       "            #T_79172db2_099d_11e7_a497_080027811109row0_col0 {\n",
       "            \n",
       "                background-color:  #f7fcfd;\n",
       "            \n",
       "            }\n",
       "        \n",
       "            #T_79172db2_099d_11e7_a497_080027811109row0_col1 {\n",
       "            \n",
       "                background-color:  #e3f4f8;\n",
       "            \n",
       "            }\n",
       "        \n",
       "            #T_79172db2_099d_11e7_a497_080027811109row0_col2 {\n",
       "            \n",
       "                background-color:  #2f9858;\n",
       "            \n",
       "            }\n",
       "        \n",
       "            #T_79172db2_099d_11e7_a497_080027811109row0_col3 {\n",
       "            \n",
       "                background-color:  #00441b;\n",
       "            \n",
       "            }\n",
       "        \n",
       "            #T_79172db2_099d_11e7_a497_080027811109row1_col0 {\n",
       "            \n",
       "                background-color:  #e5f5f9;\n",
       "            \n",
       "            }\n",
       "        \n",
       "            #T_79172db2_099d_11e7_a497_080027811109row1_col1 {\n",
       "            \n",
       "                background-color:  #f7fcfd;\n",
       "            \n",
       "            }\n",
       "        \n",
       "            #T_79172db2_099d_11e7_a497_080027811109row1_col2 {\n",
       "            \n",
       "                background-color:  #00441b;\n",
       "            \n",
       "            }\n",
       "        \n",
       "            #T_79172db2_099d_11e7_a497_080027811109row1_col3 {\n",
       "            \n",
       "                background-color:  #016e2d;\n",
       "            \n",
       "            }\n",
       "        \n",
       "            #T_79172db2_099d_11e7_a497_080027811109row2_col0 {\n",
       "            \n",
       "                background-color:  #54b88e;\n",
       "            \n",
       "            }\n",
       "        \n",
       "            #T_79172db2_099d_11e7_a497_080027811109row2_col1 {\n",
       "            \n",
       "                background-color:  #087432;\n",
       "            \n",
       "            }\n",
       "        \n",
       "            #T_79172db2_099d_11e7_a497_080027811109row2_col2 {\n",
       "            \n",
       "                background-color:  #f7fcfd;\n",
       "            \n",
       "            }\n",
       "        \n",
       "            #T_79172db2_099d_11e7_a497_080027811109row2_col3 {\n",
       "            \n",
       "                background-color:  #1a843f;\n",
       "            \n",
       "            }\n",
       "        \n",
       "            #T_79172db2_099d_11e7_a497_080027811109row3_col0 {\n",
       "            \n",
       "                background-color:  #00441b;\n",
       "            \n",
       "            }\n",
       "        \n",
       "            #T_79172db2_099d_11e7_a497_080027811109row3_col1 {\n",
       "            \n",
       "                background-color:  #00441b;\n",
       "            \n",
       "            }\n",
       "        \n",
       "            #T_79172db2_099d_11e7_a497_080027811109row3_col2 {\n",
       "            \n",
       "                background-color:  #00481d;\n",
       "            \n",
       "            }\n",
       "        \n",
       "            #T_79172db2_099d_11e7_a497_080027811109row3_col3 {\n",
       "            \n",
       "                background-color:  #f7fcfd;\n",
       "            \n",
       "            }\n",
       "        \n",
       "        </style>\n",
       "\n",
       "        <table id=\"T_79172db2_099d_11e7_a497_080027811109\" None>\n",
       "        \n",
       "\n",
       "        <thead>\n",
       "            \n",
       "            <tr>\n",
       "                \n",
       "                <th class=\"blank\">\n",
       "                \n",
       "                <th class=\"col_heading level0 col0\">0\n",
       "                \n",
       "                <th class=\"col_heading level0 col1\">1\n",
       "                \n",
       "                <th class=\"col_heading level0 col2\">2\n",
       "                \n",
       "                <th class=\"col_heading level0 col3\">3\n",
       "                \n",
       "            </tr>\n",
       "            \n",
       "        </thead>\n",
       "        <tbody>\n",
       "            \n",
       "            <tr>\n",
       "                \n",
       "                <th id=\"T_79172db2_099d_11e7_a497_080027811109\" class=\"row_heading level3 row0\">\n",
       "                    0\n",
       "                \n",
       "                <td id=\"T_79172db2_099d_11e7_a497_080027811109row0_col0\" class=\"data row0 col0\">\n",
       "                    0\n",
       "                \n",
       "                <td id=\"T_79172db2_099d_11e7_a497_080027811109row0_col1\" class=\"data row0 col1\">\n",
       "                    0.0518063\n",
       "                \n",
       "                <td id=\"T_79172db2_099d_11e7_a497_080027811109row0_col2\" class=\"data row0 col2\">\n",
       "                    0.260542\n",
       "                \n",
       "                <td id=\"T_79172db2_099d_11e7_a497_080027811109row0_col3\" class=\"data row0 col3\">\n",
       "                    0.687651\n",
       "                \n",
       "            </tr>\n",
       "            \n",
       "            <tr>\n",
       "                \n",
       "                <th id=\"T_79172db2_099d_11e7_a497_080027811109\" class=\"row_heading level3 row1\">\n",
       "                    1\n",
       "                \n",
       "                <td id=\"T_79172db2_099d_11e7_a497_080027811109row1_col0\" class=\"data row1 col0\">\n",
       "                    0.0313122\n",
       "                \n",
       "                <td id=\"T_79172db2_099d_11e7_a497_080027811109row1_col1\" class=\"data row1 col1\">\n",
       "                    0\n",
       "                \n",
       "                <td id=\"T_79172db2_099d_11e7_a497_080027811109row1_col2\" class=\"data row1 col2\">\n",
       "                    0.37208\n",
       "                \n",
       "                <td id=\"T_79172db2_099d_11e7_a497_080027811109row1_col3\" class=\"data row1 col3\">\n",
       "                    0.596608\n",
       "                \n",
       "            </tr>\n",
       "            \n",
       "            <tr>\n",
       "                \n",
       "                <th id=\"T_79172db2_099d_11e7_a497_080027811109\" class=\"row_heading level3 row2\">\n",
       "                    2\n",
       "                \n",
       "                <td id=\"T_79172db2_099d_11e7_a497_080027811109row2_col0\" class=\"data row2 col0\">\n",
       "                    0.138663\n",
       "                \n",
       "                <td id=\"T_79172db2_099d_11e7_a497_080027811109row2_col1\" class=\"data row2 col1\">\n",
       "                    0.325373\n",
       "                \n",
       "                <td id=\"T_79172db2_099d_11e7_a497_080027811109row2_col2\" class=\"data row2 col2\">\n",
       "                    0\n",
       "                \n",
       "                <td id=\"T_79172db2_099d_11e7_a497_080027811109row2_col3\" class=\"data row2 col3\">\n",
       "                    0.535964\n",
       "                \n",
       "            </tr>\n",
       "            \n",
       "            <tr>\n",
       "                \n",
       "                <th id=\"T_79172db2_099d_11e7_a497_080027811109\" class=\"row_heading level3 row3\">\n",
       "                    3\n",
       "                \n",
       "                <td id=\"T_79172db2_099d_11e7_a497_080027811109row3_col0\" class=\"data row3 col0\">\n",
       "                    0.246765\n",
       "                \n",
       "                <td id=\"T_79172db2_099d_11e7_a497_080027811109row3_col1\" class=\"data row3 col1\">\n",
       "                    0.385581\n",
       "                \n",
       "                <td id=\"T_79172db2_099d_11e7_a497_080027811109row3_col2\" class=\"data row3 col2\">\n",
       "                    0.367654\n",
       "                \n",
       "                <td id=\"T_79172db2_099d_11e7_a497_080027811109row3_col3\" class=\"data row3 col3\">\n",
       "                    0\n",
       "                \n",
       "            </tr>\n",
       "            \n",
       "        </tbody>\n",
       "        </table>\n",
       "        "
      ],
      "text/plain": [
       "<pandas.core.style.Styler at 0x7fcefc22eb10>"
      ]
     },
     "execution_count": 48,
     "metadata": {},
     "output_type": "execute_result"
    }
   ],
   "source": [
    "# Transition probablilites\n",
    "pd.DataFrame(model.trans_distn.trans_matrix).style.background_gradient(cmap='BuGn')"
   ]
  },
  {
   "cell_type": "code",
   "execution_count": null,
   "metadata": {
    "collapsed": true
   },
   "outputs": [],
   "source": []
  }
 ],
 "metadata": {
  "kernelspec": {
   "display_name": "Python [default]",
   "language": "python",
   "name": "python2"
  },
  "language_info": {
   "codemirror_mode": {
    "name": "ipython",
    "version": 2
   },
   "file_extension": ".py",
   "mimetype": "text/x-python",
   "name": "python",
   "nbconvert_exporter": "python",
   "pygments_lexer": "ipython2",
   "version": "2.7.11"
  }
 },
 "nbformat": 4,
 "nbformat_minor": 0
}
