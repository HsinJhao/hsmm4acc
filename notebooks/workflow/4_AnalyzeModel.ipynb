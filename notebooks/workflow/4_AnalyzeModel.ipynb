{
 "cells": [
  {
   "cell_type": "code",
   "execution_count": 3,
   "metadata": {
    "collapsed": false
   },
   "outputs": [
    {
     "name": "stdout",
     "output_type": "stream",
     "text": [
      "The autoreload extension is already loaded. To reload it, use:\n",
      "  %reload_ext autoreload\n"
     ]
    }
   ],
   "source": [
    "%matplotlib inline\n",
    "%load_ext autoreload\n",
    "%autoreload 2\n",
    "import pandas as pd\n",
    "import os\n",
    "import numpy as np\n",
    "import matplotlib.pyplot as plt\n",
    "import sys"
   ]
  },
  {
   "cell_type": "code",
   "execution_count": 4,
   "metadata": {
    "collapsed": false
   },
   "outputs": [],
   "source": [
    "sys.path.insert(0, os.path.abspath('../..'))\n",
    "from UKMovementSensing import hsmm"
   ]
  },
  {
   "cell_type": "code",
   "execution_count": 5,
   "metadata": {
    "collapsed": true
   },
   "outputs": [],
   "source": [
    "execfile('config.py')"
   ]
  },
  {
   "cell_type": "markdown",
   "metadata": {},
   "source": [
    "## Load model"
   ]
  },
  {
   "cell_type": "code",
   "execution_count": 6,
   "metadata": {
    "collapsed": false
   },
   "outputs": [],
   "source": [
    "import pickle\n",
    "with open(os.path.join(model_path, model_name+'.pkl'), 'r') as f:\n",
    "    model = pickle.load(file=f)"
   ]
  },
  {
   "cell_type": "code",
   "execution_count": 9,
   "metadata": {
    "collapsed": false
   },
   "outputs": [
    {
     "name": "stdout",
     "output_type": "stream",
     "text": [
      "{'mu': array([ 0.00206767]), 'sigma': array([[  6.94190530e-05]])}\n",
      "{'mu': array([ 0.02461211]), 'sigma': array([[ 0.00079834]])}\n",
      "{'mu': array([ 0.0999375]), 'sigma': array([[ 0.00763471]])}\n",
      "{'mu': array([ 0.47909379]), 'sigma': array([[ 0.48805683]])}\n"
     ]
    }
   ],
   "source": [
    "for o in model.obs_distns:\n",
    "    print(o.params)"
   ]
  },
  {
   "cell_type": "code",
   "execution_count": 15,
   "metadata": {
    "collapsed": false
   },
   "outputs": [
    {
     "data": {
      "text/html": [
       "\n",
       "        <style  type=\"text/css\" >\n",
       "        \n",
       "        \n",
       "            #T_6af8d332_096d_11e7_a497_080027811109row0_col0 {\n",
       "            \n",
       "                background-color:  #3b4cc0;\n",
       "            \n",
       "            }\n",
       "        \n",
       "            #T_6af8d332_096d_11e7_a497_080027811109row0_col1 {\n",
       "            \n",
       "                background-color:  #4961d2;\n",
       "            \n",
       "            }\n",
       "        \n",
       "            #T_6af8d332_096d_11e7_a497_080027811109row0_col2 {\n",
       "            \n",
       "                background-color:  #7da0f9;\n",
       "            \n",
       "            }\n",
       "        \n",
       "            #T_6af8d332_096d_11e7_a497_080027811109row0_col3 {\n",
       "            \n",
       "                background-color:  #b40426;\n",
       "            \n",
       "            }\n",
       "        \n",
       "        </style>\n",
       "\n",
       "        <table id=\"T_6af8d332_096d_11e7_a497_080027811109\" None>\n",
       "        \n",
       "\n",
       "        <thead>\n",
       "            \n",
       "            <tr>\n",
       "                \n",
       "                <th class=\"blank\">\n",
       "                \n",
       "                <th class=\"col_heading level0 col0\">0\n",
       "                \n",
       "                <th class=\"col_heading level0 col1\">1\n",
       "                \n",
       "                <th class=\"col_heading level0 col2\">2\n",
       "                \n",
       "                <th class=\"col_heading level0 col3\">3\n",
       "                \n",
       "            </tr>\n",
       "            \n",
       "        </thead>\n",
       "        <tbody>\n",
       "            \n",
       "            <tr>\n",
       "                \n",
       "                <th id=\"T_6af8d332_096d_11e7_a497_080027811109\" class=\"row_heading level3 row0\">\n",
       "                    acceleration\n",
       "                \n",
       "                <td id=\"T_6af8d332_096d_11e7_a497_080027811109row0_col0\" class=\"data row0 col0\">\n",
       "                    0.00206767\n",
       "                \n",
       "                <td id=\"T_6af8d332_096d_11e7_a497_080027811109row0_col1\" class=\"data row0 col1\">\n",
       "                    0.0246121\n",
       "                \n",
       "                <td id=\"T_6af8d332_096d_11e7_a497_080027811109row0_col2\" class=\"data row0 col2\">\n",
       "                    0.0999375\n",
       "                \n",
       "                <td id=\"T_6af8d332_096d_11e7_a497_080027811109row0_col3\" class=\"data row0 col3\">\n",
       "                    0.479094\n",
       "                \n",
       "            </tr>\n",
       "            \n",
       "        </tbody>\n",
       "        </table>\n",
       "        "
      ],
      "text/plain": [
       "<pandas.core.style.Styler at 0x7fcecf4c6b50>"
      ]
     },
     "execution_count": 15,
     "metadata": {},
     "output_type": "execute_result"
    }
   ],
   "source": [
    "means = pd.DataFrame([o.params['mu'] for o in model.obs_distns], columns=column_names)\n",
    "means.transpose().style.background_gradient(cmap='coolwarm',axis=1)"
   ]
  },
  {
   "cell_type": "code",
   "execution_count": 17,
   "metadata": {
    "collapsed": false
   },
   "outputs": [
    {
     "data": {
      "text/html": [
       "\n",
       "        <style  type=\"text/css\" >\n",
       "        \n",
       "        \n",
       "            #T_a6512272_096d_11e7_a497_080027811109row0_col0 {\n",
       "            \n",
       "                background-color:  #3b4cc0;\n",
       "            \n",
       "            }\n",
       "        \n",
       "            #T_a6512272_096d_11e7_a497_080027811109row0_col1 {\n",
       "            \n",
       "                background-color:  #3b4cc0;\n",
       "            \n",
       "            }\n",
       "        \n",
       "            #T_a6512272_096d_11e7_a497_080027811109row0_col2 {\n",
       "            \n",
       "                background-color:  #3e51c5;\n",
       "            \n",
       "            }\n",
       "        \n",
       "            #T_a6512272_096d_11e7_a497_080027811109row0_col3 {\n",
       "            \n",
       "                background-color:  #b40426;\n",
       "            \n",
       "            }\n",
       "        \n",
       "        </style>\n",
       "\n",
       "        <table id=\"T_a6512272_096d_11e7_a497_080027811109\" None>\n",
       "        \n",
       "\n",
       "        <thead>\n",
       "            \n",
       "            <tr>\n",
       "                \n",
       "                <th class=\"blank\">\n",
       "                \n",
       "                <th class=\"col_heading level0 col0\">0\n",
       "                \n",
       "                <th class=\"col_heading level0 col1\">1\n",
       "                \n",
       "                <th class=\"col_heading level0 col2\">2\n",
       "                \n",
       "                <th class=\"col_heading level0 col3\">3\n",
       "                \n",
       "            </tr>\n",
       "            \n",
       "        </thead>\n",
       "        <tbody>\n",
       "            \n",
       "            <tr>\n",
       "                \n",
       "                <th id=\"T_a6512272_096d_11e7_a497_080027811109\" class=\"row_heading level3 row0\">\n",
       "                    acceleration\n",
       "                \n",
       "                <td id=\"T_a6512272_096d_11e7_a497_080027811109row0_col0\" class=\"data row0 col0\">\n",
       "                    6.94191e-05\n",
       "                \n",
       "                <td id=\"T_a6512272_096d_11e7_a497_080027811109row0_col1\" class=\"data row0 col1\">\n",
       "                    0.000798341\n",
       "                \n",
       "                <td id=\"T_a6512272_096d_11e7_a497_080027811109row0_col2\" class=\"data row0 col2\">\n",
       "                    0.00763471\n",
       "                \n",
       "                <td id=\"T_a6512272_096d_11e7_a497_080027811109row0_col3\" class=\"data row0 col3\">\n",
       "                    0.488057\n",
       "                \n",
       "            </tr>\n",
       "            \n",
       "        </tbody>\n",
       "        </table>\n",
       "        "
      ],
      "text/plain": [
       "<pandas.core.style.Styler at 0x7fcecf713410>"
      ]
     },
     "execution_count": 17,
     "metadata": {},
     "output_type": "execute_result"
    }
   ],
   "source": [
    "sigmas = pd.DataFrame([o.params['sigma'][0] for o in model.obs_distns], columns=column_names)\n",
    "sigmas.transpose().style.background_gradient(cmap='coolwarm',axis=1)"
   ]
  },
  {
   "cell_type": "code",
   "execution_count": 33,
   "metadata": {
    "collapsed": false
   },
   "outputs": [
    {
     "data": {
      "text/html": [
       "<div>\n",
       "<table border=\"1\" class=\"dataframe\">\n",
       "  <thead>\n",
       "    <tr style=\"text-align: right;\">\n",
       "      <th></th>\n",
       "      <th>0</th>\n",
       "      <th>1</th>\n",
       "      <th>2</th>\n",
       "      <th>3</th>\n",
       "    </tr>\n",
       "  </thead>\n",
       "  <tbody>\n",
       "    <tr>\n",
       "      <th>duration</th>\n",
       "      <td>259.302</td>\n",
       "      <td>102.259</td>\n",
       "      <td>59.9788</td>\n",
       "      <td>10.9024</td>\n",
       "    </tr>\n",
       "    <tr>\n",
       "      <th>duration_sec</th>\n",
       "      <td>1297 sec</td>\n",
       "      <td>511 sec</td>\n",
       "      <td>300 sec</td>\n",
       "      <td>55 sec</td>\n",
       "    </tr>\n",
       "  </tbody>\n",
       "</table>\n",
       "</div>"
      ],
      "text/plain": [
       "                     0        1        2        3\n",
       "duration       259.302  102.259  59.9788  10.9024\n",
       "duration_sec  1297 sec  511 sec  300 sec   55 sec"
      ]
     },
     "execution_count": 33,
     "metadata": {},
     "output_type": "execute_result"
    }
   ],
   "source": [
    "durations = pd.DataFrame([o.params['lmbda'] for o in model.dur_distns], columns=['duration'])\n",
    "durations['duration_sec'] = [\"{} sec\".format(int(round(x*5))) for x in durations['duration']]\n",
    "durations.transpose()"
   ]
  },
  {
   "cell_type": "code",
   "execution_count": 39,
   "metadata": {
    "collapsed": false
   },
   "outputs": [
    {
     "data": {
      "text/html": [
       "\n",
       "        <style  type=\"text/css\" >\n",
       "        \n",
       "        \n",
       "            #T_733e655a_096f_11e7_a497_080027811109row0_col0 {\n",
       "            \n",
       "                background-color:  #f7fcfd;\n",
       "            \n",
       "            }\n",
       "        \n",
       "            #T_733e655a_096f_11e7_a497_080027811109row0_col1 {\n",
       "            \n",
       "                background-color:  #1e8741;\n",
       "            \n",
       "            }\n",
       "        \n",
       "            #T_733e655a_096f_11e7_a497_080027811109row0_col2 {\n",
       "            \n",
       "                background-color:  #edf8fb;\n",
       "            \n",
       "            }\n",
       "        \n",
       "            #T_733e655a_096f_11e7_a497_080027811109row0_col3 {\n",
       "            \n",
       "                background-color:  #00441b;\n",
       "            \n",
       "            }\n",
       "        \n",
       "            #T_733e655a_096f_11e7_a497_080027811109row1_col0 {\n",
       "            \n",
       "                background-color:  #39a569;\n",
       "            \n",
       "            }\n",
       "        \n",
       "            #T_733e655a_096f_11e7_a497_080027811109row1_col1 {\n",
       "            \n",
       "                background-color:  #f7fcfd;\n",
       "            \n",
       "            }\n",
       "        \n",
       "            #T_733e655a_096f_11e7_a497_080027811109row1_col2 {\n",
       "            \n",
       "                background-color:  #16803c;\n",
       "            \n",
       "            }\n",
       "        \n",
       "            #T_733e655a_096f_11e7_a497_080027811109row1_col3 {\n",
       "            \n",
       "                background-color:  #2d9655;\n",
       "            \n",
       "            }\n",
       "        \n",
       "            #T_733e655a_096f_11e7_a497_080027811109row2_col0 {\n",
       "            \n",
       "                background-color:  #d3eeeb;\n",
       "            \n",
       "            }\n",
       "        \n",
       "            #T_733e655a_096f_11e7_a497_080027811109row2_col1 {\n",
       "            \n",
       "                background-color:  #004c1e;\n",
       "            \n",
       "            }\n",
       "        \n",
       "            #T_733e655a_096f_11e7_a497_080027811109row2_col2 {\n",
       "            \n",
       "                background-color:  #f7fcfd;\n",
       "            \n",
       "            }\n",
       "        \n",
       "            #T_733e655a_096f_11e7_a497_080027811109row2_col3 {\n",
       "            \n",
       "                background-color:  #006529;\n",
       "            \n",
       "            }\n",
       "        \n",
       "            #T_733e655a_096f_11e7_a497_080027811109row3_col0 {\n",
       "            \n",
       "                background-color:  #00441b;\n",
       "            \n",
       "            }\n",
       "        \n",
       "            #T_733e655a_096f_11e7_a497_080027811109row3_col1 {\n",
       "            \n",
       "                background-color:  #00441b;\n",
       "            \n",
       "            }\n",
       "        \n",
       "            #T_733e655a_096f_11e7_a497_080027811109row3_col2 {\n",
       "            \n",
       "                background-color:  #00441b;\n",
       "            \n",
       "            }\n",
       "        \n",
       "            #T_733e655a_096f_11e7_a497_080027811109row3_col3 {\n",
       "            \n",
       "                background-color:  #f7fcfd;\n",
       "            \n",
       "            }\n",
       "        \n",
       "        </style>\n",
       "\n",
       "        <table id=\"T_733e655a_096f_11e7_a497_080027811109\" None>\n",
       "        \n",
       "\n",
       "        <thead>\n",
       "            \n",
       "            <tr>\n",
       "                \n",
       "                <th class=\"blank\">\n",
       "                \n",
       "                <th class=\"col_heading level0 col0\">0\n",
       "                \n",
       "                <th class=\"col_heading level0 col1\">1\n",
       "                \n",
       "                <th class=\"col_heading level0 col2\">2\n",
       "                \n",
       "                <th class=\"col_heading level0 col3\">3\n",
       "                \n",
       "            </tr>\n",
       "            \n",
       "        </thead>\n",
       "        <tbody>\n",
       "            \n",
       "            <tr>\n",
       "                \n",
       "                <th id=\"T_733e655a_096f_11e7_a497_080027811109\" class=\"row_heading level3 row0\">\n",
       "                    0\n",
       "                \n",
       "                <td id=\"T_733e655a_096f_11e7_a497_080027811109row0_col0\" class=\"data row0 col0\">\n",
       "                    0\n",
       "                \n",
       "                <td id=\"T_733e655a_096f_11e7_a497_080027811109row0_col1\" class=\"data row0 col1\">\n",
       "                    0.260925\n",
       "                \n",
       "                <td id=\"T_733e655a_096f_11e7_a497_080027811109row0_col2\" class=\"data row0 col2\">\n",
       "                    0.0348448\n",
       "                \n",
       "                <td id=\"T_733e655a_096f_11e7_a497_080027811109row0_col3\" class=\"data row0 col3\">\n",
       "                    0.70423\n",
       "                \n",
       "            </tr>\n",
       "            \n",
       "            <tr>\n",
       "                \n",
       "                <th id=\"T_733e655a_096f_11e7_a497_080027811109\" class=\"row_heading level3 row1\">\n",
       "                    1\n",
       "                \n",
       "                <td id=\"T_733e655a_096f_11e7_a497_080027811109row1_col0\" class=\"data row1 col0\">\n",
       "                    0.115637\n",
       "                \n",
       "                <td id=\"T_733e655a_096f_11e7_a497_080027811109row1_col1\" class=\"data row1 col1\">\n",
       "                    0\n",
       "                \n",
       "                <td id=\"T_733e655a_096f_11e7_a497_080027811109row1_col2\" class=\"data row1 col2\">\n",
       "                    0.385639\n",
       "                \n",
       "                <td id=\"T_733e655a_096f_11e7_a497_080027811109row1_col3\" class=\"data row1 col3\">\n",
       "                    0.498724\n",
       "                \n",
       "            </tr>\n",
       "            \n",
       "            <tr>\n",
       "                \n",
       "                <th id=\"T_733e655a_096f_11e7_a497_080027811109\" class=\"row_heading level3 row2\">\n",
       "                    2\n",
       "                \n",
       "                <td id=\"T_733e655a_096f_11e7_a497_080027811109row2_col0\" class=\"data row2 col0\">\n",
       "                    0.0384371\n",
       "                \n",
       "                <td id=\"T_733e655a_096f_11e7_a497_080027811109row2_col1\" class=\"data row2 col1\">\n",
       "                    0.331451\n",
       "                \n",
       "                <td id=\"T_733e655a_096f_11e7_a497_080027811109row2_col2\" class=\"data row2 col2\">\n",
       "                    0\n",
       "                \n",
       "                <td id=\"T_733e655a_096f_11e7_a497_080027811109row2_col3\" class=\"data row2 col3\">\n",
       "                    0.630112\n",
       "                \n",
       "            </tr>\n",
       "            \n",
       "            <tr>\n",
       "                \n",
       "                <th id=\"T_733e655a_096f_11e7_a497_080027811109\" class=\"row_heading level3 row3\">\n",
       "                    3\n",
       "                \n",
       "                <td id=\"T_733e655a_096f_11e7_a497_080027811109row3_col0\" class=\"data row3 col0\">\n",
       "                    0.176057\n",
       "                \n",
       "                <td id=\"T_733e655a_096f_11e7_a497_080027811109row3_col1\" class=\"data row3 col1\">\n",
       "                    0.339979\n",
       "                \n",
       "                <td id=\"T_733e655a_096f_11e7_a497_080027811109row3_col2\" class=\"data row3 col2\">\n",
       "                    0.483964\n",
       "                \n",
       "                <td id=\"T_733e655a_096f_11e7_a497_080027811109row3_col3\" class=\"data row3 col3\">\n",
       "                    0\n",
       "                \n",
       "            </tr>\n",
       "            \n",
       "        </tbody>\n",
       "        </table>\n",
       "        "
      ],
      "text/plain": [
       "<pandas.core.style.Styler at 0x7fcecf3e0850>"
      ]
     },
     "execution_count": 39,
     "metadata": {},
     "output_type": "execute_result"
    }
   ],
   "source": [
    "# Transition probablilites\n",
    "pd.DataFrame(model.trans_distn.trans_matrix).style.background_gradient(cmap='BuGn')"
   ]
  },
  {
   "cell_type": "code",
   "execution_count": null,
   "metadata": {
    "collapsed": true
   },
   "outputs": [],
   "source": []
  }
 ],
 "metadata": {
  "kernelspec": {
   "display_name": "Python [default]",
   "language": "python",
   "name": "python2"
  },
  "language_info": {
   "codemirror_mode": {
    "name": "ipython",
    "version": 2
   },
   "file_extension": ".py",
   "mimetype": "text/x-python",
   "name": "python",
   "nbconvert_exporter": "python",
   "pygments_lexer": "ipython2",
   "version": "2.7.11"
  }
 },
 "nbformat": 4,
 "nbformat_minor": 0
}
